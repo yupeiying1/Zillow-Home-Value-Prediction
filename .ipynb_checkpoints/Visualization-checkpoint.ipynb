{
 "cells": [
  {
   "cell_type": "code",
   "execution_count": 1,
   "metadata": {},
   "outputs": [],
   "source": [
    "import pandas as pd\n",
    "import numpy as np\n",
    "%matplotlib inline\n",
    "import matplotlib.pyplot as plt\n",
    "plt.style.use('seaborn')"
   ]
  },
  {
   "cell_type": "code",
   "execution_count": 2,
   "metadata": {},
   "outputs": [],
   "source": [
    "df = pd.read_csv('data for visual.csv')"
   ]
  },
  {
   "cell_type": "code",
   "execution_count": 3,
   "metadata": {},
   "outputs": [
    {
     "data": {
      "text/html": [
       "<div>\n",
       "<style scoped>\n",
       "    .dataframe tbody tr th:only-of-type {\n",
       "        vertical-align: middle;\n",
       "    }\n",
       "\n",
       "    .dataframe tbody tr th {\n",
       "        vertical-align: top;\n",
       "    }\n",
       "\n",
       "    .dataframe thead th {\n",
       "        text-align: right;\n",
       "    }\n",
       "</style>\n",
       "<table border=\"1\" class=\"dataframe\">\n",
       "  <thead>\n",
       "    <tr style=\"text-align: right;\">\n",
       "      <th></th>\n",
       "      <th>Neighborhood</th>\n",
       "      <th>bath</th>\n",
       "      <th>bed</th>\n",
       "      <th>latitude</th>\n",
       "      <th>logitude</th>\n",
       "      <th>price</th>\n",
       "      <th>size</th>\n",
       "      <th>year built</th>\n",
       "      <th>zipcode</th>\n",
       "    </tr>\n",
       "  </thead>\n",
       "  <tbody>\n",
       "    <tr>\n",
       "      <th>0</th>\n",
       "      <td>Central Harlem</td>\n",
       "      <td>1.0</td>\n",
       "      <td>3.0</td>\n",
       "      <td>40.801399</td>\n",
       "      <td>-73.954902</td>\n",
       "      <td>375000.0</td>\n",
       "      <td>NaN</td>\n",
       "      <td>1920</td>\n",
       "      <td>10026.0</td>\n",
       "    </tr>\n",
       "    <tr>\n",
       "      <th>1</th>\n",
       "      <td>Central Harlem</td>\n",
       "      <td>1.0</td>\n",
       "      <td>1.0</td>\n",
       "      <td>40.805369</td>\n",
       "      <td>-73.951677</td>\n",
       "      <td>279000.0</td>\n",
       "      <td>NaN</td>\n",
       "      <td>1900</td>\n",
       "      <td>10026.0</td>\n",
       "    </tr>\n",
       "    <tr>\n",
       "      <th>2</th>\n",
       "      <td>Central Harlem</td>\n",
       "      <td>1.0</td>\n",
       "      <td>3.0</td>\n",
       "      <td>40.804500</td>\n",
       "      <td>-73.958000</td>\n",
       "      <td>350000.0</td>\n",
       "      <td>NaN</td>\n",
       "      <td>1910</td>\n",
       "      <td>10026.0</td>\n",
       "    </tr>\n",
       "    <tr>\n",
       "      <th>3</th>\n",
       "      <td>Central Harlem</td>\n",
       "      <td>4.0</td>\n",
       "      <td>6.0</td>\n",
       "      <td>40.805301</td>\n",
       "      <td>-73.957099</td>\n",
       "      <td>1350000.0</td>\n",
       "      <td>3264.0</td>\n",
       "      <td>1901</td>\n",
       "      <td>10026.0</td>\n",
       "    </tr>\n",
       "    <tr>\n",
       "      <th>4</th>\n",
       "      <td>Central Harlem</td>\n",
       "      <td>4.0</td>\n",
       "      <td>5.0</td>\n",
       "      <td>40.802393</td>\n",
       "      <td>-73.957916</td>\n",
       "      <td>3995000.0</td>\n",
       "      <td>3333.0</td>\n",
       "      <td>1900</td>\n",
       "      <td>10026.0</td>\n",
       "    </tr>\n",
       "  </tbody>\n",
       "</table>\n",
       "</div>"
      ],
      "text/plain": [
       "     Neighborhood  bath  bed   latitude   logitude      price    size  \\\n",
       "0  Central Harlem   1.0  3.0  40.801399 -73.954902   375000.0     NaN   \n",
       "1  Central Harlem   1.0  1.0  40.805369 -73.951677   279000.0     NaN   \n",
       "2  Central Harlem   1.0  3.0  40.804500 -73.958000   350000.0     NaN   \n",
       "3  Central Harlem   4.0  6.0  40.805301 -73.957099  1350000.0  3264.0   \n",
       "4  Central Harlem   4.0  5.0  40.802393 -73.957916  3995000.0  3333.0   \n",
       "\n",
       "  year built  zipcode  \n",
       "0       1920  10026.0  \n",
       "1       1900  10026.0  \n",
       "2       1910  10026.0  \n",
       "3       1901  10026.0  \n",
       "4       1900  10026.0  "
      ]
     },
     "execution_count": 3,
     "metadata": {},
     "output_type": "execute_result"
    }
   ],
   "source": [
    "df.head()"
   ]
  },
  {
   "cell_type": "markdown",
   "metadata": {},
   "source": [
    "- Plot the number of homes for sale by zipcode"
   ]
  },
  {
   "cell_type": "code",
   "execution_count": 6,
   "metadata": {},
   "outputs": [
    {
     "data": {
      "text/plain": [
       "<matplotlib.axes._subplots.AxesSubplot at 0x114820710>"
      ]
     },
     "execution_count": 6,
     "metadata": {},
     "output_type": "execute_result"
    },
    {
     "data": {
      "image/png": "[encoded data removed]",
      "text/plain": [
       "<matplotlib.figure.Figure at 0x1147e0f60>"
      ]
     },
     "metadata": {},
     "output_type": "display_data"
    }
   ],
   "source": [
    "zipcode_group = df.groupby('Neighborhood')\n",
    "zipcode_group.size().plot(kind='bar')"
   ]
  },
  {
   "cell_type": "markdown",
   "metadata": {},
   "source": [
    "- Plot the number of homes for sale by neighborhood"
   ]
  },
  {
   "cell_type": "code",
   "execution_count": 7,
   "metadata": {},
   "outputs": [
    {
     "data": {
      "text/plain": [
       "<matplotlib.axes._subplots.AxesSubplot at 0x114830cf8>"
      ]
     },
     "execution_count": 7,
     "metadata": {},
     "output_type": "execute_result"
    },
    {
     "data": {
      "image/png": "[encoded data removed]",
      "text/plain": [
       "<matplotlib.figure.Figure at 0x11484c550>"
      ]
     },
     "metadata": {},
     "output_type": "display_data"
    }
   ],
   "source": [
    "neiborhood_group = df.groupby('Neighborhood')\n",
    "neiborhood_group.size().plot(kind='bar')"
   ]
  },
  {
   "cell_type": "code",
   "execution_count": 8,
   "metadata": {},
   "outputs": [
    {
     "data": {
      "text/plain": [
       "<matplotlib.axes._subplots.AxesSubplot at 0x1148de518>"
      ]
     },
     "execution_count": 8,
     "metadata": {},
     "output_type": "execute_result"
    },
    {
     "data": {
      "image/png": "[encoded data removed]",
      "text/plain": [
       "<matplotlib.figure.Figure at 0x114937358>"
      ]
     },
     "metadata": {},
     "output_type": "display_data"
    }
   ],
   "source": [
    "zipcode_neiborhood = df.groupby(['zipcode','Neighborhood'])\n",
    "zipcode_neiborhood.size().unstack().plot(kind='bar')\n"
   ]
  },
  {
   "cell_type": "code",
   "execution_count": 9,
   "metadata": {},
   "outputs": [
    {
     "data": {
      "text/html": [
       "<div>\n",
       "<style scoped>\n",
       "    .dataframe tbody tr th:only-of-type {\n",
       "        vertical-align: middle;\n",
       "    }\n",
       "\n",
       "    .dataframe tbody tr th {\n",
       "        vertical-align: top;\n",
       "    }\n",
       "\n",
       "    .dataframe thead th {\n",
       "        text-align: right;\n",
       "    }\n",
       "</style>\n",
       "<table border=\"1\" class=\"dataframe\">\n",
       "  <thead>\n",
       "    <tr style=\"text-align: right;\">\n",
       "      <th></th>\n",
       "      <th>count</th>\n",
       "      <th>mean</th>\n",
       "      <th>std</th>\n",
       "      <th>min</th>\n",
       "      <th>25%</th>\n",
       "      <th>50%</th>\n",
       "      <th>75%</th>\n",
       "      <th>max</th>\n",
       "    </tr>\n",
       "    <tr>\n",
       "      <th>Neighborhood</th>\n",
       "      <th></th>\n",
       "      <th></th>\n",
       "      <th></th>\n",
       "      <th></th>\n",
       "      <th></th>\n",
       "      <th></th>\n",
       "      <th></th>\n",
       "      <th></th>\n",
       "    </tr>\n",
       "  </thead>\n",
       "  <tbody>\n",
       "    <tr>\n",
       "      <th>Central Harlem</th>\n",
       "      <td>254.0</td>\n",
       "      <td>1.495860e+06</td>\n",
       "      <td>1.376614e+06</td>\n",
       "      <td>229000.0</td>\n",
       "      <td>676250.0</td>\n",
       "      <td>972500.0</td>\n",
       "      <td>1948750.0</td>\n",
       "      <td>11900000.0</td>\n",
       "    </tr>\n",
       "    <tr>\n",
       "      <th>Chelsea and Clinton</th>\n",
       "      <td>627.0</td>\n",
       "      <td>6.373493e+06</td>\n",
       "      <td>1.078630e+07</td>\n",
       "      <td>249000.0</td>\n",
       "      <td>1057500.0</td>\n",
       "      <td>2299000.0</td>\n",
       "      <td>6500000.0</td>\n",
       "      <td>88000000.0</td>\n",
       "    </tr>\n",
       "    <tr>\n",
       "      <th>East Harlem</th>\n",
       "      <td>94.0</td>\n",
       "      <td>1.433678e+06</td>\n",
       "      <td>1.879204e+06</td>\n",
       "      <td>115000.0</td>\n",
       "      <td>612250.0</td>\n",
       "      <td>759704.5</td>\n",
       "      <td>1098750.0</td>\n",
       "      <td>15500000.0</td>\n",
       "    </tr>\n",
       "    <tr>\n",
       "      <th>Garment-District</th>\n",
       "      <td>2.0</td>\n",
       "      <td>7.644950e+05</td>\n",
       "      <td>1.209082e+05</td>\n",
       "      <td>679000.0</td>\n",
       "      <td>721747.5</td>\n",
       "      <td>764495.0</td>\n",
       "      <td>807242.5</td>\n",
       "      <td>849990.0</td>\n",
       "    </tr>\n",
       "    <tr>\n",
       "      <th>Gramercy Park and Murray Hill</th>\n",
       "      <td>680.0</td>\n",
       "      <td>3.425567e+06</td>\n",
       "      <td>6.401425e+06</td>\n",
       "      <td>5250.0</td>\n",
       "      <td>742750.0</td>\n",
       "      <td>1352500.0</td>\n",
       "      <td>3495000.0</td>\n",
       "      <td>77700000.0</td>\n",
       "    </tr>\n",
       "    <tr>\n",
       "      <th>Greenwich Village and Soho</th>\n",
       "      <td>491.0</td>\n",
       "      <td>6.143121e+06</td>\n",
       "      <td>7.652360e+06</td>\n",
       "      <td>425000.0</td>\n",
       "      <td>1820000.0</td>\n",
       "      <td>3850000.0</td>\n",
       "      <td>7892500.0</td>\n",
       "      <td>80000000.0</td>\n",
       "    </tr>\n",
       "    <tr>\n",
       "      <th>Hells-Kitchen</th>\n",
       "      <td>89.0</td>\n",
       "      <td>2.586552e+06</td>\n",
       "      <td>4.158278e+06</td>\n",
       "      <td>340000.0</td>\n",
       "      <td>795000.0</td>\n",
       "      <td>1200000.0</td>\n",
       "      <td>2300000.0</td>\n",
       "      <td>32000000.0</td>\n",
       "    </tr>\n",
       "    <tr>\n",
       "      <th>Inwood and Washington Heights</th>\n",
       "      <td>171.0</td>\n",
       "      <td>8.876723e+05</td>\n",
       "      <td>9.244581e+05</td>\n",
       "      <td>125000.0</td>\n",
       "      <td>399000.0</td>\n",
       "      <td>550000.0</td>\n",
       "      <td>850000.0</td>\n",
       "      <td>5850000.0</td>\n",
       "    </tr>\n",
       "    <tr>\n",
       "      <th>Long Island City</th>\n",
       "      <td>286.0</td>\n",
       "      <td>1.359773e+06</td>\n",
       "      <td>9.273469e+05</td>\n",
       "      <td>228888.0</td>\n",
       "      <td>752416.0</td>\n",
       "      <td>1187500.0</td>\n",
       "      <td>1599750.0</td>\n",
       "      <td>6750000.0</td>\n",
       "    </tr>\n",
       "    <tr>\n",
       "      <th>Lower East Side</th>\n",
       "      <td>354.0</td>\n",
       "      <td>2.510881e+06</td>\n",
       "      <td>2.846511e+06</td>\n",
       "      <td>295000.0</td>\n",
       "      <td>875000.0</td>\n",
       "      <td>1524500.0</td>\n",
       "      <td>2749750.0</td>\n",
       "      <td>21500000.0</td>\n",
       "    </tr>\n",
       "    <tr>\n",
       "      <th>Lower Manhattan</th>\n",
       "      <td>455.0</td>\n",
       "      <td>2.691797e+06</td>\n",
       "      <td>3.540199e+06</td>\n",
       "      <td>510000.0</td>\n",
       "      <td>950000.0</td>\n",
       "      <td>1695000.0</td>\n",
       "      <td>3050000.0</td>\n",
       "      <td>40000000.0</td>\n",
       "    </tr>\n",
       "    <tr>\n",
       "      <th>Midtown</th>\n",
       "      <td>136.0</td>\n",
       "      <td>2.141381e+06</td>\n",
       "      <td>2.083082e+06</td>\n",
       "      <td>359000.0</td>\n",
       "      <td>925000.0</td>\n",
       "      <td>1622500.0</td>\n",
       "      <td>2575000.0</td>\n",
       "      <td>19950000.0</td>\n",
       "    </tr>\n",
       "    <tr>\n",
       "      <th>Roosevelt Island</th>\n",
       "      <td>10.0</td>\n",
       "      <td>1.230300e+06</td>\n",
       "      <td>5.439767e+05</td>\n",
       "      <td>430000.0</td>\n",
       "      <td>922500.0</td>\n",
       "      <td>1299500.0</td>\n",
       "      <td>1477500.0</td>\n",
       "      <td>2225000.0</td>\n",
       "    </tr>\n",
       "    <tr>\n",
       "      <th>Sutton-Place</th>\n",
       "      <td>186.0</td>\n",
       "      <td>1.745604e+06</td>\n",
       "      <td>1.904806e+06</td>\n",
       "      <td>364000.0</td>\n",
       "      <td>811500.0</td>\n",
       "      <td>1237000.0</td>\n",
       "      <td>1992500.0</td>\n",
       "      <td>15750000.0</td>\n",
       "    </tr>\n",
       "    <tr>\n",
       "      <th>Tudor-City</th>\n",
       "      <td>56.0</td>\n",
       "      <td>1.422337e+06</td>\n",
       "      <td>9.012462e+05</td>\n",
       "      <td>2995.0</td>\n",
       "      <td>737500.0</td>\n",
       "      <td>1092000.0</td>\n",
       "      <td>1998750.0</td>\n",
       "      <td>3880000.0</td>\n",
       "    </tr>\n",
       "    <tr>\n",
       "      <th>Turtle-Bay</th>\n",
       "      <td>89.0</td>\n",
       "      <td>2.383617e+06</td>\n",
       "      <td>2.178177e+06</td>\n",
       "      <td>359000.0</td>\n",
       "      <td>850000.0</td>\n",
       "      <td>1750000.0</td>\n",
       "      <td>2895000.0</td>\n",
       "      <td>14000000.0</td>\n",
       "    </tr>\n",
       "    <tr>\n",
       "      <th>Upper East Side</th>\n",
       "      <td>890.0</td>\n",
       "      <td>4.786283e+06</td>\n",
       "      <td>6.723792e+06</td>\n",
       "      <td>295000.0</td>\n",
       "      <td>936000.0</td>\n",
       "      <td>2250000.0</td>\n",
       "      <td>5500000.0</td>\n",
       "      <td>59000000.0</td>\n",
       "    </tr>\n",
       "    <tr>\n",
       "      <th>Upper West Side</th>\n",
       "      <td>586.0</td>\n",
       "      <td>3.707005e+06</td>\n",
       "      <td>4.353122e+06</td>\n",
       "      <td>150000.0</td>\n",
       "      <td>927500.0</td>\n",
       "      <td>1897500.0</td>\n",
       "      <td>4470000.0</td>\n",
       "      <td>26500000.0</td>\n",
       "    </tr>\n",
       "    <tr>\n",
       "      <th>murray-hill</th>\n",
       "      <td>48.0</td>\n",
       "      <td>9.314792e+05</td>\n",
       "      <td>4.272113e+05</td>\n",
       "      <td>448000.0</td>\n",
       "      <td>698000.0</td>\n",
       "      <td>797000.0</td>\n",
       "      <td>1095000.0</td>\n",
       "      <td>2475000.0</td>\n",
       "    </tr>\n",
       "  </tbody>\n",
       "</table>\n",
       "</div>"
      ],
      "text/plain": [
       "                               count          mean           std       min  \\\n",
       "Neighborhood                                                                 \n",
       "Central Harlem                 254.0  1.495860e+06  1.376614e+06  229000.0   \n",
       "Chelsea and Clinton            627.0  6.373493e+06  1.078630e+07  249000.0   \n",
       "East Harlem                     94.0  1.433678e+06  1.879204e+06  115000.0   \n",
       "Garment-District                 2.0  7.644950e+05  1.209082e+05  679000.0   \n",
       "Gramercy Park and Murray Hill  680.0  3.425567e+06  6.401425e+06    5250.0   \n",
       "Greenwich Village and Soho     491.0  6.143121e+06  7.652360e+06  425000.0   \n",
       "Hells-Kitchen                   89.0  2.586552e+06  4.158278e+06  340000.0   \n",
       "Inwood and Washington Heights  171.0  8.876723e+05  9.244581e+05  125000.0   \n",
       "Long Island City               286.0  1.359773e+06  9.273469e+05  228888.0   \n",
       "Lower East Side                354.0  2.510881e+06  2.846511e+06  295000.0   \n",
       "Lower Manhattan                455.0  2.691797e+06  3.540199e+06  510000.0   \n",
       "Midtown                        136.0  2.141381e+06  2.083082e+06  359000.0   \n",
       "Roosevelt Island                10.0  1.230300e+06  5.439767e+05  430000.0   \n",
       "Sutton-Place                   186.0  1.745604e+06  1.904806e+06  364000.0   \n",
       "Tudor-City                      56.0  1.422337e+06  9.012462e+05    2995.0   \n",
       "Turtle-Bay                      89.0  2.383617e+06  2.178177e+06  359000.0   \n",
       "Upper East Side                890.0  4.786283e+06  6.723792e+06  295000.0   \n",
       "Upper West Side                586.0  3.707005e+06  4.353122e+06  150000.0   \n",
       "murray-hill                     48.0  9.314792e+05  4.272113e+05  448000.0   \n",
       "\n",
       "                                     25%        50%        75%         max  \n",
       "Neighborhood                                                                \n",
       "Central Harlem                  676250.0   972500.0  1948750.0  11900000.0  \n",
       "Chelsea and Clinton            1057500.0  2299000.0  6500000.0  88000000.0  \n",
       "East Harlem                     612250.0   759704.5  1098750.0  15500000.0  \n",
       "Garment-District                721747.5   764495.0   807242.5    849990.0  \n",
       "Gramercy Park and Murray Hill   742750.0  1352500.0  3495000.0  77700000.0  \n",
       "Greenwich Village and Soho     1820000.0  3850000.0  7892500.0  80000000.0  \n",
       "Hells-Kitchen                   795000.0  1200000.0  2300000.0  32000000.0  \n",
       "Inwood and Washington Heights   399000.0   550000.0   850000.0   5850000.0  \n",
       "Long Island City                752416.0  1187500.0  1599750.0   6750000.0  \n",
       "Lower East Side                 875000.0  1524500.0  2749750.0  21500000.0  \n",
       "Lower Manhattan                 950000.0  1695000.0  3050000.0  40000000.0  \n",
       "Midtown                         925000.0  1622500.0  2575000.0  19950000.0  \n",
       "Roosevelt Island                922500.0  1299500.0  1477500.0   2225000.0  \n",
       "Sutton-Place                    811500.0  1237000.0  1992500.0  15750000.0  \n",
       "Tudor-City                      737500.0  1092000.0  1998750.0   3880000.0  \n",
       "Turtle-Bay                      850000.0  1750000.0  2895000.0  14000000.0  \n",
       "Upper East Side                 936000.0  2250000.0  5500000.0  59000000.0  \n",
       "Upper West Side                 927500.0  1897500.0  4470000.0  26500000.0  \n",
       "murray-hill                     698000.0   797000.0  1095000.0   2475000.0  "
      ]
     },
     "execution_count": 9,
     "metadata": {},
     "output_type": "execute_result"
    }
   ],
   "source": [
    "neiborhood_group['price'].describe()"
   ]
  },
  {
   "cell_type": "code",
   "execution_count": 66,
   "metadata": {},
   "outputs": [
    {
     "data": {
      "text/html": [
       "<div>\n",
       "<style scoped>\n",
       "    .dataframe tbody tr th:only-of-type {\n",
       "        vertical-align: middle;\n",
       "    }\n",
       "\n",
       "    .dataframe tbody tr th {\n",
       "        vertical-align: top;\n",
       "    }\n",
       "\n",
       "    .dataframe thead th {\n",
       "        text-align: right;\n",
       "    }\n",
       "</style>\n",
       "<table border=\"1\" class=\"dataframe\">\n",
       "  <thead>\n",
       "    <tr style=\"text-align: right;\">\n",
       "      <th></th>\n",
       "      <th>count</th>\n",
       "      <th>mean</th>\n",
       "      <th>std</th>\n",
       "      <th>min</th>\n",
       "      <th>25%</th>\n",
       "      <th>50%</th>\n",
       "      <th>75%</th>\n",
       "      <th>max</th>\n",
       "    </tr>\n",
       "    <tr>\n",
       "      <th>zipcode</th>\n",
       "      <th></th>\n",
       "      <th></th>\n",
       "      <th></th>\n",
       "      <th></th>\n",
       "      <th></th>\n",
       "      <th></th>\n",
       "      <th></th>\n",
       "      <th></th>\n",
       "    </tr>\n",
       "  </thead>\n",
       "  <tbody>\n",
       "    <tr>\n",
       "      <th>10001</th>\n",
       "      <td>13.0</td>\n",
       "      <td>9.649923e+06</td>\n",
       "      <td>7.357927e+06</td>\n",
       "      <td>450000.0</td>\n",
       "      <td>5775000.0</td>\n",
       "      <td>8750000.0</td>\n",
       "      <td>10825000.0</td>\n",
       "      <td>27750000.0</td>\n",
       "    </tr>\n",
       "    <tr>\n",
       "      <th>10016</th>\n",
       "      <td>170.0</td>\n",
       "      <td>1.566557e+06</td>\n",
       "      <td>1.552738e+06</td>\n",
       "      <td>2995.0</td>\n",
       "      <td>704250.0</td>\n",
       "      <td>1072000.0</td>\n",
       "      <td>1891250.0</td>\n",
       "      <td>11650000.0</td>\n",
       "    </tr>\n",
       "    <tr>\n",
       "      <th>10017</th>\n",
       "      <td>124.0</td>\n",
       "      <td>2.109541e+06</td>\n",
       "      <td>3.502090e+06</td>\n",
       "      <td>295000.0</td>\n",
       "      <td>638750.0</td>\n",
       "      <td>899000.0</td>\n",
       "      <td>2202500.0</td>\n",
       "      <td>32000000.0</td>\n",
       "    </tr>\n",
       "    <tr>\n",
       "      <th>10018</th>\n",
       "      <td>21.0</td>\n",
       "      <td>3.134428e+06</td>\n",
       "      <td>3.436709e+06</td>\n",
       "      <td>679000.0</td>\n",
       "      <td>895000.0</td>\n",
       "      <td>2500000.0</td>\n",
       "      <td>3600000.0</td>\n",
       "      <td>16300000.0</td>\n",
       "    </tr>\n",
       "    <tr>\n",
       "      <th>10019</th>\n",
       "      <td>310.0</td>\n",
       "      <td>4.319938e+06</td>\n",
       "      <td>7.950329e+06</td>\n",
       "      <td>249000.0</td>\n",
       "      <td>849250.0</td>\n",
       "      <td>1625000.0</td>\n",
       "      <td>3483725.0</td>\n",
       "      <td>63815000.0</td>\n",
       "    </tr>\n",
       "    <tr>\n",
       "      <th>10022</th>\n",
       "      <td>370.0</td>\n",
       "      <td>2.988301e+06</td>\n",
       "      <td>4.910154e+06</td>\n",
       "      <td>290000.0</td>\n",
       "      <td>880000.0</td>\n",
       "      <td>1550000.0</td>\n",
       "      <td>2761250.0</td>\n",
       "      <td>45000000.0</td>\n",
       "    </tr>\n",
       "    <tr>\n",
       "      <th>10036</th>\n",
       "      <td>128.0</td>\n",
       "      <td>3.073158e+06</td>\n",
       "      <td>8.826835e+06</td>\n",
       "      <td>465000.0</td>\n",
       "      <td>998750.0</td>\n",
       "      <td>1425000.0</td>\n",
       "      <td>1984975.0</td>\n",
       "      <td>85000000.0</td>\n",
       "    </tr>\n",
       "  </tbody>\n",
       "</table>\n",
       "</div>"
      ],
      "text/plain": [
       "         count          mean           std       min        25%        50%  \\\n",
       "zipcode                                                                      \n",
       "10001     13.0  9.649923e+06  7.357927e+06  450000.0  5775000.0  8750000.0   \n",
       "10016    170.0  1.566557e+06  1.552738e+06    2995.0   704250.0  1072000.0   \n",
       "10017    124.0  2.109541e+06  3.502090e+06  295000.0   638750.0   899000.0   \n",
       "10018     21.0  3.134428e+06  3.436709e+06  679000.0   895000.0  2500000.0   \n",
       "10019    310.0  4.319938e+06  7.950329e+06  249000.0   849250.0  1625000.0   \n",
       "10022    370.0  2.988301e+06  4.910154e+06  290000.0   880000.0  1550000.0   \n",
       "10036    128.0  3.073158e+06  8.826835e+06  465000.0   998750.0  1425000.0   \n",
       "\n",
       "                75%         max  \n",
       "zipcode                          \n",
       "10001    10825000.0  27750000.0  \n",
       "10016     1891250.0  11650000.0  \n",
       "10017     2202500.0  32000000.0  \n",
       "10018     3600000.0  16300000.0  \n",
       "10019     3483725.0  63815000.0  \n",
       "10022     2761250.0  45000000.0  \n",
       "10036     1984975.0  85000000.0  "
      ]
     },
     "execution_count": 66,
     "metadata": {},
     "output_type": "execute_result"
    }
   ],
   "source": [
    "zipcode_group['price'].describe()"
   ]
  },
  {
   "cell_type": "code",
   "execution_count": 68,
   "metadata": {},
   "outputs": [
    {
     "data": {
      "text/plain": [
       "(-10000, 7000000)"
      ]
     },
     "execution_count": 68,
     "metadata": {},
     "output_type": "execute_result"
    },
    {
     "data": {
      "image/png": "[encoded data removed]",
      "text/plain": [
       "<matplotlib.figure.Figure at 0x1158eff28>"
      ]
     },
     "metadata": {},
     "output_type": "display_data"
    }
   ],
   "source": [
    "plt.boxplot(df['price'])\n",
    "plt.ylim(-10000,7000000)"
   ]
  },
  {
   "cell_type": "code",
   "execution_count": 84,
   "metadata": {},
   "outputs": [
    {
     "data": {
      "image/png": "[encoded data removed]",
      "text/plain": [
       "<matplotlib.figure.Figure at 0x116134630>"
      ]
     },
     "metadata": {},
     "output_type": "display_data"
    }
   ],
   "source": [
    "#visualization of sale price range grouby zipcode\n",
    "fig, ax = plt.subplots(figsize=(10, 10))\n",
    "df.boxplot(column = 'price',by='zipcode', ax= ax)\n",
    "ax.set_ylim([-10000,20000000])\n",
    "plt.ylabel('Price')\n",
    "#plt.figure(figsize=(30,30))\n",
    "plt.savefig('grouby1.png')\n",
    "plt.show()\n"
   ]
  },
  {
   "cell_type": "code",
   "execution_count": 92,
   "metadata": {},
   "outputs": [
    {
     "data": {
      "image/png": "[encoded data removed]",
      "text/plain": [
       "<matplotlib.figure.Figure at 0x114f58fd0>"
      ]
     },
     "metadata": {},
     "output_type": "display_data"
    }
   ],
   "source": [
    "fig, ax = plt.subplots(figsize=(10, 10))\n",
    "df.boxplot( column ='size',ax= ax)\n",
    "#ax.set_ylim([-10000,20000000])\n",
    "plt.ylabel('Price')\n",
    "#plt.figure(figsize=(30,30))\n",
    "#plt.savefig('grouby1.png')\n",
    "plt.show()\n"
   ]
  },
  {
   "cell_type": "code",
   "execution_count": 85,
   "metadata": {},
   "outputs": [
    {
     "data": {
      "image/png": "[encoded data removed]",
      "text/plain": [
       "<matplotlib.figure.Figure at 0x115ec2240>"
      ]
     },
     "metadata": {},
     "output_type": "display_data"
    }
   ],
   "source": [
    "#visualization of sale price range grouby zipcode\n",
    "fig, ax = plt.subplots(figsize=(10, 10))\n",
    "df.boxplot(column = 'price',by='Neighborhood', ax= ax)\n",
    "ax.set_ylim([-10000,20000000])\n",
    "plt.ylabel('Price')\n",
    "#plt.figure(figsize=(30,30))\n",
    "plt.savefig('grouby2.png')\n",
    "plt.show()\n"
   ]
  },
  {
   "cell_type": "code",
   "execution_count": null,
   "metadata": {},
   "outputs": [],
   "source": [
    "plt.savefig('books_read.png')"
   ]
  },
  {
   "cell_type": "code",
   "execution_count": 19,
   "metadata": {},
   "outputs": [
    {
     "data": {
      "text/plain": [
       "zipcode\n",
       "10001    9.649923e+06\n",
       "10016    1.566557e+06\n",
       "10017    2.109541e+06\n",
       "10018    3.134428e+06\n",
       "10019    4.319938e+06\n",
       "10022    2.988301e+06\n",
       "10036    3.073158e+06\n",
       "Name: price, dtype: float64"
      ]
     },
     "execution_count": 19,
     "metadata": {},
     "output_type": "execute_result"
    }
   ],
   "source": [
    "df.groupby('zipcode')['price'].mean()"
   ]
  },
  {
   "cell_type": "code",
   "execution_count": null,
   "metadata": {},
   "outputs": [],
   "source": []
  },
  {
   "cell_type": "code",
   "execution_count": 5,
   "metadata": {},
   "outputs": [
    {
     "data": {
      "text/plain": [
       "array(['Midtown', 'Hells-Kitchen', 'Tudor-City', 'murray-hill',\n",
       "       'Garment-District', 'Hudson-Yards', 'Turtle-Bay', 'Sutton-Place'], dtype=object)"
      ]
     },
     "execution_count": 5,
     "metadata": {},
     "output_type": "execute_result"
    }
   ],
   "source": [
    "df['Neighborhood'].unique()"
   ]
  },
  {
   "cell_type": "code",
   "execution_count": 6,
   "metadata": {},
   "outputs": [
    {
     "name": "stdout",
     "output_type": "stream",
     "text": [
      "<class 'pandas.core.frame.DataFrame'>\n",
      "RangeIndex: 1644 entries, 0 to 1643\n",
      "Data columns (total 15 columns):\n",
      "Unnamed: 0      1644 non-null int64\n",
      "Neighborhood    1644 non-null object\n",
      "address         1321 non-null object\n",
      "bath            1321 non-null float64\n",
      "bed             1321 non-null float64\n",
      "description     1321 non-null object\n",
      "latitude        1643 non-null float64\n",
      "logitude        1643 non-null float64\n",
      "page_url        1644 non-null object\n",
      "price           1318 non-null float64\n",
      "rent            1318 non-null float64\n",
      "sale            1318 non-null float64\n",
      "size            1643 non-null object\n",
      "year built      1643 non-null object\n",
      "zipcode         1321 non-null float64\n",
      "dtypes: float64(8), int64(1), object(6)\n",
      "memory usage: 192.7+ KB\n"
     ]
    }
   ],
   "source": [
    "df.info()"
   ]
  },
  {
   "cell_type": "code",
   "execution_count": 13,
   "metadata": {},
   "outputs": [],
   "source": [
    "df['zipcode'] = df['zipcode'].apply(lambda x: str(x))"
   ]
  },
  {
   "cell_type": "code",
   "execution_count": 14,
   "metadata": {},
   "outputs": [
    {
     "name": "stdout",
     "output_type": "stream",
     "text": [
      "<class 'pandas.core.frame.DataFrame'>\n",
      "RangeIndex: 1644 entries, 0 to 1643\n",
      "Data columns (total 15 columns):\n",
      "Unnamed: 0      1644 non-null int64\n",
      "Neighborhood    1644 non-null object\n",
      "address         1321 non-null object\n",
      "bath            1321 non-null float64\n",
      "bed             1321 non-null float64\n",
      "description     1321 non-null object\n",
      "latitude        1643 non-null float64\n",
      "logitude        1643 non-null float64\n",
      "page_url        1644 non-null object\n",
      "price           1318 non-null float64\n",
      "rent            1318 non-null float64\n",
      "sale            1318 non-null float64\n",
      "size            1643 non-null object\n",
      "year built      1643 non-null object\n",
      "zipcode         1644 non-null object\n",
      "dtypes: float64(7), int64(1), object(7)\n",
      "memory usage: 192.7+ KB\n"
     ]
    }
   ],
   "source": [
    "df.info()"
   ]
  },
  {
   "cell_type": "code",
   "execution_count": null,
   "metadata": {},
   "outputs": [],
   "source": []
  }
 ],
 "metadata": {
  "kernelspec": {
   "display_name": "Python 3",
   "language": "python",
   "name": "python3"
  },
  "language_info": {
   "codemirror_mode": {
    "name": "ipython",
    "version": 3
   },
   "file_extension": ".py",
   "mimetype": "text/x-python",
   "name": "python",
   "nbconvert_exporter": "python",
   "pygments_lexer": "ipython3",
   "version": "3.6.8"
  }
 },
 "nbformat": 4,
 "nbformat_minor": 2
}
