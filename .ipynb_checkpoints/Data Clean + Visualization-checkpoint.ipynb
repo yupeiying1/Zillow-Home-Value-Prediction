{
 "cells": [
  {
   "cell_type": "code",
   "execution_count": 1,
   "metadata": {},
   "outputs": [],
   "source": [
    "import pandas as pd\n",
    "import numpy as np"
   ]
  },
  {
   "cell_type": "code",
   "execution_count": 4,
   "metadata": {},
   "outputs": [
    {
     "name": "stdout",
     "output_type": "stream",
     "text": [
      "340\n",
      "duplicate is: 0\n"
     ]
    }
   ],
   "source": [
    "df1=pd.read_csv('central_harlem_0_100.csv',encoding = \"ISO-8859-1\")#,decoding='utf-8'\n",
    "df2=pd.read_csv('central_harlem_100_200.csv',encoding = \"ISO-8859-1\")\n",
    "df3=pd.read_csv('central_harlem_200_300.csv',encoding = \"ISO-8859-1\")\n",
    "df4=pd.read_csv('central_harlem_300_400.csv',encoding = \"ISO-8859-1\")\n",
    "\n",
    "df_central_harlem =pd.concat([df1,df2,df3,df4],sort=True)\n",
    "print(len(df_central_harlem))\n",
    "print(\"duplicate is:\",len(df_central_harlem)-len(df_central_harlem.drop_duplicates()))"
   ]
  },
  {
   "cell_type": "code",
   "execution_count": 6,
   "metadata": {},
   "outputs": [
    {
     "name": "stdout",
     "output_type": "stream",
     "text": [
      "822\n"
     ]
    }
   ],
   "source": [
    "df1=pd.read_csv('Chelsea_and_Clinton_0_100.csv',encoding = \"ISO-8859-1\")\n",
    "df2=pd.read_csv('Chelsea_and_Clinton_100_200.csv',encoding = \"ISO-8859-1\")\n",
    "df3=pd.read_csv('Chelsea_and_Clinton_200_300.csv',encoding = \"ISO-8859-1\")\n",
    "df4=pd.read_csv('Chelsea_and_Clinton_300_400.csv',encoding = \"ISO-8859-1\")\n",
    "df5=pd.read_csv('Chelsea_and_Clinton_400_500.csv',encoding = \"ISO-8859-1\")\n",
    "df6=pd.read_csv('Chelsea_and_Clinton_500_600.csv',encoding = \"ISO-8859-1\")\n",
    "df7=pd.read_csv('Chelsea_and_Clinton_600_700.csv',encoding = \"ISO-8859-1\")\n",
    "df8=pd.read_csv('Chelsea_and_Clinton_700_800.csv',encoding = \"ISO-8859-1\")\n",
    "df9=pd.read_csv('Chelsea_and_Clinton_800_823.csv',encoding = \"ISO-8859-1\")\n",
    "\n",
    "df_chelsea =pd.concat([df1,df2,df3,df4,df5,df6,df7,df8,df9],sort=True)\n",
    "print(len(df_chelsea))"
   ]
  },
  {
   "cell_type": "code",
   "execution_count": 8,
   "metadata": {},
   "outputs": [
    {
     "name": "stdout",
     "output_type": "stream",
     "text": [
      "136\n"
     ]
    }
   ],
   "source": [
    "df_east_harlem =pd.read_csv('east_harlem_0_135.csv',encoding = \"ISO-8859-1\")\n",
    "\n",
    "print(len(df_east_harlem))"
   ]
  },
  {
   "cell_type": "code",
   "execution_count": 9,
   "metadata": {},
   "outputs": [
    {
     "name": "stdout",
     "output_type": "stream",
     "text": [
      "900\n"
     ]
    }
   ],
   "source": [
    "df1=pd.read_csv('Gramercy_Park_and_Murray_Hill_0_100.csv',encoding = \"ISO-8859-1\")\n",
    "df2=pd.read_csv('Gramercy_Park_and_Murray_Hill_100_200.csv',encoding = \"ISO-8859-1\")\n",
    "df3=pd.read_csv('Gramercy_Park_and_Murray_Hill_200_300.csv',encoding = \"ISO-8859-1\")\n",
    "df4=pd.read_csv('Gramercy_Park_and_Murray_Hill_300_400.csv',encoding = \"ISO-8859-1\")\n",
    "df5=pd.read_csv('Gramercy_Park_and_Murray_Hill_400_500.csv',encoding = \"ISO-8859-1\")\n",
    "df6=pd.read_csv('Gramercy_Park_and_Murray_Hill_500_600.csv',encoding = \"ISO-8859-1\")\n",
    "df7=pd.read_csv('Gramercy_Park_and_Murray_Hill_600_700.csv',encoding = \"ISO-8859-1\")\n",
    "df8=pd.read_csv('Gramercy_Park_and_Murray_Hill_700_800.csv',encoding = \"ISO-8859-1\")\n",
    "df9=pd.read_csv('Gramercy_Park_and_Murray_Hill_800_900.csv',encoding = \"ISO-8859-1\")\n",
    "\n",
    "df_gramercy_park =pd.concat([df1,df2,df3,df4,df5,df6,df7,df8,df9],sort=True)\n",
    "print(len(df_gramercy_park))"
   ]
  },
  {
   "cell_type": "code",
   "execution_count": 11,
   "metadata": {},
   "outputs": [
    {
     "name": "stdout",
     "output_type": "stream",
     "text": [
      "613\n"
     ]
    }
   ],
   "source": [
    "df1=pd.read_csv('Greenwich+Village+and+Soho0_300.csv',encoding = \"ISO-8859-1\")\n",
    "df2=pd.read_csv('Greenwich+Village+and+Soho300_613.csv',encoding = \"ISO-8859-1\")\n",
    "\n",
    "df_greenwich =pd.concat([df1,df2],sort=True)\n",
    "print(len(df_greenwich))"
   ]
  },
  {
   "cell_type": "code",
   "execution_count": 12,
   "metadata": {},
   "outputs": [
    {
     "name": "stdout",
     "output_type": "stream",
     "text": [
      "241\n"
     ]
    }
   ],
   "source": [
    "df1=pd.read_csv('Inwood_and_Washington_Heights_0_100.csv',encoding = \"ISO-8859-1\")\n",
    "df2=pd.read_csv('Inwood_and_Washington_Heights_100_200.csv',encoding = \"ISO-8859-1\")\n",
    "df3=pd.read_csv('Inwood_and_Washington_Heights_200_241.csv',encoding = \"ISO-8859-1\")\n",
    "\n",
    "df_inwood =pd.concat([df1,df2,df3],sort=True)\n",
    "print(len(df_inwood))"
   ]
  },
  {
   "cell_type": "code",
   "execution_count": 13,
   "metadata": {},
   "outputs": [
    {
     "name": "stdout",
     "output_type": "stream",
     "text": [
      "11\n"
     ]
    }
   ],
   "source": [
    "df_roosevelt=pd.read_csv('Roosevelt_Island_0_11.csv',encoding = \"ISO-8859-1\")\n",
    "\n",
    "print(len(df_roosevelt))"
   ]
  },
  {
   "cell_type": "code",
   "execution_count": 14,
   "metadata": {},
   "outputs": [
    {
     "name": "stdout",
     "output_type": "stream",
     "text": [
      "1129\n"
     ]
    }
   ],
   "source": [
    "df1=pd.read_csv('Upper+East+Side0_313.csv',encoding = \"ISO-8859-1\")\n",
    "df2=pd.read_csv('Upper+East+Side313_613.csv',encoding = \"ISO-8859-1\")\n",
    "df3=pd.read_csv('Upper+East+Side613_873.csv',encoding = \"ISO-8859-1\")\n",
    "df4=pd.read_csv('Upper+East+Side873_1133.csv',encoding = \"ISO-8859-1\")\n",
    "\n",
    "df_upper_east =pd.concat([df1,df2,df3,df4],sort=True)\n",
    "print(len(df_upper_east))"
   ]
  },
  {
   "cell_type": "code",
   "execution_count": 16,
   "metadata": {},
   "outputs": [
    {
     "name": "stdout",
     "output_type": "stream",
     "text": [
      "700\n"
     ]
    }
   ],
   "source": [
    "df1=pd.read_csv('upper_west_200_300.csv',encoding = \"ISO-8859-1\")\n",
    "df2=pd.read_csv('upper_west_300_400.csv',encoding = \"ISO-8859-1\")\n",
    "df3=pd.read_csv('upper_west_400_500.csv',encoding = \"ISO-8859-1\")\n",
    "df4=pd.read_csv('upper_west_500_600.csv',encoding = \"ISO-8859-1\")\n",
    "df5=pd.read_csv('upper_west_600_675.csv',encoding = \"ISO-8859-1\")\n",
    "df6=pd.read_csv('upper_west_0_100.csv',encoding = \"ISO-8859-1\")\n",
    "df7=pd.read_csv('upper_west_100_200.csv',encoding = \"ISO-8859-1\")\n",
    "\n",
    "df_gramercy_park =pd.concat([df1,df2,df3,df4,df5,df6,df7],sort=True)\n",
    "print(len(df_gramercy_park))"
   ]
  },
  {
   "cell_type": "code",
   "execution_count": null,
   "metadata": {},
   "outputs": [],
   "source": []
  }
 ],
 "metadata": {
  "kernelspec": {
   "display_name": "Python 3",
   "language": "python",
   "name": "python3"
  },
  "language_info": {
   "codemirror_mode": {
    "name": "ipython",
    "version": 3
   },
   "file_extension": ".py",
   "mimetype": "text/x-python",
   "name": "python",
   "nbconvert_exporter": "python",
   "pygments_lexer": "ipython3",
   "version": "3.6.8"
  }
 },
 "nbformat": 4,
 "nbformat_minor": 2
}
