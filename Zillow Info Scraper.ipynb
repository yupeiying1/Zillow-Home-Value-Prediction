{
 "cells": [
  {
   "cell_type": "code",
   "execution_count": 1,
   "metadata": {},
   "outputs": [],
   "source": [
    "from bs4 import BeautifulSoup\n",
    "import requests\n",
    "import pandas as pd\n",
    "import time\n",
    "import random\n",
    "from random import randint"
   ]
  },
  {
   "cell_type": "code",
   "execution_count": 2,
   "metadata": {},
   "outputs": [],
   "source": [
    "zipcode_dict = dict() #dictionary of Zip Codes by Neighborhood in Manhattan\n",
    "zipcode_dict['Chelsea and Clinton'] = ['10001', '10011', '10018', '10019', '10020', '10036']\n",
    "zipcode_dict['Central Harlem'] = ['10026', '10027', '10030', '10037', '10039']\n",
    "zipcode_dict['East Harlem'] = ['10029', '10035']\n",
    "zipcode_dict['Gramercy Park and Murray Hill'] = ['10010', '10016', '10017', '10022']\n",
    "zipcode_dict['Greenwich Village and Soho'] = ['10012', '10013', '10014']\n",
    "zipcode_dict['Lower Manhattan'] =['10004', '10005', '10006', '10007', '10038', '10280']\n",
    "zipcode_dict['Lower East Side'] =['10002', '10003', '10009']\n",
    "zipcode_dict['Upper East Side'] =['10021', '10028', '10044', '10065', '10075', '10128']\n",
    "zipcode_dict['Upper West Side'] =['10023', '10024', '10025']\n",
    "zipcode_dict['Inwood and Washington Heights'] =['10031', '10032', '10033', '10034', '10040']"
   ]
  },
  {
   "cell_type": "code",
   "execution_count": 3,
   "metadata": {},
   "outputs": [],
   "source": [
    "def get_links(zipcode_list): # get link of each home on the Zillow market\n",
    "    link_list = list()\n",
    "    req_headers = {\n",
    "    'accept': 'text/html,application/xhtml+xml,application/xml;q=0.9,image/webp,image/apng,*/*;q=0.8',\n",
    "    'accept-encoding': 'gzip, deflate, br',\n",
    "    'accept-language': 'en-US,en;q=0.8',\n",
    "    'upgrade-insecure-requests': '1',\n",
    "    'user-agent': 'Mozilla/5.0 (Windows NT 10.0; Win64; x64) AppleWebKit/537.36 (KHTML, like Gecko) Chrome/61.0.3163.100 Safari/537.36'\n",
    "    }\n",
    "    with requests.Session() as s:\n",
    "        for zipcode in zipcode_list:     \n",
    "            for i in range(1, 25):\n",
    "                try:\n",
    "                    page_url = 'https://www.zillow.com/homes/'+zipcode+'_rb/'+str(i)+'_p/'\n",
    "                    r = s.get(page_url, headers=req_headers)\n",
    "                    soup = BeautifulSoup(r.content, 'lxml')\n",
    "                    tags = soup.find_all('div', {'class': 'zsg-photo-card-content zsg-aspect-ratio-content'})\n",
    "                    for tag in tags:\n",
    "                        link_list.append(tag.find('a').get('href'))\n",
    "                except:\n",
    "                    # no next page\n",
    "                    break\n",
    "        time.sleep(5)\n",
    "    return link_list"
   ]
  },
  {
   "cell_type": "code",
   "execution_count": null,
   "metadata": {},
   "outputs": [],
   "source": [
    "df = pd.DataFrame()\n",
    "df_2 = pd.DataFrame(links)\n",
    "df = pd.concat([df,df_2])\n",
    "#df"
   ]
  },
  {
   "cell_type": "code",
   "execution_count": null,
   "metadata": {},
   "outputs": [],
   "source": [
    "zipcode_dict['Chelsea and Clinton']"
   ]
  },
  {
   "cell_type": "code",
   "execution_count": 6,
   "metadata": {},
   "outputs": [],
   "source": [
    "links = get_links(zipcode_dict['Chelsea and Clinton'])"
   ]
  },
  {
   "cell_type": "code",
   "execution_count": 15,
   "metadata": {},
   "outputs": [],
   "source": [
    "df = pd.DataFrame(links)\n",
    "df = df.drop_duplicates()\n",
    "df['region'] = 'Chelsea and Clinton'"
   ]
  },
  {
   "cell_type": "code",
   "execution_count": 17,
   "metadata": {},
   "outputs": [],
   "source": [
    "df.to_csv('Chelsea and Clinton.csv')"
   ]
  },
  {
   "cell_type": "code",
   "execution_count": 20,
   "metadata": {},
   "outputs": [],
   "source": [
    "links = get_links(zipcode_dict['Upper West Side'])"
   ]
  },
  {
   "cell_type": "code",
   "execution_count": 25,
   "metadata": {},
   "outputs": [],
   "source": [
    "df_2 = pd.DataFrame(links)\n",
    "df_2 = df_2.drop_duplicates()\n",
    "df_2['region'] = 'Upper West Side'\n",
    "df_2.to_csv('Upper West Side.csv')"
   ]
  },
  {
   "cell_type": "code",
   "execution_count": 28,
   "metadata": {},
   "outputs": [],
   "source": [
    "links = get_links(zipcode_dict['Upper East Side'])"
   ]
  },
  {
   "cell_type": "code",
   "execution_count": 31,
   "metadata": {},
   "outputs": [],
   "source": [
    "df_3 = pd.DataFrame(links)\n",
    "df_3 = df_3.drop_duplicates()\n",
    "df_3['region'] = 'Upper East Side'\n",
    "df_3.to_csv('Upper East Side.csv')"
   ]
  },
  {
   "cell_type": "code",
   "execution_count": 41,
   "metadata": {},
   "outputs": [],
   "source": [
    "links = get_links(zipcode_dict['Lower East Side'])"
   ]
  },
  {
   "cell_type": "code",
   "execution_count": 45,
   "metadata": {},
   "outputs": [],
   "source": [
    "df_4 = pd.DataFrame(links)\n",
    "df_4 = df_4.drop_duplicates()\n",
    "df_4['region'] = 'Lower East Side'\n",
    "df_4.to_csv('Lower East Side.csv')"
   ]
  },
  {
   "cell_type": "code",
   "execution_count": 46,
   "metadata": {},
   "outputs": [],
   "source": [
    "links = get_links(zipcode_dict['Greenwich Village and Soho'] )"
   ]
  },
  {
   "cell_type": "code",
   "execution_count": 48,
   "metadata": {},
   "outputs": [],
   "source": [
    "df_5 = pd.DataFrame(links)\n",
    "df_5 = df_5.drop_duplicates()\n",
    "df_5['region'] = 'Greenwich Village and Soho'\n",
    "df_5.to_csv('Greenwich Village and Soho.csv')"
   ]
  },
  {
   "cell_type": "code",
   "execution_count": 49,
   "metadata": {},
   "outputs": [],
   "source": [
    "links = get_links(zipcode_dict['Gramercy Park and Murray Hill'] )"
   ]
  },
  {
   "cell_type": "code",
   "execution_count": 51,
   "metadata": {},
   "outputs": [],
   "source": [
    "df_6 = pd.DataFrame(links)\n",
    "df_6 = df_6.drop_duplicates()\n",
    "df_6['region'] = 'Gramercy Park and Murray Hill'\n",
    "df_6.to_csv('Gramercy Park and Murray Hill.csv')"
   ]
  },
  {
   "cell_type": "code",
   "execution_count": 56,
   "metadata": {},
   "outputs": [],
   "source": [
    "links = get_links(zipcode_dict['Central Harlem'] )"
   ]
  },
  {
   "cell_type": "code",
   "execution_count": 58,
   "metadata": {},
   "outputs": [
    {
     "data": {
      "text/plain": [
       "[]"
      ]
     },
     "execution_count": 58,
     "metadata": {},
     "output_type": "execute_result"
    }
   ],
   "source": [
    "links"
   ]
  },
  {
   "cell_type": "code",
   "execution_count": null,
   "metadata": {},
   "outputs": [],
   "source": [
    "df_7 = pd.DataFrame(links)\n",
    "df_6 = df_6.drop_duplicates()\n",
    "df_6['region'] = 'Gramercy Park and Murray Hill'\n",
    "df_6.to_csv('Gramercy Park and Murray Hill.csv')"
   ]
  }
 ],
 "metadata": {
  "kernelspec": {
   "display_name": "Python 3",
   "language": "python",
   "name": "python3"
  },
  "language_info": {
   "codemirror_mode": {
    "name": "ipython",
    "version": 3
   },
   "file_extension": ".py",
   "mimetype": "text/x-python",
   "name": "python",
   "nbconvert_exporter": "python",
   "pygments_lexer": "ipython3",
   "version": "3.6.8"
  }
 },
 "nbformat": 4,
 "nbformat_minor": 2
}
