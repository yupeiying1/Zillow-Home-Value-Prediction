{
 "cells": [
  {
   "cell_type": "code",
   "execution_count": 56,
   "metadata": {},
   "outputs": [],
   "source": [
    "from bs4 import BeautifulSoup\n",
    "import requests\n",
    "import pandas as pd\n",
    "import time\n",
    "import random\n",
    "from random import randint"
   ]
  },
  {
   "cell_type": "code",
   "execution_count": 57,
   "metadata": {},
   "outputs": [],
   "source": [
    "zipcode_dict = dict() #dictionary of Zip Codes by Neighborhood in Manhattan\n",
    "# Reference: https://www.health.ny.gov/statistics/cancer/registry/appendix/neighborhoods.htm\n",
    "zipcode_dict['Chelsea and Clinton'] = ['10001', '10011', '10018', '10019', '10020', '10036']\n",
    "zipcode_dict['Central Harlem'] = ['10026', '10027', '10030', '10037', '10039']\n",
    "zipcode_dict['East Harlem'] = ['10029', '10035']\n",
    "zipcode_dict['Gramercy Park and Murray Hill'] = ['10010', '10016', '10017', '10022']\n",
    "zipcode_dict['Greenwich Village and Soho'] = ['10012', '10013', '10014']\n",
    "zipcode_dict['Lower Manhattan'] =['10004', '10005', '10006', '10007', '10038', '10280']\n",
    "zipcode_dict['Lower East Side'] =['10002', '10003', '10009']\n",
    "zipcode_dict['Upper East Side'] =['10021', '10028', '10044', '10065', '10075', '10128']\n",
    "zipcode_dict['Upper West Side'] =['10023', '10024', '10025']\n",
    "zipcode_dict['Inwood and Washington Heights'] =['10031', '10032', '10033', '10034', '10040']\n",
    "zipcode_dict['Roosevelt Island'] =['10044']"
   ]
  },
  {
   "cell_type": "code",
   "execution_count": 58,
   "metadata": {},
   "outputs": [],
   "source": [
    "def get_links(zipcode_list): # get link of each home on the Zillow market\n",
    "    link_list = list()\n",
    "    req_headers = {\n",
    "        'accept': 'text/html,application/xhtml+xml,application/xml;q=0.9,image/webp,image/apng,*/*;q=0.8',\n",
    "        'accept-encoding': 'gzip, deflate, br',\n",
    "        'accept-language': 'en-US,en;q=0.8',\n",
    "        'upgrade-insecure-requests': '1',\n",
    "        'user-agent': 'Mozilla/5.0 (Windows NT 10.0; Win64; x64) AppleWebKit/537.36 (KHTML, like Gecko) Chrome/61.0.3163.100 Safari/537.36'\n",
    "    }\n",
    "    \n",
    "    with requests.Session() as s:\n",
    "        for zipcode in zipcode_list:     \n",
    "            for i in range(10, 25):\n",
    "                try:\n",
    "                    page_url = 'https://www.zillow.com/homes/for_sale/'+zipcode+'_rb/'+str(i)+'_p/'\n",
    "                    print(page_url)\n",
    "                    r = s.get(page_url, headers=req_headers)\n",
    "                    soup = BeautifulSoup(r.content, 'lxml')\n",
    "                    tags = soup.find_all('div', {'class': 'zsg-photo-card-content zsg-aspect-ratio-content'})\n",
    "                    for tag in tags:\n",
    "                        link_list.append(tag.find('a').get('href')) \n",
    "                except:\n",
    "                    # no next page\n",
    "                    break\n",
    "        time.sleep(5)\n",
    "    return link_list"
   ]
  },
  {
   "cell_type": "markdown",
   "metadata": {},
   "source": [
    "**Need to scrape each neighborhood separately, using for loop would experience IP ban even if we use time.sleep()**"
   ]
  },
  {
   "cell_type": "code",
   "execution_count": 60,
   "metadata": {},
   "outputs": [
    {
     "name": "stdout",
     "output_type": "stream",
     "text": [
      "https://www.zillow.com/homes/for_sale/10001_rb/10_p/\n",
      "https://www.zillow.com/homes/for_sale/10001_rb/11_p/\n",
      "https://www.zillow.com/homes/for_sale/10001_rb/12_p/\n",
      "https://www.zillow.com/homes/for_sale/10001_rb/13_p/\n",
      "https://www.zillow.com/homes/for_sale/10001_rb/14_p/\n",
      "https://www.zillow.com/homes/for_sale/10001_rb/15_p/\n",
      "https://www.zillow.com/homes/for_sale/10001_rb/16_p/\n",
      "https://www.zillow.com/homes/for_sale/10001_rb/17_p/\n",
      "https://www.zillow.com/homes/for_sale/10001_rb/18_p/\n",
      "https://www.zillow.com/homes/for_sale/10001_rb/19_p/\n",
      "https://www.zillow.com/homes/for_sale/10001_rb/20_p/\n",
      "https://www.zillow.com/homes/for_sale/10001_rb/21_p/\n",
      "https://www.zillow.com/homes/for_sale/10001_rb/22_p/\n",
      "https://www.zillow.com/homes/for_sale/10001_rb/23_p/\n",
      "https://www.zillow.com/homes/for_sale/10001_rb/24_p/\n",
      "https://www.zillow.com/homes/for_sale/10011_rb/10_p/\n",
      "https://www.zillow.com/homes/for_sale/10011_rb/11_p/\n",
      "https://www.zillow.com/homes/for_sale/10011_rb/12_p/\n",
      "https://www.zillow.com/homes/for_sale/10011_rb/13_p/\n",
      "https://www.zillow.com/homes/for_sale/10011_rb/14_p/\n",
      "https://www.zillow.com/homes/for_sale/10011_rb/15_p/\n",
      "https://www.zillow.com/homes/for_sale/10011_rb/16_p/\n",
      "https://www.zillow.com/homes/for_sale/10011_rb/17_p/\n",
      "https://www.zillow.com/homes/for_sale/10011_rb/18_p/\n",
      "https://www.zillow.com/homes/for_sale/10011_rb/19_p/\n",
      "https://www.zillow.com/homes/for_sale/10011_rb/20_p/\n",
      "https://www.zillow.com/homes/for_sale/10011_rb/21_p/\n",
      "https://www.zillow.com/homes/for_sale/10011_rb/22_p/\n",
      "https://www.zillow.com/homes/for_sale/10011_rb/23_p/\n",
      "https://www.zillow.com/homes/for_sale/10011_rb/24_p/\n",
      "https://www.zillow.com/homes/for_sale/10018_rb/10_p/\n",
      "https://www.zillow.com/homes/for_sale/10018_rb/11_p/\n",
      "https://www.zillow.com/homes/for_sale/10018_rb/12_p/\n",
      "https://www.zillow.com/homes/for_sale/10018_rb/13_p/\n",
      "https://www.zillow.com/homes/for_sale/10018_rb/14_p/\n",
      "https://www.zillow.com/homes/for_sale/10018_rb/15_p/\n",
      "https://www.zillow.com/homes/for_sale/10018_rb/16_p/\n",
      "https://www.zillow.com/homes/for_sale/10018_rb/17_p/\n",
      "https://www.zillow.com/homes/for_sale/10018_rb/18_p/\n",
      "https://www.zillow.com/homes/for_sale/10018_rb/19_p/\n",
      "https://www.zillow.com/homes/for_sale/10018_rb/20_p/\n",
      "https://www.zillow.com/homes/for_sale/10018_rb/21_p/\n",
      "https://www.zillow.com/homes/for_sale/10018_rb/22_p/\n",
      "https://www.zillow.com/homes/for_sale/10018_rb/23_p/\n",
      "https://www.zillow.com/homes/for_sale/10018_rb/24_p/\n",
      "https://www.zillow.com/homes/for_sale/10019_rb/10_p/\n",
      "https://www.zillow.com/homes/for_sale/10019_rb/11_p/\n",
      "https://www.zillow.com/homes/for_sale/10019_rb/12_p/\n",
      "https://www.zillow.com/homes/for_sale/10019_rb/13_p/\n",
      "https://www.zillow.com/homes/for_sale/10019_rb/14_p/\n",
      "https://www.zillow.com/homes/for_sale/10019_rb/15_p/\n",
      "https://www.zillow.com/homes/for_sale/10019_rb/16_p/\n",
      "https://www.zillow.com/homes/for_sale/10019_rb/17_p/\n",
      "https://www.zillow.com/homes/for_sale/10019_rb/18_p/\n",
      "https://www.zillow.com/homes/for_sale/10019_rb/19_p/\n",
      "https://www.zillow.com/homes/for_sale/10019_rb/20_p/\n",
      "https://www.zillow.com/homes/for_sale/10019_rb/21_p/\n",
      "https://www.zillow.com/homes/for_sale/10019_rb/22_p/\n",
      "https://www.zillow.com/homes/for_sale/10019_rb/23_p/\n",
      "https://www.zillow.com/homes/for_sale/10019_rb/24_p/\n",
      "https://www.zillow.com/homes/for_sale/10020_rb/10_p/\n",
      "https://www.zillow.com/homes/for_sale/10020_rb/11_p/\n",
      "https://www.zillow.com/homes/for_sale/10020_rb/12_p/\n",
      "https://www.zillow.com/homes/for_sale/10020_rb/13_p/\n",
      "https://www.zillow.com/homes/for_sale/10020_rb/14_p/\n",
      "https://www.zillow.com/homes/for_sale/10020_rb/15_p/\n",
      "https://www.zillow.com/homes/for_sale/10020_rb/16_p/\n",
      "https://www.zillow.com/homes/for_sale/10020_rb/17_p/\n",
      "https://www.zillow.com/homes/for_sale/10020_rb/18_p/\n",
      "https://www.zillow.com/homes/for_sale/10020_rb/19_p/\n",
      "https://www.zillow.com/homes/for_sale/10020_rb/20_p/\n",
      "https://www.zillow.com/homes/for_sale/10020_rb/21_p/\n",
      "https://www.zillow.com/homes/for_sale/10020_rb/22_p/\n",
      "https://www.zillow.com/homes/for_sale/10020_rb/23_p/\n",
      "https://www.zillow.com/homes/for_sale/10020_rb/24_p/\n",
      "https://www.zillow.com/homes/for_sale/10036_rb/10_p/\n",
      "https://www.zillow.com/homes/for_sale/10036_rb/11_p/\n",
      "https://www.zillow.com/homes/for_sale/10036_rb/12_p/\n",
      "https://www.zillow.com/homes/for_sale/10036_rb/13_p/\n",
      "https://www.zillow.com/homes/for_sale/10036_rb/14_p/\n",
      "https://www.zillow.com/homes/for_sale/10036_rb/15_p/\n",
      "https://www.zillow.com/homes/for_sale/10036_rb/16_p/\n",
      "https://www.zillow.com/homes/for_sale/10036_rb/17_p/\n",
      "https://www.zillow.com/homes/for_sale/10036_rb/18_p/\n",
      "https://www.zillow.com/homes/for_sale/10036_rb/19_p/\n",
      "https://www.zillow.com/homes/for_sale/10036_rb/20_p/\n",
      "https://www.zillow.com/homes/for_sale/10036_rb/21_p/\n",
      "https://www.zillow.com/homes/for_sale/10036_rb/22_p/\n",
      "https://www.zillow.com/homes/for_sale/10036_rb/23_p/\n",
      "https://www.zillow.com/homes/for_sale/10036_rb/24_p/\n"
     ]
    }
   ],
   "source": [
    "links = get_links(zipcode_dict['Chelsea and Clinton'])"
   ]
  },
  {
   "cell_type": "code",
   "execution_count": 62,
   "metadata": {},
   "outputs": [
    {
     "data": {
      "text/plain": [
       "[]"
      ]
     },
     "execution_count": 62,
     "metadata": {},
     "output_type": "execute_result"
    }
   ],
   "source": [
    "links"
   ]
  },
  {
   "cell_type": "code",
   "execution_count": 32,
   "metadata": {},
   "outputs": [],
   "source": [
    "df = pd.DataFrame(links)\n",
    "df = df.drop_duplicates()\n",
    "df['region'] = 'Chelsea and Clinton'"
   ]
  },
  {
   "cell_type": "code",
   "execution_count": 34,
   "metadata": {},
   "outputs": [],
   "source": [
    "df = df.drop(columns=['zip_code'])"
   ]
  },
  {
   "cell_type": "code",
   "execution_count": 35,
   "metadata": {},
   "outputs": [
    {
     "data": {
      "text/html": [
       "<div>\n",
       "<style scoped>\n",
       "    .dataframe tbody tr th:only-of-type {\n",
       "        vertical-align: middle;\n",
       "    }\n",
       "\n",
       "    .dataframe tbody tr th {\n",
       "        vertical-align: top;\n",
       "    }\n",
       "\n",
       "    .dataframe thead th {\n",
       "        text-align: right;\n",
       "    }\n",
       "</style>\n",
       "<table border=\"1\" class=\"dataframe\">\n",
       "  <thead>\n",
       "    <tr style=\"text-align: right;\">\n",
       "      <th></th>\n",
       "      <th>0</th>\n",
       "      <th>region</th>\n",
       "    </tr>\n",
       "  </thead>\n",
       "  <tbody>\n",
       "    <tr>\n",
       "      <th>0</th>\n",
       "      <td>/homedetails/520-W-28th-St-New-York-NY-10001/2...</td>\n",
       "      <td>Chelsea and Clinton</td>\n",
       "    </tr>\n",
       "    <tr>\n",
       "      <th>1</th>\n",
       "      <td>/homedetails/536-W-29th-St-New-York-NY-10001/2...</td>\n",
       "      <td>Chelsea and Clinton</td>\n",
       "    </tr>\n",
       "    <tr>\n",
       "      <th>2</th>\n",
       "      <td>/homedetails/11-W-30th-St-14FL-New-York-NY-100...</td>\n",
       "      <td>Chelsea and Clinton</td>\n",
       "    </tr>\n",
       "    <tr>\n",
       "      <th>3</th>\n",
       "      <td>/homedetails/522-W-29th-St-9A-New-York-NY-1000...</td>\n",
       "      <td>Chelsea and Clinton</td>\n",
       "    </tr>\n",
       "    <tr>\n",
       "      <th>4</th>\n",
       "      <td>/homedetails/1200-Broadway-PH-E-New-York-NY-10...</td>\n",
       "      <td>Chelsea and Clinton</td>\n",
       "    </tr>\n",
       "  </tbody>\n",
       "</table>\n",
       "</div>"
      ],
      "text/plain": [
       "                                                   0               region\n",
       "0  /homedetails/520-W-28th-St-New-York-NY-10001/2...  Chelsea and Clinton\n",
       "1  /homedetails/536-W-29th-St-New-York-NY-10001/2...  Chelsea and Clinton\n",
       "2  /homedetails/11-W-30th-St-14FL-New-York-NY-100...  Chelsea and Clinton\n",
       "3  /homedetails/522-W-29th-St-9A-New-York-NY-1000...  Chelsea and Clinton\n",
       "4  /homedetails/1200-Broadway-PH-E-New-York-NY-10...  Chelsea and Clinton"
      ]
     },
     "execution_count": 35,
     "metadata": {},
     "output_type": "execute_result"
    }
   ],
   "source": [
    "df.head()"
   ]
  },
  {
   "cell_type": "code",
   "execution_count": 36,
   "metadata": {},
   "outputs": [],
   "source": [
    "df.to_csv('Chelsea and Clinton.csv')"
   ]
  },
  {
   "cell_type": "code",
   "execution_count": 4,
   "metadata": {},
   "outputs": [
    {
     "name": "stdout",
     "output_type": "stream",
     "text": [
      "https://www.zillow.com/homes/for_sale/10023_rb/1_p/\n",
      "https://www.zillow.com/homes/for_sale/10023_rb/2_p/\n",
      "https://www.zillow.com/homes/for_sale/10023_rb/3_p/\n",
      "https://www.zillow.com/homes/for_sale/10023_rb/4_p/\n",
      "https://www.zillow.com/homes/for_sale/10023_rb/5_p/\n",
      "https://www.zillow.com/homes/for_sale/10023_rb/6_p/\n",
      "https://www.zillow.com/homes/for_sale/10023_rb/7_p/\n",
      "https://www.zillow.com/homes/for_sale/10023_rb/8_p/\n",
      "https://www.zillow.com/homes/for_sale/10023_rb/9_p/\n",
      "https://www.zillow.com/homes/for_sale/10024_rb/1_p/\n",
      "https://www.zillow.com/homes/for_sale/10024_rb/2_p/\n",
      "https://www.zillow.com/homes/for_sale/10024_rb/3_p/\n",
      "https://www.zillow.com/homes/for_sale/10024_rb/4_p/\n",
      "https://www.zillow.com/homes/for_sale/10024_rb/5_p/\n",
      "https://www.zillow.com/homes/for_sale/10024_rb/6_p/\n",
      "https://www.zillow.com/homes/for_sale/10024_rb/7_p/\n",
      "https://www.zillow.com/homes/for_sale/10024_rb/8_p/\n",
      "https://www.zillow.com/homes/for_sale/10024_rb/9_p/\n",
      "https://www.zillow.com/homes/for_sale/10025_rb/1_p/\n",
      "https://www.zillow.com/homes/for_sale/10025_rb/2_p/\n",
      "https://www.zillow.com/homes/for_sale/10025_rb/3_p/\n",
      "https://www.zillow.com/homes/for_sale/10025_rb/4_p/\n",
      "https://www.zillow.com/homes/for_sale/10025_rb/5_p/\n",
      "https://www.zillow.com/homes/for_sale/10025_rb/6_p/\n",
      "https://www.zillow.com/homes/for_sale/10025_rb/7_p/\n",
      "https://www.zillow.com/homes/for_sale/10025_rb/8_p/\n",
      "https://www.zillow.com/homes/for_sale/10025_rb/9_p/\n"
     ]
    }
   ],
   "source": [
    "links = get_links(zipcode_dict['Upper West Side'])"
   ]
  },
  {
   "cell_type": "code",
   "execution_count": 6,
   "metadata": {},
   "outputs": [],
   "source": [
    "df_2 = pd.DataFrame(links)\n",
    "df_2 = df_2.drop_duplicates()\n",
    "df_2['region'] = 'Upper West Side'\n",
    "df_2.columns = ['link','region']\n",
    "df_2.to_csv('Upper West Side.csv')"
   ]
  },
  {
   "cell_type": "code",
   "execution_count": 7,
   "metadata": {},
   "outputs": [
    {
     "name": "stdout",
     "output_type": "stream",
     "text": [
      "https://www.zillow.com/homes/for_sale/10021_rb/1_p/\n",
      "https://www.zillow.com/homes/for_sale/10021_rb/2_p/\n",
      "https://www.zillow.com/homes/for_sale/10021_rb/3_p/\n",
      "https://www.zillow.com/homes/for_sale/10021_rb/4_p/\n",
      "https://www.zillow.com/homes/for_sale/10021_rb/5_p/\n",
      "https://www.zillow.com/homes/for_sale/10021_rb/6_p/\n",
      "https://www.zillow.com/homes/for_sale/10021_rb/7_p/\n",
      "https://www.zillow.com/homes/for_sale/10021_rb/8_p/\n",
      "https://www.zillow.com/homes/for_sale/10021_rb/9_p/\n",
      "https://www.zillow.com/homes/for_sale/10028_rb/1_p/\n",
      "https://www.zillow.com/homes/for_sale/10028_rb/2_p/\n",
      "https://www.zillow.com/homes/for_sale/10028_rb/3_p/\n",
      "https://www.zillow.com/homes/for_sale/10028_rb/4_p/\n",
      "https://www.zillow.com/homes/for_sale/10028_rb/5_p/\n",
      "https://www.zillow.com/homes/for_sale/10028_rb/6_p/\n",
      "https://www.zillow.com/homes/for_sale/10028_rb/7_p/\n",
      "https://www.zillow.com/homes/for_sale/10028_rb/8_p/\n",
      "https://www.zillow.com/homes/for_sale/10028_rb/9_p/\n",
      "https://www.zillow.com/homes/for_sale/10044_rb/1_p/\n",
      "https://www.zillow.com/homes/for_sale/10044_rb/2_p/\n",
      "https://www.zillow.com/homes/for_sale/10044_rb/3_p/\n",
      "https://www.zillow.com/homes/for_sale/10044_rb/4_p/\n",
      "https://www.zillow.com/homes/for_sale/10044_rb/5_p/\n",
      "https://www.zillow.com/homes/for_sale/10044_rb/6_p/\n",
      "https://www.zillow.com/homes/for_sale/10044_rb/7_p/\n",
      "https://www.zillow.com/homes/for_sale/10044_rb/8_p/\n",
      "https://www.zillow.com/homes/for_sale/10044_rb/9_p/\n",
      "https://www.zillow.com/homes/for_sale/10065_rb/1_p/\n",
      "https://www.zillow.com/homes/for_sale/10065_rb/2_p/\n",
      "https://www.zillow.com/homes/for_sale/10065_rb/3_p/\n",
      "https://www.zillow.com/homes/for_sale/10065_rb/4_p/\n",
      "https://www.zillow.com/homes/for_sale/10065_rb/5_p/\n",
      "https://www.zillow.com/homes/for_sale/10065_rb/6_p/\n",
      "https://www.zillow.com/homes/for_sale/10065_rb/7_p/\n",
      "https://www.zillow.com/homes/for_sale/10065_rb/8_p/\n",
      "https://www.zillow.com/homes/for_sale/10065_rb/9_p/\n",
      "https://www.zillow.com/homes/for_sale/10075_rb/1_p/\n",
      "https://www.zillow.com/homes/for_sale/10075_rb/2_p/\n",
      "https://www.zillow.com/homes/for_sale/10075_rb/3_p/\n",
      "https://www.zillow.com/homes/for_sale/10075_rb/4_p/\n",
      "https://www.zillow.com/homes/for_sale/10075_rb/5_p/\n",
      "https://www.zillow.com/homes/for_sale/10075_rb/6_p/\n",
      "https://www.zillow.com/homes/for_sale/10075_rb/7_p/\n",
      "https://www.zillow.com/homes/for_sale/10075_rb/8_p/\n",
      "https://www.zillow.com/homes/for_sale/10075_rb/9_p/\n",
      "https://www.zillow.com/homes/for_sale/10128_rb/1_p/\n",
      "https://www.zillow.com/homes/for_sale/10128_rb/2_p/\n",
      "https://www.zillow.com/homes/for_sale/10128_rb/3_p/\n",
      "https://www.zillow.com/homes/for_sale/10128_rb/4_p/\n",
      "https://www.zillow.com/homes/for_sale/10128_rb/5_p/\n",
      "https://www.zillow.com/homes/for_sale/10128_rb/6_p/\n",
      "https://www.zillow.com/homes/for_sale/10128_rb/7_p/\n",
      "https://www.zillow.com/homes/for_sale/10128_rb/8_p/\n",
      "https://www.zillow.com/homes/for_sale/10128_rb/9_p/\n"
     ]
    }
   ],
   "source": [
    "links = get_links(zipcode_dict['Upper East Side'])"
   ]
  },
  {
   "cell_type": "code",
   "execution_count": 8,
   "metadata": {},
   "outputs": [],
   "source": [
    "df_3 = pd.DataFrame(links)\n",
    "df_3 = df_3.drop_duplicates()\n",
    "df_3['region'] = 'Upper East Side'\n",
    "df_3.columns = ['link','region']\n",
    "df_3.to_csv('Upper East Side.csv')"
   ]
  },
  {
   "cell_type": "code",
   "execution_count": 17,
   "metadata": {},
   "outputs": [
    {
     "name": "stdout",
     "output_type": "stream",
     "text": [
      "https://www.zillow.com/homes/for_sale/10002_rb/1_p/\n",
      "https://www.zillow.com/homes/for_sale/10002_rb/2_p/\n",
      "https://www.zillow.com/homes/for_sale/10002_rb/3_p/\n",
      "https://www.zillow.com/homes/for_sale/10002_rb/4_p/\n",
      "https://www.zillow.com/homes/for_sale/10002_rb/5_p/\n",
      "https://www.zillow.com/homes/for_sale/10002_rb/6_p/\n",
      "https://www.zillow.com/homes/for_sale/10002_rb/7_p/\n",
      "https://www.zillow.com/homes/for_sale/10002_rb/8_p/\n",
      "https://www.zillow.com/homes/for_sale/10002_rb/9_p/\n",
      "https://www.zillow.com/homes/for_sale/10003_rb/1_p/\n",
      "https://www.zillow.com/homes/for_sale/10003_rb/2_p/\n",
      "https://www.zillow.com/homes/for_sale/10003_rb/3_p/\n",
      "https://www.zillow.com/homes/for_sale/10003_rb/4_p/\n",
      "https://www.zillow.com/homes/for_sale/10003_rb/5_p/\n",
      "https://www.zillow.com/homes/for_sale/10003_rb/6_p/\n",
      "https://www.zillow.com/homes/for_sale/10003_rb/7_p/\n",
      "https://www.zillow.com/homes/for_sale/10003_rb/8_p/\n",
      "https://www.zillow.com/homes/for_sale/10003_rb/9_p/\n",
      "https://www.zillow.com/homes/for_sale/10009_rb/1_p/\n",
      "https://www.zillow.com/homes/for_sale/10009_rb/2_p/\n",
      "https://www.zillow.com/homes/for_sale/10009_rb/3_p/\n",
      "https://www.zillow.com/homes/for_sale/10009_rb/4_p/\n",
      "https://www.zillow.com/homes/for_sale/10009_rb/5_p/\n",
      "https://www.zillow.com/homes/for_sale/10009_rb/6_p/\n",
      "https://www.zillow.com/homes/for_sale/10009_rb/7_p/\n",
      "https://www.zillow.com/homes/for_sale/10009_rb/8_p/\n",
      "https://www.zillow.com/homes/for_sale/10009_rb/9_p/\n"
     ]
    }
   ],
   "source": [
    "links = get_links(zipcode_dict['Lower East Side'])"
   ]
  },
  {
   "cell_type": "code",
   "execution_count": 19,
   "metadata": {},
   "outputs": [],
   "source": [
    "df_4 = pd.DataFrame(links)\n",
    "df_4 = df_4.drop_duplicates()\n",
    "df_4['region'] = 'Lower East Side'\n",
    "df_4.columns = ['link','region']\n",
    "df_4.to_csv('Lower East Side.csv')"
   ]
  },
  {
   "cell_type": "code",
   "execution_count": 20,
   "metadata": {},
   "outputs": [
    {
     "name": "stdout",
     "output_type": "stream",
     "text": [
      "https://www.zillow.com/homes/for_sale/10012_rb/1_p/\n",
      "https://www.zillow.com/homes/for_sale/10012_rb/2_p/\n",
      "https://www.zillow.com/homes/for_sale/10012_rb/3_p/\n",
      "https://www.zillow.com/homes/for_sale/10012_rb/4_p/\n",
      "https://www.zillow.com/homes/for_sale/10012_rb/5_p/\n",
      "https://www.zillow.com/homes/for_sale/10012_rb/6_p/\n",
      "https://www.zillow.com/homes/for_sale/10012_rb/7_p/\n",
      "https://www.zillow.com/homes/for_sale/10012_rb/8_p/\n",
      "https://www.zillow.com/homes/for_sale/10012_rb/9_p/\n",
      "https://www.zillow.com/homes/for_sale/10013_rb/1_p/\n",
      "https://www.zillow.com/homes/for_sale/10013_rb/2_p/\n",
      "https://www.zillow.com/homes/for_sale/10013_rb/3_p/\n",
      "https://www.zillow.com/homes/for_sale/10013_rb/4_p/\n",
      "https://www.zillow.com/homes/for_sale/10013_rb/5_p/\n",
      "https://www.zillow.com/homes/for_sale/10013_rb/6_p/\n",
      "https://www.zillow.com/homes/for_sale/10013_rb/7_p/\n",
      "https://www.zillow.com/homes/for_sale/10013_rb/8_p/\n",
      "https://www.zillow.com/homes/for_sale/10013_rb/9_p/\n",
      "https://www.zillow.com/homes/for_sale/10014_rb/1_p/\n",
      "https://www.zillow.com/homes/for_sale/10014_rb/2_p/\n",
      "https://www.zillow.com/homes/for_sale/10014_rb/3_p/\n",
      "https://www.zillow.com/homes/for_sale/10014_rb/4_p/\n",
      "https://www.zillow.com/homes/for_sale/10014_rb/5_p/\n",
      "https://www.zillow.com/homes/for_sale/10014_rb/6_p/\n",
      "https://www.zillow.com/homes/for_sale/10014_rb/7_p/\n",
      "https://www.zillow.com/homes/for_sale/10014_rb/8_p/\n",
      "https://www.zillow.com/homes/for_sale/10014_rb/9_p/\n"
     ]
    }
   ],
   "source": [
    "links = get_links(zipcode_dict['Greenwich Village and Soho'] )"
   ]
  },
  {
   "cell_type": "code",
   "execution_count": 22,
   "metadata": {},
   "outputs": [],
   "source": [
    "df_5 = pd.DataFrame(links)\n",
    "df_5 = df_5.drop_duplicates()\n",
    "df_5['region'] = 'Greenwich Village and Soho'\n",
    "df_5.columns = ['link','region']\n",
    "df_5.to_csv('Greenwich Village and Soho.csv')"
   ]
  },
  {
   "cell_type": "code",
   "execution_count": 23,
   "metadata": {},
   "outputs": [
    {
     "name": "stdout",
     "output_type": "stream",
     "text": [
      "https://www.zillow.com/homes/for_sale/10010_rb/1_p/\n",
      "https://www.zillow.com/homes/for_sale/10010_rb/2_p/\n",
      "https://www.zillow.com/homes/for_sale/10010_rb/3_p/\n",
      "https://www.zillow.com/homes/for_sale/10010_rb/4_p/\n",
      "https://www.zillow.com/homes/for_sale/10010_rb/5_p/\n",
      "https://www.zillow.com/homes/for_sale/10010_rb/6_p/\n",
      "https://www.zillow.com/homes/for_sale/10010_rb/7_p/\n",
      "https://www.zillow.com/homes/for_sale/10010_rb/8_p/\n",
      "https://www.zillow.com/homes/for_sale/10010_rb/9_p/\n",
      "https://www.zillow.com/homes/for_sale/10016_rb/1_p/\n",
      "https://www.zillow.com/homes/for_sale/10016_rb/2_p/\n",
      "https://www.zillow.com/homes/for_sale/10016_rb/3_p/\n",
      "https://www.zillow.com/homes/for_sale/10016_rb/4_p/\n",
      "https://www.zillow.com/homes/for_sale/10016_rb/5_p/\n",
      "https://www.zillow.com/homes/for_sale/10016_rb/6_p/\n",
      "https://www.zillow.com/homes/for_sale/10016_rb/7_p/\n",
      "https://www.zillow.com/homes/for_sale/10016_rb/8_p/\n",
      "https://www.zillow.com/homes/for_sale/10016_rb/9_p/\n",
      "https://www.zillow.com/homes/for_sale/10017_rb/1_p/\n",
      "https://www.zillow.com/homes/for_sale/10017_rb/2_p/\n",
      "https://www.zillow.com/homes/for_sale/10017_rb/3_p/\n",
      "https://www.zillow.com/homes/for_sale/10017_rb/4_p/\n",
      "https://www.zillow.com/homes/for_sale/10017_rb/5_p/\n",
      "https://www.zillow.com/homes/for_sale/10017_rb/6_p/\n",
      "https://www.zillow.com/homes/for_sale/10017_rb/7_p/\n",
      "https://www.zillow.com/homes/for_sale/10017_rb/8_p/\n",
      "https://www.zillow.com/homes/for_sale/10017_rb/9_p/\n",
      "https://www.zillow.com/homes/for_sale/10022_rb/1_p/\n",
      "https://www.zillow.com/homes/for_sale/10022_rb/2_p/\n",
      "https://www.zillow.com/homes/for_sale/10022_rb/3_p/\n",
      "https://www.zillow.com/homes/for_sale/10022_rb/4_p/\n",
      "https://www.zillow.com/homes/for_sale/10022_rb/5_p/\n",
      "https://www.zillow.com/homes/for_sale/10022_rb/6_p/\n",
      "https://www.zillow.com/homes/for_sale/10022_rb/7_p/\n",
      "https://www.zillow.com/homes/for_sale/10022_rb/8_p/\n",
      "https://www.zillow.com/homes/for_sale/10022_rb/9_p/\n"
     ]
    }
   ],
   "source": [
    "links = get_links(zipcode_dict['Gramercy Park and Murray Hill'] )"
   ]
  },
  {
   "cell_type": "code",
   "execution_count": 25,
   "metadata": {},
   "outputs": [],
   "source": [
    "df_6 = pd.DataFrame(links)\n",
    "df_6 = df_6.drop_duplicates()\n",
    "df_6['region'] = 'Gramercy Park and Murray Hill'\n",
    "df_6.columns = ['link','region']\n",
    "df_6.to_csv('Gramercy Park and Murray Hill.csv')"
   ]
  },
  {
   "cell_type": "code",
   "execution_count": 30,
   "metadata": {},
   "outputs": [
    {
     "name": "stdout",
     "output_type": "stream",
     "text": [
      "https://www.zillow.com/homes/for_sale/10026_rb/1_p/\n",
      "https://www.zillow.com/homes/for_sale/10026_rb/2_p/\n",
      "https://www.zillow.com/homes/for_sale/10026_rb/3_p/\n",
      "https://www.zillow.com/homes/for_sale/10026_rb/4_p/\n",
      "https://www.zillow.com/homes/for_sale/10026_rb/5_p/\n",
      "https://www.zillow.com/homes/for_sale/10026_rb/6_p/\n",
      "https://www.zillow.com/homes/for_sale/10026_rb/7_p/\n",
      "https://www.zillow.com/homes/for_sale/10026_rb/8_p/\n",
      "https://www.zillow.com/homes/for_sale/10026_rb/9_p/\n",
      "https://www.zillow.com/homes/for_sale/10027_rb/1_p/\n",
      "https://www.zillow.com/homes/for_sale/10027_rb/2_p/\n",
      "https://www.zillow.com/homes/for_sale/10027_rb/3_p/\n",
      "https://www.zillow.com/homes/for_sale/10027_rb/4_p/\n",
      "https://www.zillow.com/homes/for_sale/10027_rb/5_p/\n",
      "https://www.zillow.com/homes/for_sale/10027_rb/6_p/\n",
      "https://www.zillow.com/homes/for_sale/10027_rb/7_p/\n",
      "https://www.zillow.com/homes/for_sale/10027_rb/8_p/\n",
      "https://www.zillow.com/homes/for_sale/10027_rb/9_p/\n",
      "https://www.zillow.com/homes/for_sale/10030_rb/1_p/\n",
      "https://www.zillow.com/homes/for_sale/10030_rb/2_p/\n",
      "https://www.zillow.com/homes/for_sale/10030_rb/3_p/\n",
      "https://www.zillow.com/homes/for_sale/10030_rb/4_p/\n",
      "https://www.zillow.com/homes/for_sale/10030_rb/5_p/\n",
      "https://www.zillow.com/homes/for_sale/10030_rb/6_p/\n",
      "https://www.zillow.com/homes/for_sale/10030_rb/7_p/\n",
      "https://www.zillow.com/homes/for_sale/10030_rb/8_p/\n",
      "https://www.zillow.com/homes/for_sale/10030_rb/9_p/\n",
      "https://www.zillow.com/homes/for_sale/10037_rb/1_p/\n",
      "https://www.zillow.com/homes/for_sale/10037_rb/2_p/\n",
      "https://www.zillow.com/homes/for_sale/10037_rb/3_p/\n",
      "https://www.zillow.com/homes/for_sale/10037_rb/4_p/\n",
      "https://www.zillow.com/homes/for_sale/10037_rb/5_p/\n",
      "https://www.zillow.com/homes/for_sale/10037_rb/6_p/\n",
      "https://www.zillow.com/homes/for_sale/10037_rb/7_p/\n",
      "https://www.zillow.com/homes/for_sale/10037_rb/8_p/\n",
      "https://www.zillow.com/homes/for_sale/10037_rb/9_p/\n",
      "https://www.zillow.com/homes/for_sale/10039_rb/1_p/\n",
      "https://www.zillow.com/homes/for_sale/10039_rb/2_p/\n",
      "https://www.zillow.com/homes/for_sale/10039_rb/3_p/\n",
      "https://www.zillow.com/homes/for_sale/10039_rb/4_p/\n",
      "https://www.zillow.com/homes/for_sale/10039_rb/5_p/\n",
      "https://www.zillow.com/homes/for_sale/10039_rb/6_p/\n",
      "https://www.zillow.com/homes/for_sale/10039_rb/7_p/\n",
      "https://www.zillow.com/homes/for_sale/10039_rb/8_p/\n",
      "https://www.zillow.com/homes/for_sale/10039_rb/9_p/\n"
     ]
    }
   ],
   "source": [
    "links = get_links(zipcode_dict['Central Harlem'] )"
   ]
  },
  {
   "cell_type": "code",
   "execution_count": 32,
   "metadata": {},
   "outputs": [],
   "source": [
    "df_7 = pd.DataFrame(links)\n",
    "df_7 = df_7.drop_duplicates()\n",
    "df_7['region'] = 'Central Harlem'\n",
    "df_7.columns = ['link','region']\n",
    "df_7.to_csv('Central Harlem.csv')"
   ]
  },
  {
   "cell_type": "code",
   "execution_count": 33,
   "metadata": {},
   "outputs": [
    {
     "name": "stdout",
     "output_type": "stream",
     "text": [
      "https://www.zillow.com/homes/for_sale/10029_rb/1_p/\n",
      "https://www.zillow.com/homes/for_sale/10029_rb/2_p/\n",
      "https://www.zillow.com/homes/for_sale/10029_rb/3_p/\n",
      "https://www.zillow.com/homes/for_sale/10029_rb/4_p/\n",
      "https://www.zillow.com/homes/for_sale/10029_rb/5_p/\n",
      "https://www.zillow.com/homes/for_sale/10029_rb/6_p/\n",
      "https://www.zillow.com/homes/for_sale/10029_rb/7_p/\n",
      "https://www.zillow.com/homes/for_sale/10029_rb/8_p/\n",
      "https://www.zillow.com/homes/for_sale/10029_rb/9_p/\n",
      "https://www.zillow.com/homes/for_sale/10035_rb/1_p/\n",
      "https://www.zillow.com/homes/for_sale/10035_rb/2_p/\n",
      "https://www.zillow.com/homes/for_sale/10035_rb/3_p/\n",
      "https://www.zillow.com/homes/for_sale/10035_rb/4_p/\n",
      "https://www.zillow.com/homes/for_sale/10035_rb/5_p/\n",
      "https://www.zillow.com/homes/for_sale/10035_rb/6_p/\n",
      "https://www.zillow.com/homes/for_sale/10035_rb/7_p/\n",
      "https://www.zillow.com/homes/for_sale/10035_rb/8_p/\n",
      "https://www.zillow.com/homes/for_sale/10035_rb/9_p/\n"
     ]
    }
   ],
   "source": [
    "links = get_links(zipcode_dict['East Harlem'] )"
   ]
  },
  {
   "cell_type": "code",
   "execution_count": 34,
   "metadata": {},
   "outputs": [],
   "source": [
    "df_8 = pd.DataFrame(links)\n",
    "df_8 = df_8.drop_duplicates()\n",
    "df_8['region'] = 'East Harlem'\n",
    "df_8.columns = ['link','region']\n",
    "df_8.to_csv('East Harlem.csv')"
   ]
  },
  {
   "cell_type": "code",
   "execution_count": 35,
   "metadata": {},
   "outputs": [
    {
     "name": "stdout",
     "output_type": "stream",
     "text": [
      "https://www.zillow.com/homes/for_sale/10031_rb/1_p/\n",
      "https://www.zillow.com/homes/for_sale/10031_rb/2_p/\n",
      "https://www.zillow.com/homes/for_sale/10031_rb/3_p/\n",
      "https://www.zillow.com/homes/for_sale/10031_rb/4_p/\n",
      "https://www.zillow.com/homes/for_sale/10031_rb/5_p/\n",
      "https://www.zillow.com/homes/for_sale/10031_rb/6_p/\n",
      "https://www.zillow.com/homes/for_sale/10031_rb/7_p/\n",
      "https://www.zillow.com/homes/for_sale/10031_rb/8_p/\n",
      "https://www.zillow.com/homes/for_sale/10031_rb/9_p/\n",
      "https://www.zillow.com/homes/for_sale/10032_rb/1_p/\n",
      "https://www.zillow.com/homes/for_sale/10032_rb/2_p/\n",
      "https://www.zillow.com/homes/for_sale/10032_rb/3_p/\n",
      "https://www.zillow.com/homes/for_sale/10032_rb/4_p/\n",
      "https://www.zillow.com/homes/for_sale/10032_rb/5_p/\n",
      "https://www.zillow.com/homes/for_sale/10032_rb/6_p/\n",
      "https://www.zillow.com/homes/for_sale/10032_rb/7_p/\n",
      "https://www.zillow.com/homes/for_sale/10032_rb/8_p/\n",
      "https://www.zillow.com/homes/for_sale/10032_rb/9_p/\n",
      "https://www.zillow.com/homes/for_sale/10033_rb/1_p/\n",
      "https://www.zillow.com/homes/for_sale/10033_rb/2_p/\n",
      "https://www.zillow.com/homes/for_sale/10033_rb/3_p/\n",
      "https://www.zillow.com/homes/for_sale/10033_rb/4_p/\n",
      "https://www.zillow.com/homes/for_sale/10033_rb/5_p/\n",
      "https://www.zillow.com/homes/for_sale/10033_rb/6_p/\n",
      "https://www.zillow.com/homes/for_sale/10033_rb/7_p/\n",
      "https://www.zillow.com/homes/for_sale/10033_rb/8_p/\n",
      "https://www.zillow.com/homes/for_sale/10033_rb/9_p/\n",
      "https://www.zillow.com/homes/for_sale/10034_rb/1_p/\n",
      "https://www.zillow.com/homes/for_sale/10034_rb/2_p/\n",
      "https://www.zillow.com/homes/for_sale/10034_rb/3_p/\n",
      "https://www.zillow.com/homes/for_sale/10034_rb/4_p/\n",
      "https://www.zillow.com/homes/for_sale/10034_rb/5_p/\n",
      "https://www.zillow.com/homes/for_sale/10034_rb/6_p/\n",
      "https://www.zillow.com/homes/for_sale/10034_rb/7_p/\n",
      "https://www.zillow.com/homes/for_sale/10034_rb/8_p/\n",
      "https://www.zillow.com/homes/for_sale/10034_rb/9_p/\n",
      "https://www.zillow.com/homes/for_sale/10040_rb/1_p/\n",
      "https://www.zillow.com/homes/for_sale/10040_rb/2_p/\n",
      "https://www.zillow.com/homes/for_sale/10040_rb/3_p/\n",
      "https://www.zillow.com/homes/for_sale/10040_rb/4_p/\n",
      "https://www.zillow.com/homes/for_sale/10040_rb/5_p/\n",
      "https://www.zillow.com/homes/for_sale/10040_rb/6_p/\n",
      "https://www.zillow.com/homes/for_sale/10040_rb/7_p/\n",
      "https://www.zillow.com/homes/for_sale/10040_rb/8_p/\n",
      "https://www.zillow.com/homes/for_sale/10040_rb/9_p/\n"
     ]
    }
   ],
   "source": [
    "links = get_links(zipcode_dict['Inwood and Washington Heights'])"
   ]
  },
  {
   "cell_type": "code",
   "execution_count": 36,
   "metadata": {},
   "outputs": [],
   "source": [
    "df_9 = pd.DataFrame(links)\n",
    "df_9 = df_9.drop_duplicates()\n",
    "df_9['region'] = 'Inwood and Washington Heights'\n",
    "df_9.columns = ['link','region']\n",
    "df_9.to_csv('Inwood and Washington Heights.csv')"
   ]
  },
  {
   "cell_type": "code",
   "execution_count": 37,
   "metadata": {},
   "outputs": [
    {
     "name": "stdout",
     "output_type": "stream",
     "text": [
      "https://www.zillow.com/homes/for_sale/10044_rb/1_p/\n",
      "https://www.zillow.com/homes/for_sale/10044_rb/2_p/\n",
      "https://www.zillow.com/homes/for_sale/10044_rb/3_p/\n",
      "https://www.zillow.com/homes/for_sale/10044_rb/4_p/\n",
      "https://www.zillow.com/homes/for_sale/10044_rb/5_p/\n",
      "https://www.zillow.com/homes/for_sale/10044_rb/6_p/\n",
      "https://www.zillow.com/homes/for_sale/10044_rb/7_p/\n",
      "https://www.zillow.com/homes/for_sale/10044_rb/8_p/\n",
      "https://www.zillow.com/homes/for_sale/10044_rb/9_p/\n"
     ]
    }
   ],
   "source": [
    "links = get_links(zipcode_dict['Roosevelt Island'])"
   ]
  },
  {
   "cell_type": "code",
   "execution_count": 38,
   "metadata": {},
   "outputs": [],
   "source": [
    "df_10 = pd.DataFrame(links)\n",
    "df_10 = df_10.drop_duplicates()\n",
    "df_10['region'] = 'Roosevelt Island'\n",
    "df_10.columns = ['link','region']\n",
    "df_10.to_csv('Roosevelt Island.csv')"
   ]
  },
  {
   "cell_type": "code",
   "execution_count": 40,
   "metadata": {},
   "outputs": [],
   "source": [
    "df = pd.read_csv('Chelsea and Clinton.csv')"
   ]
  },
  {
   "cell_type": "code",
   "execution_count": 43,
   "metadata": {},
   "outputs": [],
   "source": [
    "df = df.drop(columns = ['Unnamed: 0'])"
   ]
  },
  {
   "cell_type": "code",
   "execution_count": 44,
   "metadata": {},
   "outputs": [],
   "source": [
    "frames = [df,df_2,df_3,df_4,df_5,df_6,df_7,df_8,df_9,df_10]"
   ]
  },
  {
   "cell_type": "code",
   "execution_count": 49,
   "metadata": {},
   "outputs": [],
   "source": [
    "df_all_links = pd.concat(frames) "
   ]
  },
  {
   "cell_type": "code",
   "execution_count": 50,
   "metadata": {},
   "outputs": [
    {
     "data": {
      "text/html": [
       "<div>\n",
       "<style scoped>\n",
       "    .dataframe tbody tr th:only-of-type {\n",
       "        vertical-align: middle;\n",
       "    }\n",
       "\n",
       "    .dataframe tbody tr th {\n",
       "        vertical-align: top;\n",
       "    }\n",
       "\n",
       "    .dataframe thead th {\n",
       "        text-align: right;\n",
       "    }\n",
       "</style>\n",
       "<table border=\"1\" class=\"dataframe\">\n",
       "  <thead>\n",
       "    <tr style=\"text-align: right;\">\n",
       "      <th></th>\n",
       "      <th>link</th>\n",
       "      <th>region</th>\n",
       "    </tr>\n",
       "  </thead>\n",
       "  <tbody>\n",
       "    <tr>\n",
       "      <th>0</th>\n",
       "      <td>/homedetails/520-W-28th-St-New-York-NY-10001/2...</td>\n",
       "      <td>Chelsea and Clinton</td>\n",
       "    </tr>\n",
       "    <tr>\n",
       "      <th>1</th>\n",
       "      <td>/homedetails/536-W-29th-St-New-York-NY-10001/2...</td>\n",
       "      <td>Chelsea and Clinton</td>\n",
       "    </tr>\n",
       "    <tr>\n",
       "      <th>2</th>\n",
       "      <td>/homedetails/11-W-30th-St-14FL-New-York-NY-100...</td>\n",
       "      <td>Chelsea and Clinton</td>\n",
       "    </tr>\n",
       "    <tr>\n",
       "      <th>3</th>\n",
       "      <td>/homedetails/522-W-29th-St-9A-New-York-NY-1000...</td>\n",
       "      <td>Chelsea and Clinton</td>\n",
       "    </tr>\n",
       "    <tr>\n",
       "      <th>4</th>\n",
       "      <td>/homedetails/1200-Broadway-PH-E-New-York-NY-10...</td>\n",
       "      <td>Chelsea and Clinton</td>\n",
       "    </tr>\n",
       "  </tbody>\n",
       "</table>\n",
       "</div>"
      ],
      "text/plain": [
       "                                                link               region\n",
       "0  /homedetails/520-W-28th-St-New-York-NY-10001/2...  Chelsea and Clinton\n",
       "1  /homedetails/536-W-29th-St-New-York-NY-10001/2...  Chelsea and Clinton\n",
       "2  /homedetails/11-W-30th-St-14FL-New-York-NY-100...  Chelsea and Clinton\n",
       "3  /homedetails/522-W-29th-St-9A-New-York-NY-1000...  Chelsea and Clinton\n",
       "4  /homedetails/1200-Broadway-PH-E-New-York-NY-10...  Chelsea and Clinton"
      ]
     },
     "execution_count": 50,
     "metadata": {},
     "output_type": "execute_result"
    }
   ],
   "source": [
    "df_all_links.head()"
   ]
  },
  {
   "cell_type": "code",
   "execution_count": null,
   "metadata": {},
   "outputs": [],
   "source": [
    "df_all_links.columns = ['link','region']"
   ]
  },
  {
   "cell_type": "code",
   "execution_count": null,
   "metadata": {},
   "outputs": [],
   "source": [
    "df_all_links = df_all_links.reindex()"
   ]
  },
  {
   "cell_type": "code",
   "execution_count": null,
   "metadata": {},
   "outputs": [],
   "source": [
    "df_all_links = df_all_links.drop_duplicates(subset = ['link'])"
   ]
  },
  {
   "cell_type": "code",
   "execution_count": 47,
   "metadata": {},
   "outputs": [
    {
     "data": {
      "text/plain": [
       "5361"
      ]
     },
     "execution_count": 47,
     "metadata": {},
     "output_type": "execute_result"
    }
   ],
   "source": [
    "len(df_all_links)"
   ]
  },
  {
   "cell_type": "code",
   "execution_count": 51,
   "metadata": {},
   "outputs": [],
   "source": [
    "df_all_links.to_csv('all_links.csv')"
   ]
  },
  {
   "cell_type": "code",
   "execution_count": null,
   "metadata": {},
   "outputs": [],
   "source": [
    "\n",
    "\n",
    "<span class=\"ds-vertical-divider ds-bed-bath-living-area\"><span>2</span><span class=\"ds-summary-row-label-secondary\"> bd</span></span>\n"
   ]
  }
 ],
 "metadata": {
  "kernelspec": {
   "display_name": "Python 3",
   "language": "python",
   "name": "python3"
  },
  "language_info": {
   "codemirror_mode": {
    "name": "ipython",
    "version": 3
   },
   "file_extension": ".py",
   "mimetype": "text/x-python",
   "name": "python",
   "nbconvert_exporter": "python",
   "pygments_lexer": "ipython3",
   "version": "3.6.8"
  }
 },
 "nbformat": 4,
 "nbformat_minor": 2
}
