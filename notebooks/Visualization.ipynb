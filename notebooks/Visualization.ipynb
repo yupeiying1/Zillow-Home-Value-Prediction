{
 "cells": [
  {
   "cell_type": "code",
   "execution_count": 2,
   "metadata": {},
   "outputs": [],
   "source": [
    "import pandas as pd\n",
    "import numpy as np\n",
    "%matplotlib inline\n",
    "import matplotlib.pyplot as plt\n",
    "plt.style.use('seaborn')"
   ]
  },
  {
   "cell_type": "code",
   "execution_count": 3,
   "metadata": {},
   "outputs": [],
   "source": [
    "df = pd.read_csv('data for visual.csv')"
   ]
  },
  {
   "cell_type": "code",
   "execution_count": 4,
   "metadata": {},
   "outputs": [
    {
     "data": {
      "text/html": [
       "<div>\n",
       "<style scoped>\n",
       "    .dataframe tbody tr th:only-of-type {\n",
       "        vertical-align: middle;\n",
       "    }\n",
       "\n",
       "    .dataframe tbody tr th {\n",
       "        vertical-align: top;\n",
       "    }\n",
       "\n",
       "    .dataframe thead th {\n",
       "        text-align: right;\n",
       "    }\n",
       "</style>\n",
       "<table border=\"1\" class=\"dataframe\">\n",
       "  <thead>\n",
       "    <tr style=\"text-align: right;\">\n",
       "      <th></th>\n",
       "      <th>Neighborhood</th>\n",
       "      <th>bath</th>\n",
       "      <th>bed</th>\n",
       "      <th>latitude</th>\n",
       "      <th>logitude</th>\n",
       "      <th>price</th>\n",
       "      <th>size</th>\n",
       "      <th>year built</th>\n",
       "      <th>zipcode</th>\n",
       "    </tr>\n",
       "  </thead>\n",
       "  <tbody>\n",
       "    <tr>\n",
       "      <th>0</th>\n",
       "      <td>Central Harlem</td>\n",
       "      <td>1.0</td>\n",
       "      <td>3.0</td>\n",
       "      <td>40.801399</td>\n",
       "      <td>-73.954902</td>\n",
       "      <td>375000.0</td>\n",
       "      <td>NaN</td>\n",
       "      <td>1920</td>\n",
       "      <td>10026.0</td>\n",
       "    </tr>\n",
       "    <tr>\n",
       "      <th>1</th>\n",
       "      <td>Central Harlem</td>\n",
       "      <td>1.0</td>\n",
       "      <td>1.0</td>\n",
       "      <td>40.805369</td>\n",
       "      <td>-73.951677</td>\n",
       "      <td>279000.0</td>\n",
       "      <td>NaN</td>\n",
       "      <td>1900</td>\n",
       "      <td>10026.0</td>\n",
       "    </tr>\n",
       "    <tr>\n",
       "      <th>2</th>\n",
       "      <td>Central Harlem</td>\n",
       "      <td>1.0</td>\n",
       "      <td>3.0</td>\n",
       "      <td>40.804500</td>\n",
       "      <td>-73.958000</td>\n",
       "      <td>350000.0</td>\n",
       "      <td>NaN</td>\n",
       "      <td>1910</td>\n",
       "      <td>10026.0</td>\n",
       "    </tr>\n",
       "    <tr>\n",
       "      <th>3</th>\n",
       "      <td>Central Harlem</td>\n",
       "      <td>4.0</td>\n",
       "      <td>6.0</td>\n",
       "      <td>40.805301</td>\n",
       "      <td>-73.957099</td>\n",
       "      <td>1350000.0</td>\n",
       "      <td>3264.0</td>\n",
       "      <td>1901</td>\n",
       "      <td>10026.0</td>\n",
       "    </tr>\n",
       "    <tr>\n",
       "      <th>4</th>\n",
       "      <td>Central Harlem</td>\n",
       "      <td>4.0</td>\n",
       "      <td>5.0</td>\n",
       "      <td>40.802393</td>\n",
       "      <td>-73.957916</td>\n",
       "      <td>3995000.0</td>\n",
       "      <td>3333.0</td>\n",
       "      <td>1900</td>\n",
       "      <td>10026.0</td>\n",
       "    </tr>\n",
       "  </tbody>\n",
       "</table>\n",
       "</div>"
      ],
      "text/plain": [
       "     Neighborhood  bath  bed   latitude   logitude      price    size  \\\n",
       "0  Central Harlem   1.0  3.0  40.801399 -73.954902   375000.0     NaN   \n",
       "1  Central Harlem   1.0  1.0  40.805369 -73.951677   279000.0     NaN   \n",
       "2  Central Harlem   1.0  3.0  40.804500 -73.958000   350000.0     NaN   \n",
       "3  Central Harlem   4.0  6.0  40.805301 -73.957099  1350000.0  3264.0   \n",
       "4  Central Harlem   4.0  5.0  40.802393 -73.957916  3995000.0  3333.0   \n",
       "\n",
       "  year built  zipcode  \n",
       "0       1920  10026.0  \n",
       "1       1900  10026.0  \n",
       "2       1910  10026.0  \n",
       "3       1901  10026.0  \n",
       "4       1900  10026.0  "
      ]
     },
     "execution_count": 4,
     "metadata": {},
     "output_type": "execute_result"
    }
   ],
   "source": [
    "df.head()"
   ]
  },
  {
   "cell_type": "markdown",
   "metadata": {},
   "source": [
    "- Plot the number of homes for sale by zipcode"
   ]
  },
  {
   "cell_type": "code",
   "execution_count": 5,
   "metadata": {},
   "outputs": [
    {
     "data": {
      "text/plain": [
       "<matplotlib.axes._subplots.AxesSubplot at 0x10c000860>"
      ]
     },
     "execution_count": 5,
     "metadata": {},
     "output_type": "execute_result"
    },
    {
     "data": {
      "image/png": "[encoded data removed]",
      "text/plain": [
       "<matplotlib.figure.Figure at 0x10c0001d0>"
      ]
     },
     "metadata": {},
     "output_type": "display_data"
    }
   ],
   "source": [
    "zipcode_group = df.groupby('Neighborhood')\n",
    "zipcode_group.size().plot(kind='bar')"
   ]
  },
  {
   "cell_type": "markdown",
   "metadata": {},
   "source": [
    "- Plot the number of homes for sale by neighborhood"
   ]
  },
  {
   "cell_type": "code",
   "execution_count": 6,
   "metadata": {},
   "outputs": [
    {
     "data": {
      "text/plain": [
       "<matplotlib.axes._subplots.AxesSubplot at 0x1126478d0>"
      ]
     },
     "execution_count": 6,
     "metadata": {},
     "output_type": "execute_result"
    },
    {
     "data": {
      "image/png": "[encoded data removed]",
      "text/plain": [
       "<matplotlib.figure.Figure at 0x11263ee10>"
      ]
     },
     "metadata": {},
     "output_type": "display_data"
    }
   ],
   "source": [
    "neiborhood_group = df.groupby('Neighborhood')\n",
    "neiborhood_group.size().plot(kind='bar')"
   ]
  },
  {
   "cell_type": "code",
   "execution_count": 7,
   "metadata": {},
   "outputs": [
    {
     "data": {
      "text/plain": [
       "<matplotlib.axes._subplots.AxesSubplot at 0x10bfdfe48>"
      ]
     },
     "execution_count": 7,
     "metadata": {},
     "output_type": "execute_result"
    },
    {
     "data": {
      "image/png": "[encoded data removed]",
      "text/plain": [
       "<matplotlib.figure.Figure at 0x1126eb748>"
      ]
     },
     "metadata": {},
     "output_type": "display_data"
    }
   ],
   "source": [
    "zipcode_neiborhood = df.groupby(['zipcode','Neighborhood'])\n",
    "zipcode_neiborhood.size().unstack().plot(kind='bar')\n"
   ]
  },
  {
   "cell_type": "code",
   "execution_count": 8,
   "metadata": {},
   "outputs": [
    {
     "data": {
      "text/html": [
       "<div>\n",
       "<style scoped>\n",
       "    .dataframe tbody tr th:only-of-type {\n",
       "        vertical-align: middle;\n",
       "    }\n",
       "\n",
       "    .dataframe tbody tr th {\n",
       "        vertical-align: top;\n",
       "    }\n",
       "\n",
       "    .dataframe thead th {\n",
       "        text-align: right;\n",
       "    }\n",
       "</style>\n",
       "<table border=\"1\" class=\"dataframe\">\n",
       "  <thead>\n",
       "    <tr style=\"text-align: right;\">\n",
       "      <th></th>\n",
       "      <th>count</th>\n",
       "      <th>mean</th>\n",
       "      <th>std</th>\n",
       "      <th>min</th>\n",
       "      <th>25%</th>\n",
       "      <th>50%</th>\n",
       "      <th>75%</th>\n",
       "      <th>max</th>\n",
       "    </tr>\n",
       "    <tr>\n",
       "      <th>Neighborhood</th>\n",
       "      <th></th>\n",
       "      <th></th>\n",
       "      <th></th>\n",
       "      <th></th>\n",
       "      <th></th>\n",
       "      <th></th>\n",
       "      <th></th>\n",
       "      <th></th>\n",
       "    </tr>\n",
       "  </thead>\n",
       "  <tbody>\n",
       "    <tr>\n",
       "      <th>Central Harlem</th>\n",
       "      <td>254.0</td>\n",
       "      <td>1.495860e+06</td>\n",
       "      <td>1.376614e+06</td>\n",
       "      <td>229000.0</td>\n",
       "      <td>676250.0</td>\n",
       "      <td>972500.0</td>\n",
       "      <td>1948750.0</td>\n",
       "      <td>11900000.0</td>\n",
       "    </tr>\n",
       "    <tr>\n",
       "      <th>Chelsea and Clinton</th>\n",
       "      <td>627.0</td>\n",
       "      <td>6.373493e+06</td>\n",
       "      <td>1.078630e+07</td>\n",
       "      <td>249000.0</td>\n",
       "      <td>1057500.0</td>\n",
       "      <td>2299000.0</td>\n",
       "      <td>6500000.0</td>\n",
       "      <td>88000000.0</td>\n",
       "    </tr>\n",
       "    <tr>\n",
       "      <th>East Harlem</th>\n",
       "      <td>94.0</td>\n",
       "      <td>1.433678e+06</td>\n",
       "      <td>1.879204e+06</td>\n",
       "      <td>115000.0</td>\n",
       "      <td>612250.0</td>\n",
       "      <td>759704.5</td>\n",
       "      <td>1098750.0</td>\n",
       "      <td>15500000.0</td>\n",
       "    </tr>\n",
       "    <tr>\n",
       "      <th>Garment-District</th>\n",
       "      <td>2.0</td>\n",
       "      <td>7.644950e+05</td>\n",
       "      <td>1.209082e+05</td>\n",
       "      <td>679000.0</td>\n",
       "      <td>721747.5</td>\n",
       "      <td>764495.0</td>\n",
       "      <td>807242.5</td>\n",
       "      <td>849990.0</td>\n",
       "    </tr>\n",
       "    <tr>\n",
       "      <th>Gramercy Park and Murray Hill</th>\n",
       "      <td>680.0</td>\n",
       "      <td>3.425567e+06</td>\n",
       "      <td>6.401425e+06</td>\n",
       "      <td>5250.0</td>\n",
       "      <td>742750.0</td>\n",
       "      <td>1352500.0</td>\n",
       "      <td>3495000.0</td>\n",
       "      <td>77700000.0</td>\n",
       "    </tr>\n",
       "    <tr>\n",
       "      <th>Greenwich Village and Soho</th>\n",
       "      <td>491.0</td>\n",
       "      <td>6.143121e+06</td>\n",
       "      <td>7.652360e+06</td>\n",
       "      <td>425000.0</td>\n",
       "      <td>1820000.0</td>\n",
       "      <td>3850000.0</td>\n",
       "      <td>7892500.0</td>\n",
       "      <td>80000000.0</td>\n",
       "    </tr>\n",
       "    <tr>\n",
       "      <th>Hells-Kitchen</th>\n",
       "      <td>89.0</td>\n",
       "      <td>2.586552e+06</td>\n",
       "      <td>4.158278e+06</td>\n",
       "      <td>340000.0</td>\n",
       "      <td>795000.0</td>\n",
       "      <td>1200000.0</td>\n",
       "      <td>2300000.0</td>\n",
       "      <td>32000000.0</td>\n",
       "    </tr>\n",
       "    <tr>\n",
       "      <th>Inwood and Washington Heights</th>\n",
       "      <td>171.0</td>\n",
       "      <td>8.876723e+05</td>\n",
       "      <td>9.244581e+05</td>\n",
       "      <td>125000.0</td>\n",
       "      <td>399000.0</td>\n",
       "      <td>550000.0</td>\n",
       "      <td>850000.0</td>\n",
       "      <td>5850000.0</td>\n",
       "    </tr>\n",
       "    <tr>\n",
       "      <th>Long Island City</th>\n",
       "      <td>286.0</td>\n",
       "      <td>1.359773e+06</td>\n",
       "      <td>9.273469e+05</td>\n",
       "      <td>228888.0</td>\n",
       "      <td>752416.0</td>\n",
       "      <td>1187500.0</td>\n",
       "      <td>1599750.0</td>\n",
       "      <td>6750000.0</td>\n",
       "    </tr>\n",
       "    <tr>\n",
       "      <th>Lower East Side</th>\n",
       "      <td>354.0</td>\n",
       "      <td>2.510881e+06</td>\n",
       "      <td>2.846511e+06</td>\n",
       "      <td>295000.0</td>\n",
       "      <td>875000.0</td>\n",
       "      <td>1524500.0</td>\n",
       "      <td>2749750.0</td>\n",
       "      <td>21500000.0</td>\n",
       "    </tr>\n",
       "    <tr>\n",
       "      <th>Lower Manhattan</th>\n",
       "      <td>455.0</td>\n",
       "      <td>2.691797e+06</td>\n",
       "      <td>3.540199e+06</td>\n",
       "      <td>510000.0</td>\n",
       "      <td>950000.0</td>\n",
       "      <td>1695000.0</td>\n",
       "      <td>3050000.0</td>\n",
       "      <td>40000000.0</td>\n",
       "    </tr>\n",
       "    <tr>\n",
       "      <th>Midtown</th>\n",
       "      <td>136.0</td>\n",
       "      <td>2.141381e+06</td>\n",
       "      <td>2.083082e+06</td>\n",
       "      <td>359000.0</td>\n",
       "      <td>925000.0</td>\n",
       "      <td>1622500.0</td>\n",
       "      <td>2575000.0</td>\n",
       "      <td>19950000.0</td>\n",
       "    </tr>\n",
       "    <tr>\n",
       "      <th>Roosevelt Island</th>\n",
       "      <td>10.0</td>\n",
       "      <td>1.230300e+06</td>\n",
       "      <td>5.439767e+05</td>\n",
       "      <td>430000.0</td>\n",
       "      <td>922500.0</td>\n",
       "      <td>1299500.0</td>\n",
       "      <td>1477500.0</td>\n",
       "      <td>2225000.0</td>\n",
       "    </tr>\n",
       "    <tr>\n",
       "      <th>Sutton-Place</th>\n",
       "      <td>186.0</td>\n",
       "      <td>1.745604e+06</td>\n",
       "      <td>1.904806e+06</td>\n",
       "      <td>364000.0</td>\n",
       "      <td>811500.0</td>\n",
       "      <td>1237000.0</td>\n",
       "      <td>1992500.0</td>\n",
       "      <td>15750000.0</td>\n",
       "    </tr>\n",
       "    <tr>\n",
       "      <th>Tudor-City</th>\n",
       "      <td>56.0</td>\n",
       "      <td>1.422337e+06</td>\n",
       "      <td>9.012462e+05</td>\n",
       "      <td>2995.0</td>\n",
       "      <td>737500.0</td>\n",
       "      <td>1092000.0</td>\n",
       "      <td>1998750.0</td>\n",
       "      <td>3880000.0</td>\n",
       "    </tr>\n",
       "    <tr>\n",
       "      <th>Turtle-Bay</th>\n",
       "      <td>89.0</td>\n",
       "      <td>2.383617e+06</td>\n",
       "      <td>2.178177e+06</td>\n",
       "      <td>359000.0</td>\n",
       "      <td>850000.0</td>\n",
       "      <td>1750000.0</td>\n",
       "      <td>2895000.0</td>\n",
       "      <td>14000000.0</td>\n",
       "    </tr>\n",
       "    <tr>\n",
       "      <th>Upper East Side</th>\n",
       "      <td>890.0</td>\n",
       "      <td>4.786283e+06</td>\n",
       "      <td>6.723792e+06</td>\n",
       "      <td>295000.0</td>\n",
       "      <td>936000.0</td>\n",
       "      <td>2250000.0</td>\n",
       "      <td>5500000.0</td>\n",
       "      <td>59000000.0</td>\n",
       "    </tr>\n",
       "    <tr>\n",
       "      <th>Upper West Side</th>\n",
       "      <td>586.0</td>\n",
       "      <td>3.707005e+06</td>\n",
       "      <td>4.353122e+06</td>\n",
       "      <td>150000.0</td>\n",
       "      <td>927500.0</td>\n",
       "      <td>1897500.0</td>\n",
       "      <td>4470000.0</td>\n",
       "      <td>26500000.0</td>\n",
       "    </tr>\n",
       "    <tr>\n",
       "      <th>murray-hill</th>\n",
       "      <td>48.0</td>\n",
       "      <td>9.314792e+05</td>\n",
       "      <td>4.272113e+05</td>\n",
       "      <td>448000.0</td>\n",
       "      <td>698000.0</td>\n",
       "      <td>797000.0</td>\n",
       "      <td>1095000.0</td>\n",
       "      <td>2475000.0</td>\n",
       "    </tr>\n",
       "  </tbody>\n",
       "</table>\n",
       "</div>"
      ],
      "text/plain": [
       "                               count          mean           std       min  \\\n",
       "Neighborhood                                                                 \n",
       "Central Harlem                 254.0  1.495860e+06  1.376614e+06  229000.0   \n",
       "Chelsea and Clinton            627.0  6.373493e+06  1.078630e+07  249000.0   \n",
       "East Harlem                     94.0  1.433678e+06  1.879204e+06  115000.0   \n",
       "Garment-District                 2.0  7.644950e+05  1.209082e+05  679000.0   \n",
       "Gramercy Park and Murray Hill  680.0  3.425567e+06  6.401425e+06    5250.0   \n",
       "Greenwich Village and Soho     491.0  6.143121e+06  7.652360e+06  425000.0   \n",
       "Hells-Kitchen                   89.0  2.586552e+06  4.158278e+06  340000.0   \n",
       "Inwood and Washington Heights  171.0  8.876723e+05  9.244581e+05  125000.0   \n",
       "Long Island City               286.0  1.359773e+06  9.273469e+05  228888.0   \n",
       "Lower East Side                354.0  2.510881e+06  2.846511e+06  295000.0   \n",
       "Lower Manhattan                455.0  2.691797e+06  3.540199e+06  510000.0   \n",
       "Midtown                        136.0  2.141381e+06  2.083082e+06  359000.0   \n",
       "Roosevelt Island                10.0  1.230300e+06  5.439767e+05  430000.0   \n",
       "Sutton-Place                   186.0  1.745604e+06  1.904806e+06  364000.0   \n",
       "Tudor-City                      56.0  1.422337e+06  9.012462e+05    2995.0   \n",
       "Turtle-Bay                      89.0  2.383617e+06  2.178177e+06  359000.0   \n",
       "Upper East Side                890.0  4.786283e+06  6.723792e+06  295000.0   \n",
       "Upper West Side                586.0  3.707005e+06  4.353122e+06  150000.0   \n",
       "murray-hill                     48.0  9.314792e+05  4.272113e+05  448000.0   \n",
       "\n",
       "                                     25%        50%        75%         max  \n",
       "Neighborhood                                                                \n",
       "Central Harlem                  676250.0   972500.0  1948750.0  11900000.0  \n",
       "Chelsea and Clinton            1057500.0  2299000.0  6500000.0  88000000.0  \n",
       "East Harlem                     612250.0   759704.5  1098750.0  15500000.0  \n",
       "Garment-District                721747.5   764495.0   807242.5    849990.0  \n",
       "Gramercy Park and Murray Hill   742750.0  1352500.0  3495000.0  77700000.0  \n",
       "Greenwich Village and Soho     1820000.0  3850000.0  7892500.0  80000000.0  \n",
       "Hells-Kitchen                   795000.0  1200000.0  2300000.0  32000000.0  \n",
       "Inwood and Washington Heights   399000.0   550000.0   850000.0   5850000.0  \n",
       "Long Island City                752416.0  1187500.0  1599750.0   6750000.0  \n",
       "Lower East Side                 875000.0  1524500.0  2749750.0  21500000.0  \n",
       "Lower Manhattan                 950000.0  1695000.0  3050000.0  40000000.0  \n",
       "Midtown                         925000.0  1622500.0  2575000.0  19950000.0  \n",
       "Roosevelt Island                922500.0  1299500.0  1477500.0   2225000.0  \n",
       "Sutton-Place                    811500.0  1237000.0  1992500.0  15750000.0  \n",
       "Tudor-City                      737500.0  1092000.0  1998750.0   3880000.0  \n",
       "Turtle-Bay                      850000.0  1750000.0  2895000.0  14000000.0  \n",
       "Upper East Side                 936000.0  2250000.0  5500000.0  59000000.0  \n",
       "Upper West Side                 927500.0  1897500.0  4470000.0  26500000.0  \n",
       "murray-hill                     698000.0   797000.0  1095000.0   2475000.0  "
      ]
     },
     "execution_count": 8,
     "metadata": {},
     "output_type": "execute_result"
    }
   ],
   "source": [
    "neiborhood_group['price'].describe()"
   ]
  },
  {
   "cell_type": "code",
   "execution_count": 9,
   "metadata": {},
   "outputs": [
    {
     "data": {
      "text/html": [
       "<div>\n",
       "<style scoped>\n",
       "    .dataframe tbody tr th:only-of-type {\n",
       "        vertical-align: middle;\n",
       "    }\n",
       "\n",
       "    .dataframe tbody tr th {\n",
       "        vertical-align: top;\n",
       "    }\n",
       "\n",
       "    .dataframe thead th {\n",
       "        text-align: right;\n",
       "    }\n",
       "</style>\n",
       "<table border=\"1\" class=\"dataframe\">\n",
       "  <thead>\n",
       "    <tr style=\"text-align: right;\">\n",
       "      <th></th>\n",
       "      <th>count</th>\n",
       "      <th>mean</th>\n",
       "      <th>std</th>\n",
       "      <th>min</th>\n",
       "      <th>25%</th>\n",
       "      <th>50%</th>\n",
       "      <th>75%</th>\n",
       "      <th>max</th>\n",
       "    </tr>\n",
       "    <tr>\n",
       "      <th>Neighborhood</th>\n",
       "      <th></th>\n",
       "      <th></th>\n",
       "      <th></th>\n",
       "      <th></th>\n",
       "      <th></th>\n",
       "      <th></th>\n",
       "      <th></th>\n",
       "      <th></th>\n",
       "    </tr>\n",
       "  </thead>\n",
       "  <tbody>\n",
       "    <tr>\n",
       "      <th>Central Harlem</th>\n",
       "      <td>254.0</td>\n",
       "      <td>1.495860e+06</td>\n",
       "      <td>1.376614e+06</td>\n",
       "      <td>229000.0</td>\n",
       "      <td>676250.0</td>\n",
       "      <td>972500.0</td>\n",
       "      <td>1948750.0</td>\n",
       "      <td>11900000.0</td>\n",
       "    </tr>\n",
       "    <tr>\n",
       "      <th>Chelsea and Clinton</th>\n",
       "      <td>627.0</td>\n",
       "      <td>6.373493e+06</td>\n",
       "      <td>1.078630e+07</td>\n",
       "      <td>249000.0</td>\n",
       "      <td>1057500.0</td>\n",
       "      <td>2299000.0</td>\n",
       "      <td>6500000.0</td>\n",
       "      <td>88000000.0</td>\n",
       "    </tr>\n",
       "    <tr>\n",
       "      <th>East Harlem</th>\n",
       "      <td>94.0</td>\n",
       "      <td>1.433678e+06</td>\n",
       "      <td>1.879204e+06</td>\n",
       "      <td>115000.0</td>\n",
       "      <td>612250.0</td>\n",
       "      <td>759704.5</td>\n",
       "      <td>1098750.0</td>\n",
       "      <td>15500000.0</td>\n",
       "    </tr>\n",
       "    <tr>\n",
       "      <th>Garment-District</th>\n",
       "      <td>2.0</td>\n",
       "      <td>7.644950e+05</td>\n",
       "      <td>1.209082e+05</td>\n",
       "      <td>679000.0</td>\n",
       "      <td>721747.5</td>\n",
       "      <td>764495.0</td>\n",
       "      <td>807242.5</td>\n",
       "      <td>849990.0</td>\n",
       "    </tr>\n",
       "    <tr>\n",
       "      <th>Gramercy Park and Murray Hill</th>\n",
       "      <td>680.0</td>\n",
       "      <td>3.425567e+06</td>\n",
       "      <td>6.401425e+06</td>\n",
       "      <td>5250.0</td>\n",
       "      <td>742750.0</td>\n",
       "      <td>1352500.0</td>\n",
       "      <td>3495000.0</td>\n",
       "      <td>77700000.0</td>\n",
       "    </tr>\n",
       "    <tr>\n",
       "      <th>Greenwich Village and Soho</th>\n",
       "      <td>491.0</td>\n",
       "      <td>6.143121e+06</td>\n",
       "      <td>7.652360e+06</td>\n",
       "      <td>425000.0</td>\n",
       "      <td>1820000.0</td>\n",
       "      <td>3850000.0</td>\n",
       "      <td>7892500.0</td>\n",
       "      <td>80000000.0</td>\n",
       "    </tr>\n",
       "    <tr>\n",
       "      <th>Hells-Kitchen</th>\n",
       "      <td>89.0</td>\n",
       "      <td>2.586552e+06</td>\n",
       "      <td>4.158278e+06</td>\n",
       "      <td>340000.0</td>\n",
       "      <td>795000.0</td>\n",
       "      <td>1200000.0</td>\n",
       "      <td>2300000.0</td>\n",
       "      <td>32000000.0</td>\n",
       "    </tr>\n",
       "    <tr>\n",
       "      <th>Inwood and Washington Heights</th>\n",
       "      <td>171.0</td>\n",
       "      <td>8.876723e+05</td>\n",
       "      <td>9.244581e+05</td>\n",
       "      <td>125000.0</td>\n",
       "      <td>399000.0</td>\n",
       "      <td>550000.0</td>\n",
       "      <td>850000.0</td>\n",
       "      <td>5850000.0</td>\n",
       "    </tr>\n",
       "    <tr>\n",
       "      <th>Long Island City</th>\n",
       "      <td>286.0</td>\n",
       "      <td>1.359773e+06</td>\n",
       "      <td>9.273469e+05</td>\n",
       "      <td>228888.0</td>\n",
       "      <td>752416.0</td>\n",
       "      <td>1187500.0</td>\n",
       "      <td>1599750.0</td>\n",
       "      <td>6750000.0</td>\n",
       "    </tr>\n",
       "    <tr>\n",
       "      <th>Lower East Side</th>\n",
       "      <td>354.0</td>\n",
       "      <td>2.510881e+06</td>\n",
       "      <td>2.846511e+06</td>\n",
       "      <td>295000.0</td>\n",
       "      <td>875000.0</td>\n",
       "      <td>1524500.0</td>\n",
       "      <td>2749750.0</td>\n",
       "      <td>21500000.0</td>\n",
       "    </tr>\n",
       "    <tr>\n",
       "      <th>Lower Manhattan</th>\n",
       "      <td>455.0</td>\n",
       "      <td>2.691797e+06</td>\n",
       "      <td>3.540199e+06</td>\n",
       "      <td>510000.0</td>\n",
       "      <td>950000.0</td>\n",
       "      <td>1695000.0</td>\n",
       "      <td>3050000.0</td>\n",
       "      <td>40000000.0</td>\n",
       "    </tr>\n",
       "    <tr>\n",
       "      <th>Midtown</th>\n",
       "      <td>136.0</td>\n",
       "      <td>2.141381e+06</td>\n",
       "      <td>2.083082e+06</td>\n",
       "      <td>359000.0</td>\n",
       "      <td>925000.0</td>\n",
       "      <td>1622500.0</td>\n",
       "      <td>2575000.0</td>\n",
       "      <td>19950000.0</td>\n",
       "    </tr>\n",
       "    <tr>\n",
       "      <th>Roosevelt Island</th>\n",
       "      <td>10.0</td>\n",
       "      <td>1.230300e+06</td>\n",
       "      <td>5.439767e+05</td>\n",
       "      <td>430000.0</td>\n",
       "      <td>922500.0</td>\n",
       "      <td>1299500.0</td>\n",
       "      <td>1477500.0</td>\n",
       "      <td>2225000.0</td>\n",
       "    </tr>\n",
       "    <tr>\n",
       "      <th>Sutton-Place</th>\n",
       "      <td>186.0</td>\n",
       "      <td>1.745604e+06</td>\n",
       "      <td>1.904806e+06</td>\n",
       "      <td>364000.0</td>\n",
       "      <td>811500.0</td>\n",
       "      <td>1237000.0</td>\n",
       "      <td>1992500.0</td>\n",
       "      <td>15750000.0</td>\n",
       "    </tr>\n",
       "    <tr>\n",
       "      <th>Tudor-City</th>\n",
       "      <td>56.0</td>\n",
       "      <td>1.422337e+06</td>\n",
       "      <td>9.012462e+05</td>\n",
       "      <td>2995.0</td>\n",
       "      <td>737500.0</td>\n",
       "      <td>1092000.0</td>\n",
       "      <td>1998750.0</td>\n",
       "      <td>3880000.0</td>\n",
       "    </tr>\n",
       "    <tr>\n",
       "      <th>Turtle-Bay</th>\n",
       "      <td>89.0</td>\n",
       "      <td>2.383617e+06</td>\n",
       "      <td>2.178177e+06</td>\n",
       "      <td>359000.0</td>\n",
       "      <td>850000.0</td>\n",
       "      <td>1750000.0</td>\n",
       "      <td>2895000.0</td>\n",
       "      <td>14000000.0</td>\n",
       "    </tr>\n",
       "    <tr>\n",
       "      <th>Upper East Side</th>\n",
       "      <td>890.0</td>\n",
       "      <td>4.786283e+06</td>\n",
       "      <td>6.723792e+06</td>\n",
       "      <td>295000.0</td>\n",
       "      <td>936000.0</td>\n",
       "      <td>2250000.0</td>\n",
       "      <td>5500000.0</td>\n",
       "      <td>59000000.0</td>\n",
       "    </tr>\n",
       "    <tr>\n",
       "      <th>Upper West Side</th>\n",
       "      <td>586.0</td>\n",
       "      <td>3.707005e+06</td>\n",
       "      <td>4.353122e+06</td>\n",
       "      <td>150000.0</td>\n",
       "      <td>927500.0</td>\n",
       "      <td>1897500.0</td>\n",
       "      <td>4470000.0</td>\n",
       "      <td>26500000.0</td>\n",
       "    </tr>\n",
       "    <tr>\n",
       "      <th>murray-hill</th>\n",
       "      <td>48.0</td>\n",
       "      <td>9.314792e+05</td>\n",
       "      <td>4.272113e+05</td>\n",
       "      <td>448000.0</td>\n",
       "      <td>698000.0</td>\n",
       "      <td>797000.0</td>\n",
       "      <td>1095000.0</td>\n",
       "      <td>2475000.0</td>\n",
       "    </tr>\n",
       "  </tbody>\n",
       "</table>\n",
       "</div>"
      ],
      "text/plain": [
       "                               count          mean           std       min  \\\n",
       "Neighborhood                                                                 \n",
       "Central Harlem                 254.0  1.495860e+06  1.376614e+06  229000.0   \n",
       "Chelsea and Clinton            627.0  6.373493e+06  1.078630e+07  249000.0   \n",
       "East Harlem                     94.0  1.433678e+06  1.879204e+06  115000.0   \n",
       "Garment-District                 2.0  7.644950e+05  1.209082e+05  679000.0   \n",
       "Gramercy Park and Murray Hill  680.0  3.425567e+06  6.401425e+06    5250.0   \n",
       "Greenwich Village and Soho     491.0  6.143121e+06  7.652360e+06  425000.0   \n",
       "Hells-Kitchen                   89.0  2.586552e+06  4.158278e+06  340000.0   \n",
       "Inwood and Washington Heights  171.0  8.876723e+05  9.244581e+05  125000.0   \n",
       "Long Island City               286.0  1.359773e+06  9.273469e+05  228888.0   \n",
       "Lower East Side                354.0  2.510881e+06  2.846511e+06  295000.0   \n",
       "Lower Manhattan                455.0  2.691797e+06  3.540199e+06  510000.0   \n",
       "Midtown                        136.0  2.141381e+06  2.083082e+06  359000.0   \n",
       "Roosevelt Island                10.0  1.230300e+06  5.439767e+05  430000.0   \n",
       "Sutton-Place                   186.0  1.745604e+06  1.904806e+06  364000.0   \n",
       "Tudor-City                      56.0  1.422337e+06  9.012462e+05    2995.0   \n",
       "Turtle-Bay                      89.0  2.383617e+06  2.178177e+06  359000.0   \n",
       "Upper East Side                890.0  4.786283e+06  6.723792e+06  295000.0   \n",
       "Upper West Side                586.0  3.707005e+06  4.353122e+06  150000.0   \n",
       "murray-hill                     48.0  9.314792e+05  4.272113e+05  448000.0   \n",
       "\n",
       "                                     25%        50%        75%         max  \n",
       "Neighborhood                                                                \n",
       "Central Harlem                  676250.0   972500.0  1948750.0  11900000.0  \n",
       "Chelsea and Clinton            1057500.0  2299000.0  6500000.0  88000000.0  \n",
       "East Harlem                     612250.0   759704.5  1098750.0  15500000.0  \n",
       "Garment-District                721747.5   764495.0   807242.5    849990.0  \n",
       "Gramercy Park and Murray Hill   742750.0  1352500.0  3495000.0  77700000.0  \n",
       "Greenwich Village and Soho     1820000.0  3850000.0  7892500.0  80000000.0  \n",
       "Hells-Kitchen                   795000.0  1200000.0  2300000.0  32000000.0  \n",
       "Inwood and Washington Heights   399000.0   550000.0   850000.0   5850000.0  \n",
       "Long Island City                752416.0  1187500.0  1599750.0   6750000.0  \n",
       "Lower East Side                 875000.0  1524500.0  2749750.0  21500000.0  \n",
       "Lower Manhattan                 950000.0  1695000.0  3050000.0  40000000.0  \n",
       "Midtown                         925000.0  1622500.0  2575000.0  19950000.0  \n",
       "Roosevelt Island                922500.0  1299500.0  1477500.0   2225000.0  \n",
       "Sutton-Place                    811500.0  1237000.0  1992500.0  15750000.0  \n",
       "Tudor-City                      737500.0  1092000.0  1998750.0   3880000.0  \n",
       "Turtle-Bay                      850000.0  1750000.0  2895000.0  14000000.0  \n",
       "Upper East Side                 936000.0  2250000.0  5500000.0  59000000.0  \n",
       "Upper West Side                 927500.0  1897500.0  4470000.0  26500000.0  \n",
       "murray-hill                     698000.0   797000.0  1095000.0   2475000.0  "
      ]
     },
     "execution_count": 9,
     "metadata": {},
     "output_type": "execute_result"
    }
   ],
   "source": [
    "zipcode_group['price'].describe()"
   ]
  },
  {
   "cell_type": "code",
   "execution_count": 10,
   "metadata": {},
   "outputs": [
    {
     "data": {
      "text/plain": [
       "(-10000, 7000000)"
      ]
     },
     "execution_count": 10,
     "metadata": {},
     "output_type": "execute_result"
    },
    {
     "data": {
      "image/png": "[encoded data removed]",
      "text/plain": [
       "<matplotlib.figure.Figure at 0x11aed0080>"
      ]
     },
     "metadata": {},
     "output_type": "display_data"
    }
   ],
   "source": [
    "plt.boxplot(df['price'])\n",
    "plt.ylim(-10000,7000000)"
   ]
  },
  {
   "cell_type": "code",
   "execution_count": 11,
   "metadata": {},
   "outputs": [
    {
     "data": {
      "image/png": "[encoded data removed]",
      "text/plain": [
       "<matplotlib.figure.Figure at 0x11b4f5390>"
      ]
     },
     "metadata": {},
     "output_type": "display_data"
    }
   ],
   "source": [
    "#visualization of sale price range grouby zipcode\n",
    "fig, ax = plt.subplots(figsize=(30, 30))\n",
    "df.boxplot(column = 'price',by='Neighborhood', ax= ax)\n",
    "ax.set_ylim([-10000,20000000])\n",
    "plt.ylabel('Price')\n",
    "#plt.figure(figsize=(30,30))\n",
    "plt.savefig('grouby1.png')\n",
    "plt.show()\n"
   ]
  },
  {
   "cell_type": "code",
   "execution_count": 12,
   "metadata": {},
   "outputs": [
    {
     "data": {
      "image/png": "[encoded data removed]",
      "text/plain": [
       "<matplotlib.figure.Figure at 0x11b5b3278>"
      ]
     },
     "metadata": {},
     "output_type": "display_data"
    }
   ],
   "source": [
    "fig, ax = plt.subplots(figsize=(10, 10))\n",
    "df.boxplot( column ='size',ax= ax)\n",
    "#ax.set_ylim([-10000,20000000])\n",
    "plt.ylabel('Price')\n",
    "#plt.figure(figsize=(30,30))\n",
    "#plt.savefig('grouby1.png')\n",
    "plt.show()\n"
   ]
  },
  {
   "cell_type": "code",
   "execution_count": 13,
   "metadata": {},
   "outputs": [
    {
     "data": {
      "image/png": "[encoded data removed]",
      "text/plain": [
       "<matplotlib.figure.Figure at 0x11cd02908>"
      ]
     },
     "metadata": {},
     "output_type": "display_data"
    }
   ],
   "source": [
    "#visualization of sale price range grouby zipcode\n",
    "fig, ax = plt.subplots(figsize=(10, 10))\n",
    "df.boxplot(column = 'price',by='Neighborhood', ax= ax)\n",
    "ax.set_ylim([-10000,20000000])\n",
    "plt.ylabel('Price')\n",
    "#plt.figure(figsize=(30,30))\n",
    "plt.savefig('grouby2.png')\n",
    "plt.show()\n"
   ]
  },
  {
   "cell_type": "code",
   "execution_count": 16,
   "metadata": {},
   "outputs": [
    {
     "data": {
      "text/plain": [
       "<matplotlib.figure.Figure at 0x11dc8c0f0>"
      ]
     },
     "metadata": {},
     "output_type": "display_data"
    }
   ],
   "source": [
    "plt.savefig('books_read.png')"
   ]
  },
  {
   "cell_type": "code",
   "execution_count": 17,
   "metadata": {},
   "outputs": [
    {
     "data": {
      "text/plain": [
       "zipcode\n",
       "10001.0    6.722657e+06\n",
       "10002.0    1.954148e+06\n",
       "10003.0    3.264918e+06\n",
       "10004.0    1.824117e+06\n",
       "10005.0    1.514492e+06\n",
       "10006.0    1.959298e+06\n",
       "10007.0    5.447447e+06\n",
       "10009.0    1.527622e+06\n",
       "10010.0    4.883575e+06\n",
       "10011.0    5.609249e+06\n",
       "10012.0    5.337758e+06\n",
       "10013.0    6.841851e+06\n",
       "10014.0    5.960210e+06\n",
       "10016.0    2.032874e+06\n",
       "10017.0    2.191135e+06\n",
       "10018.0    3.651434e+06\n",
       "10019.0    3.981424e+06\n",
       "10021.0    6.674254e+06\n",
       "10022.0    3.372132e+06\n",
       "10023.0    4.829676e+06\n",
       "10024.0    4.296292e+06\n",
       "10025.0    1.741237e+06\n",
       "10026.0    1.820764e+06\n",
       "10027.0    1.562876e+06\n",
       "10028.0    4.368496e+06\n",
       "10029.0    1.450800e+06\n",
       "10030.0    1.047746e+06\n",
       "10031.0    1.521879e+06\n",
       "10032.0    6.594065e+05\n",
       "10033.0    7.388409e+05\n",
       "10034.0    5.134166e+05\n",
       "10035.0    1.386420e+06\n",
       "10036.0    3.313232e+06\n",
       "10037.0    1.295857e+06\n",
       "10038.0    2.309268e+06\n",
       "10039.0    8.210909e+05\n",
       "10040.0    5.948823e+05\n",
       "10044.0    1.230300e+06\n",
       "10065.0    7.190403e+06\n",
       "10069.0    3.566720e+06\n",
       "10075.0    3.369906e+06\n",
       "10128.0    4.242249e+06\n",
       "10280.0    1.427088e+06\n",
       "10282.0    3.033455e+06\n",
       "11101.0    1.386570e+06\n",
       "11102.0    1.207729e+06\n",
       "11103.0    1.781189e+06\n",
       "11104.0    1.043271e+06\n",
       "11105.0    1.312947e+06\n",
       "11106.0    1.316479e+06\n",
       "Name: price, dtype: float64"
      ]
     },
     "execution_count": 17,
     "metadata": {},
     "output_type": "execute_result"
    }
   ],
   "source": [
    "df.groupby('zipcode')['price'].mean()"
   ]
  },
  {
   "cell_type": "code",
   "execution_count": null,
   "metadata": {},
   "outputs": [],
   "source": []
  },
  {
   "cell_type": "code",
   "execution_count": 5,
   "metadata": {},
   "outputs": [
    {
     "data": {
      "text/plain": [
       "array(['Midtown', 'Hells-Kitchen', 'Tudor-City', 'murray-hill',\n",
       "       'Garment-District', 'Hudson-Yards', 'Turtle-Bay', 'Sutton-Place'], dtype=object)"
      ]
     },
     "execution_count": 5,
     "metadata": {},
     "output_type": "execute_result"
    }
   ],
   "source": [
    "df['Neighborhood'].unique()"
   ]
  },
  {
   "cell_type": "code",
   "execution_count": 6,
   "metadata": {},
   "outputs": [
    {
     "name": "stdout",
     "output_type": "stream",
     "text": [
      "<class 'pandas.core.frame.DataFrame'>\n",
      "RangeIndex: 1644 entries, 0 to 1643\n",
      "Data columns (total 15 columns):\n",
      "Unnamed: 0      1644 non-null int64\n",
      "Neighborhood    1644 non-null object\n",
      "address         1321 non-null object\n",
      "bath            1321 non-null float64\n",
      "bed             1321 non-null float64\n",
      "description     1321 non-null object\n",
      "latitude        1643 non-null float64\n",
      "logitude        1643 non-null float64\n",
      "page_url        1644 non-null object\n",
      "price           1318 non-null float64\n",
      "rent            1318 non-null float64\n",
      "sale            1318 non-null float64\n",
      "size            1643 non-null object\n",
      "year built      1643 non-null object\n",
      "zipcode         1321 non-null float64\n",
      "dtypes: float64(8), int64(1), object(6)\n",
      "memory usage: 192.7+ KB\n"
     ]
    }
   ],
   "source": [
    "df.info()"
   ]
  },
  {
   "cell_type": "code",
   "execution_count": 13,
   "metadata": {},
   "outputs": [],
   "source": [
    "df['zipcode'] = df['zipcode'].apply(lambda x: str(x))"
   ]
  },
  {
   "cell_type": "code",
   "execution_count": 14,
   "metadata": {},
   "outputs": [
    {
     "name": "stdout",
     "output_type": "stream",
     "text": [
      "<class 'pandas.core.frame.DataFrame'>\n",
      "RangeIndex: 1644 entries, 0 to 1643\n",
      "Data columns (total 15 columns):\n",
      "Unnamed: 0      1644 non-null int64\n",
      "Neighborhood    1644 non-null object\n",
      "address         1321 non-null object\n",
      "bath            1321 non-null float64\n",
      "bed             1321 non-null float64\n",
      "description     1321 non-null object\n",
      "latitude        1643 non-null float64\n",
      "logitude        1643 non-null float64\n",
      "page_url        1644 non-null object\n",
      "price           1318 non-null float64\n",
      "rent            1318 non-null float64\n",
      "sale            1318 non-null float64\n",
      "size            1643 non-null object\n",
      "year built      1643 non-null object\n",
      "zipcode         1644 non-null object\n",
      "dtypes: float64(7), int64(1), object(7)\n",
      "memory usage: 192.7+ KB\n"
     ]
    }
   ],
   "source": [
    "df.info()"
   ]
  },
  {
   "cell_type": "code",
   "execution_count": 22,
   "metadata": {},
   "outputs": [
    {
     "ename": "HTTPError",
     "evalue": "HTTP Error 404: Not Found",
     "output_type": "error",
     "traceback": [
      "\u001b[0;31m---------------------------------------------------------------------------\u001b[0m",
      "\u001b[0;31mHTTPError\u001b[0m                                 Traceback (most recent call last)",
      "\u001b[0;32m<ipython-input-22-de21beab9772>\u001b[0m in \u001b[0;36m<module>\u001b[0;34m()\u001b[0m\n\u001b[1;32m      1\u001b[0m \u001b[0;32mimport\u001b[0m \u001b[0mseaborn\u001b[0m \u001b[0;32mas\u001b[0m \u001b[0msns\u001b[0m\u001b[0;34m\u001b[0m\u001b[0;34m\u001b[0m\u001b[0m\n\u001b[1;32m      2\u001b[0m \u001b[0msns\u001b[0m\u001b[0;34m.\u001b[0m\u001b[0mset\u001b[0m\u001b[0;34m(\u001b[0m\u001b[0mstyle\u001b[0m\u001b[0;34m=\u001b[0m\u001b[0;34m\"whitegrid\"\u001b[0m\u001b[0;34m)\u001b[0m\u001b[0;34m\u001b[0m\u001b[0;34m\u001b[0m\u001b[0m\n\u001b[0;32m----> 3\u001b[0;31m \u001b[0mtips\u001b[0m \u001b[0;34m=\u001b[0m \u001b[0msns\u001b[0m\u001b[0;34m.\u001b[0m\u001b[0mload_dataset\u001b[0m\u001b[0;34m(\u001b[0m\u001b[0;34m'df'\u001b[0m\u001b[0;34m)\u001b[0m\u001b[0;34m\u001b[0m\u001b[0;34m\u001b[0m\u001b[0m\n\u001b[0m\u001b[1;32m      4\u001b[0m \u001b[0max\u001b[0m \u001b[0;34m=\u001b[0m \u001b[0msns\u001b[0m\u001b[0;34m.\u001b[0m\u001b[0mboxplot\u001b[0m\u001b[0;34m(\u001b[0m\u001b[0mx\u001b[0m\u001b[0;34m=\u001b[0m\u001b[0mtips\u001b[0m\u001b[0;34m[\u001b[0m\u001b[0;34m\"price\"\u001b[0m\u001b[0;34m]\u001b[0m\u001b[0;34m)\u001b[0m\u001b[0;34m\u001b[0m\u001b[0;34m\u001b[0m\u001b[0m\n",
      "\u001b[0;32m~/anaconda3/lib/python3.6/site-packages/seaborn/utils.py\u001b[0m in \u001b[0;36mload_dataset\u001b[0;34m(name, cache, data_home, **kws)\u001b[0m\n\u001b[1;32m    392\u001b[0m                                   os.path.basename(full_path))\n\u001b[1;32m    393\u001b[0m         \u001b[0;32mif\u001b[0m \u001b[0;32mnot\u001b[0m \u001b[0mos\u001b[0m\u001b[0;34m.\u001b[0m\u001b[0mpath\u001b[0m\u001b[0;34m.\u001b[0m\u001b[0mexists\u001b[0m\u001b[0;34m(\u001b[0m\u001b[0mcache_path\u001b[0m\u001b[0;34m)\u001b[0m\u001b[0;34m:\u001b[0m\u001b[0;34m\u001b[0m\u001b[0;34m\u001b[0m\u001b[0m\n\u001b[0;32m--> 394\u001b[0;31m             \u001b[0murlretrieve\u001b[0m\u001b[0;34m(\u001b[0m\u001b[0mfull_path\u001b[0m\u001b[0;34m,\u001b[0m \u001b[0mcache_path\u001b[0m\u001b[0;34m)\u001b[0m\u001b[0;34m\u001b[0m\u001b[0;34m\u001b[0m\u001b[0m\n\u001b[0m\u001b[1;32m    395\u001b[0m         \u001b[0mfull_path\u001b[0m \u001b[0;34m=\u001b[0m \u001b[0mcache_path\u001b[0m\u001b[0;34m\u001b[0m\u001b[0;34m\u001b[0m\u001b[0m\n\u001b[1;32m    396\u001b[0m \u001b[0;34m\u001b[0m\u001b[0m\n",
      "\u001b[0;32m~/anaconda3/lib/python3.6/urllib/request.py\u001b[0m in \u001b[0;36murlretrieve\u001b[0;34m(url, filename, reporthook, data)\u001b[0m\n\u001b[1;32m    246\u001b[0m     \u001b[0murl_type\u001b[0m\u001b[0;34m,\u001b[0m \u001b[0mpath\u001b[0m \u001b[0;34m=\u001b[0m \u001b[0msplittype\u001b[0m\u001b[0;34m(\u001b[0m\u001b[0murl\u001b[0m\u001b[0;34m)\u001b[0m\u001b[0;34m\u001b[0m\u001b[0;34m\u001b[0m\u001b[0m\n\u001b[1;32m    247\u001b[0m \u001b[0;34m\u001b[0m\u001b[0m\n\u001b[0;32m--> 248\u001b[0;31m     \u001b[0;32mwith\u001b[0m \u001b[0mcontextlib\u001b[0m\u001b[0;34m.\u001b[0m\u001b[0mclosing\u001b[0m\u001b[0;34m(\u001b[0m\u001b[0murlopen\u001b[0m\u001b[0;34m(\u001b[0m\u001b[0murl\u001b[0m\u001b[0;34m,\u001b[0m \u001b[0mdata\u001b[0m\u001b[0;34m)\u001b[0m\u001b[0;34m)\u001b[0m \u001b[0;32mas\u001b[0m \u001b[0mfp\u001b[0m\u001b[0;34m:\u001b[0m\u001b[0;34m\u001b[0m\u001b[0;34m\u001b[0m\u001b[0m\n\u001b[0m\u001b[1;32m    249\u001b[0m         \u001b[0mheaders\u001b[0m \u001b[0;34m=\u001b[0m \u001b[0mfp\u001b[0m\u001b[0;34m.\u001b[0m\u001b[0minfo\u001b[0m\u001b[0;34m(\u001b[0m\u001b[0;34m)\u001b[0m\u001b[0;34m\u001b[0m\u001b[0;34m\u001b[0m\u001b[0m\n\u001b[1;32m    250\u001b[0m \u001b[0;34m\u001b[0m\u001b[0m\n",
      "\u001b[0;32m~/anaconda3/lib/python3.6/urllib/request.py\u001b[0m in \u001b[0;36murlopen\u001b[0;34m(url, data, timeout, cafile, capath, cadefault, context)\u001b[0m\n\u001b[1;32m    221\u001b[0m     \u001b[0;32melse\u001b[0m\u001b[0;34m:\u001b[0m\u001b[0;34m\u001b[0m\u001b[0;34m\u001b[0m\u001b[0m\n\u001b[1;32m    222\u001b[0m         \u001b[0mopener\u001b[0m \u001b[0;34m=\u001b[0m \u001b[0m_opener\u001b[0m\u001b[0;34m\u001b[0m\u001b[0;34m\u001b[0m\u001b[0m\n\u001b[0;32m--> 223\u001b[0;31m     \u001b[0;32mreturn\u001b[0m \u001b[0mopener\u001b[0m\u001b[0;34m.\u001b[0m\u001b[0mopen\u001b[0m\u001b[0;34m(\u001b[0m\u001b[0murl\u001b[0m\u001b[0;34m,\u001b[0m \u001b[0mdata\u001b[0m\u001b[0;34m,\u001b[0m \u001b[0mtimeout\u001b[0m\u001b[0;34m)\u001b[0m\u001b[0;34m\u001b[0m\u001b[0;34m\u001b[0m\u001b[0m\n\u001b[0m\u001b[1;32m    224\u001b[0m \u001b[0;34m\u001b[0m\u001b[0m\n\u001b[1;32m    225\u001b[0m \u001b[0;32mdef\u001b[0m \u001b[0minstall_opener\u001b[0m\u001b[0;34m(\u001b[0m\u001b[0mopener\u001b[0m\u001b[0;34m)\u001b[0m\u001b[0;34m:\u001b[0m\u001b[0;34m\u001b[0m\u001b[0;34m\u001b[0m\u001b[0m\n",
      "\u001b[0;32m~/anaconda3/lib/python3.6/urllib/request.py\u001b[0m in \u001b[0;36mopen\u001b[0;34m(self, fullurl, data, timeout)\u001b[0m\n\u001b[1;32m    530\u001b[0m         \u001b[0;32mfor\u001b[0m \u001b[0mprocessor\u001b[0m \u001b[0;32min\u001b[0m \u001b[0mself\u001b[0m\u001b[0;34m.\u001b[0m\u001b[0mprocess_response\u001b[0m\u001b[0;34m.\u001b[0m\u001b[0mget\u001b[0m\u001b[0;34m(\u001b[0m\u001b[0mprotocol\u001b[0m\u001b[0;34m,\u001b[0m \u001b[0;34m[\u001b[0m\u001b[0;34m]\u001b[0m\u001b[0;34m)\u001b[0m\u001b[0;34m:\u001b[0m\u001b[0;34m\u001b[0m\u001b[0;34m\u001b[0m\u001b[0m\n\u001b[1;32m    531\u001b[0m             \u001b[0mmeth\u001b[0m \u001b[0;34m=\u001b[0m \u001b[0mgetattr\u001b[0m\u001b[0;34m(\u001b[0m\u001b[0mprocessor\u001b[0m\u001b[0;34m,\u001b[0m \u001b[0mmeth_name\u001b[0m\u001b[0;34m)\u001b[0m\u001b[0;34m\u001b[0m\u001b[0;34m\u001b[0m\u001b[0m\n\u001b[0;32m--> 532\u001b[0;31m             \u001b[0mresponse\u001b[0m \u001b[0;34m=\u001b[0m \u001b[0mmeth\u001b[0m\u001b[0;34m(\u001b[0m\u001b[0mreq\u001b[0m\u001b[0;34m,\u001b[0m \u001b[0mresponse\u001b[0m\u001b[0;34m)\u001b[0m\u001b[0;34m\u001b[0m\u001b[0;34m\u001b[0m\u001b[0m\n\u001b[0m\u001b[1;32m    533\u001b[0m \u001b[0;34m\u001b[0m\u001b[0m\n\u001b[1;32m    534\u001b[0m         \u001b[0;32mreturn\u001b[0m \u001b[0mresponse\u001b[0m\u001b[0;34m\u001b[0m\u001b[0;34m\u001b[0m\u001b[0m\n",
      "\u001b[0;32m~/anaconda3/lib/python3.6/urllib/request.py\u001b[0m in \u001b[0;36mhttp_response\u001b[0;34m(self, request, response)\u001b[0m\n\u001b[1;32m    640\u001b[0m         \u001b[0;32mif\u001b[0m \u001b[0;32mnot\u001b[0m \u001b[0;34m(\u001b[0m\u001b[0;36m200\u001b[0m \u001b[0;34m<=\u001b[0m \u001b[0mcode\u001b[0m \u001b[0;34m<\u001b[0m \u001b[0;36m300\u001b[0m\u001b[0;34m)\u001b[0m\u001b[0;34m:\u001b[0m\u001b[0;34m\u001b[0m\u001b[0;34m\u001b[0m\u001b[0m\n\u001b[1;32m    641\u001b[0m             response = self.parent.error(\n\u001b[0;32m--> 642\u001b[0;31m                 'http', request, response, code, msg, hdrs)\n\u001b[0m\u001b[1;32m    643\u001b[0m \u001b[0;34m\u001b[0m\u001b[0m\n\u001b[1;32m    644\u001b[0m         \u001b[0;32mreturn\u001b[0m \u001b[0mresponse\u001b[0m\u001b[0;34m\u001b[0m\u001b[0;34m\u001b[0m\u001b[0m\n",
      "\u001b[0;32m~/anaconda3/lib/python3.6/urllib/request.py\u001b[0m in \u001b[0;36merror\u001b[0;34m(self, proto, *args)\u001b[0m\n\u001b[1;32m    568\u001b[0m         \u001b[0;32mif\u001b[0m \u001b[0mhttp_err\u001b[0m\u001b[0;34m:\u001b[0m\u001b[0;34m\u001b[0m\u001b[0;34m\u001b[0m\u001b[0m\n\u001b[1;32m    569\u001b[0m             \u001b[0margs\u001b[0m \u001b[0;34m=\u001b[0m \u001b[0;34m(\u001b[0m\u001b[0mdict\u001b[0m\u001b[0;34m,\u001b[0m \u001b[0;34m'default'\u001b[0m\u001b[0;34m,\u001b[0m \u001b[0;34m'http_error_default'\u001b[0m\u001b[0;34m)\u001b[0m \u001b[0;34m+\u001b[0m \u001b[0morig_args\u001b[0m\u001b[0;34m\u001b[0m\u001b[0;34m\u001b[0m\u001b[0m\n\u001b[0;32m--> 570\u001b[0;31m             \u001b[0;32mreturn\u001b[0m \u001b[0mself\u001b[0m\u001b[0;34m.\u001b[0m\u001b[0m_call_chain\u001b[0m\u001b[0;34m(\u001b[0m\u001b[0;34m*\u001b[0m\u001b[0margs\u001b[0m\u001b[0;34m)\u001b[0m\u001b[0;34m\u001b[0m\u001b[0;34m\u001b[0m\u001b[0m\n\u001b[0m\u001b[1;32m    571\u001b[0m \u001b[0;34m\u001b[0m\u001b[0m\n\u001b[1;32m    572\u001b[0m \u001b[0;31m# XXX probably also want an abstract factory that knows when it makes\u001b[0m\u001b[0;34m\u001b[0m\u001b[0;34m\u001b[0m\u001b[0;34m\u001b[0m\u001b[0m\n",
      "\u001b[0;32m~/anaconda3/lib/python3.6/urllib/request.py\u001b[0m in \u001b[0;36m_call_chain\u001b[0;34m(self, chain, kind, meth_name, *args)\u001b[0m\n\u001b[1;32m    502\u001b[0m         \u001b[0;32mfor\u001b[0m \u001b[0mhandler\u001b[0m \u001b[0;32min\u001b[0m \u001b[0mhandlers\u001b[0m\u001b[0;34m:\u001b[0m\u001b[0;34m\u001b[0m\u001b[0;34m\u001b[0m\u001b[0m\n\u001b[1;32m    503\u001b[0m             \u001b[0mfunc\u001b[0m \u001b[0;34m=\u001b[0m \u001b[0mgetattr\u001b[0m\u001b[0;34m(\u001b[0m\u001b[0mhandler\u001b[0m\u001b[0;34m,\u001b[0m \u001b[0mmeth_name\u001b[0m\u001b[0;34m)\u001b[0m\u001b[0;34m\u001b[0m\u001b[0;34m\u001b[0m\u001b[0m\n\u001b[0;32m--> 504\u001b[0;31m             \u001b[0mresult\u001b[0m \u001b[0;34m=\u001b[0m \u001b[0mfunc\u001b[0m\u001b[0;34m(\u001b[0m\u001b[0;34m*\u001b[0m\u001b[0margs\u001b[0m\u001b[0;34m)\u001b[0m\u001b[0;34m\u001b[0m\u001b[0;34m\u001b[0m\u001b[0m\n\u001b[0m\u001b[1;32m    505\u001b[0m             \u001b[0;32mif\u001b[0m \u001b[0mresult\u001b[0m \u001b[0;32mis\u001b[0m \u001b[0;32mnot\u001b[0m \u001b[0;32mNone\u001b[0m\u001b[0;34m:\u001b[0m\u001b[0;34m\u001b[0m\u001b[0;34m\u001b[0m\u001b[0m\n\u001b[1;32m    506\u001b[0m                 \u001b[0;32mreturn\u001b[0m \u001b[0mresult\u001b[0m\u001b[0;34m\u001b[0m\u001b[0;34m\u001b[0m\u001b[0m\n",
      "\u001b[0;32m~/anaconda3/lib/python3.6/urllib/request.py\u001b[0m in \u001b[0;36mhttp_error_default\u001b[0;34m(self, req, fp, code, msg, hdrs)\u001b[0m\n\u001b[1;32m    648\u001b[0m \u001b[0;32mclass\u001b[0m \u001b[0mHTTPDefaultErrorHandler\u001b[0m\u001b[0;34m(\u001b[0m\u001b[0mBaseHandler\u001b[0m\u001b[0;34m)\u001b[0m\u001b[0;34m:\u001b[0m\u001b[0;34m\u001b[0m\u001b[0;34m\u001b[0m\u001b[0m\n\u001b[1;32m    649\u001b[0m     \u001b[0;32mdef\u001b[0m \u001b[0mhttp_error_default\u001b[0m\u001b[0;34m(\u001b[0m\u001b[0mself\u001b[0m\u001b[0;34m,\u001b[0m \u001b[0mreq\u001b[0m\u001b[0;34m,\u001b[0m \u001b[0mfp\u001b[0m\u001b[0;34m,\u001b[0m \u001b[0mcode\u001b[0m\u001b[0;34m,\u001b[0m \u001b[0mmsg\u001b[0m\u001b[0;34m,\u001b[0m \u001b[0mhdrs\u001b[0m\u001b[0;34m)\u001b[0m\u001b[0;34m:\u001b[0m\u001b[0;34m\u001b[0m\u001b[0;34m\u001b[0m\u001b[0m\n\u001b[0;32m--> 650\u001b[0;31m         \u001b[0;32mraise\u001b[0m \u001b[0mHTTPError\u001b[0m\u001b[0;34m(\u001b[0m\u001b[0mreq\u001b[0m\u001b[0;34m.\u001b[0m\u001b[0mfull_url\u001b[0m\u001b[0;34m,\u001b[0m \u001b[0mcode\u001b[0m\u001b[0;34m,\u001b[0m \u001b[0mmsg\u001b[0m\u001b[0;34m,\u001b[0m \u001b[0mhdrs\u001b[0m\u001b[0;34m,\u001b[0m \u001b[0mfp\u001b[0m\u001b[0;34m)\u001b[0m\u001b[0;34m\u001b[0m\u001b[0;34m\u001b[0m\u001b[0m\n\u001b[0m\u001b[1;32m    651\u001b[0m \u001b[0;34m\u001b[0m\u001b[0m\n\u001b[1;32m    652\u001b[0m \u001b[0;32mclass\u001b[0m \u001b[0mHTTPRedirectHandler\u001b[0m\u001b[0;34m(\u001b[0m\u001b[0mBaseHandler\u001b[0m\u001b[0;34m)\u001b[0m\u001b[0;34m:\u001b[0m\u001b[0;34m\u001b[0m\u001b[0;34m\u001b[0m\u001b[0m\n",
      "\u001b[0;31mHTTPError\u001b[0m: HTTP Error 404: Not Found"
     ]
    }
   ],
   "source": [
    "import seaborn as sns\n",
    "sns.set(style=\"whitegrid\")\n",
    "tips = sns.load_dataset('df')\n",
    "ax = sns.boxplot(x=tips[\"price\"])"
   ]
  },
  {
   "cell_type": "code",
   "execution_count": 24,
   "metadata": {},
   "outputs": [
    {
     "name": "stdout",
     "output_type": "stream",
     "text": [
      "Collecting scikit-learn\n",
      "\u001b[?25l  Downloading https://files.pythonhosted.org/packages/7e/90/bfe484adb16cdad078967b2b480517ec6c1180137e26fb4b015bcb090226/scikit_learn-0.20.3-cp36-cp36m-macosx_10_6_intel.macosx_10_9_intel.macosx_10_9_x86_64.macosx_10_10_intel.macosx_10_10_x86_64.whl (8.0MB)\n",
      "\u001b[K    100% |████████████████████████████████| 8.0MB 552kB/s ta 0:00:011\n",
      "\u001b[?25hRequirement already satisfied, skipping upgrade: scipy>=0.13.3 in /Users/sarahyu/anaconda3/lib/python3.6/site-packages (from scikit-learn) (0.19.1)\n",
      "Requirement already satisfied, skipping upgrade: numpy>=1.8.2 in /Users/sarahyu/anaconda3/lib/python3.6/site-packages (from scikit-learn) (1.13.3)\n",
      "Installing collected packages: scikit-learn\n",
      "  Found existing installation: scikit-learn 0.19.1\n",
      "    Uninstalling scikit-learn-0.19.1:\n",
      "      Successfully uninstalled scikit-learn-0.19.1\n",
      "Successfully installed scikit-learn-0.20.3\n"
     ]
    }
   ],
   "source": [
    "!pip install -U scikit-learn\n"
   ]
  },
  {
   "cell_type": "code",
   "execution_count": 25,
   "metadata": {},
   "outputs": [
    {
     "data": {
      "text/plain": [
       "Neighborhood      0\n",
       "bath              0\n",
       "bed               0\n",
       "latitude          0\n",
       "logitude          0\n",
       "price             0\n",
       "size            775\n",
       "year built      169\n",
       "zipcode           0\n",
       "dtype: int64"
      ]
     },
     "execution_count": 25,
     "metadata": {},
     "output_type": "execute_result"
    }
   ],
   "source": [
    "df.isnull().sum()"
   ]
  },
  {
   "cell_type": "code",
   "execution_count": 18,
   "metadata": {},
   "outputs": [],
   "source": [
    "df = df.dropna()"
   ]
  },
  {
   "cell_type": "code",
   "execution_count": 19,
   "metadata": {},
   "outputs": [
    {
     "data": {
      "text/plain": [
       "4589"
      ]
     },
     "execution_count": 19,
     "metadata": {},
     "output_type": "execute_result"
    }
   ],
   "source": [
    "len(df)"
   ]
  },
  {
   "cell_type": "code",
   "execution_count": 20,
   "metadata": {},
   "outputs": [],
   "source": [
    "from sklearn.preprocessing import scale \n",
    "from sklearn.model_selection import train_test_split\n",
    "from sklearn.linear_model import Ridge, RidgeCV, Lasso, LassoCV\n",
    "from sklearn.metrics import mean_squared_error\n",
    "from sklearn import preprocessing"
   ]
  },
  {
   "cell_type": "code",
   "execution_count": 21,
   "metadata": {},
   "outputs": [
    {
     "data": {
      "text/html": [
       "<div>\n",
       "<style scoped>\n",
       "    .dataframe tbody tr th:only-of-type {\n",
       "        vertical-align: middle;\n",
       "    }\n",
       "\n",
       "    .dataframe tbody tr th {\n",
       "        vertical-align: top;\n",
       "    }\n",
       "\n",
       "    .dataframe thead th {\n",
       "        text-align: right;\n",
       "    }\n",
       "</style>\n",
       "<table border=\"1\" class=\"dataframe\">\n",
       "  <thead>\n",
       "    <tr style=\"text-align: right;\">\n",
       "      <th></th>\n",
       "      <th>Neighborhood</th>\n",
       "      <th>bath</th>\n",
       "      <th>bed</th>\n",
       "      <th>latitude</th>\n",
       "      <th>logitude</th>\n",
       "      <th>price</th>\n",
       "      <th>size</th>\n",
       "      <th>year built</th>\n",
       "      <th>zipcode</th>\n",
       "    </tr>\n",
       "  </thead>\n",
       "  <tbody>\n",
       "    <tr>\n",
       "      <th>3</th>\n",
       "      <td>Central Harlem</td>\n",
       "      <td>4.0</td>\n",
       "      <td>6.0</td>\n",
       "      <td>40.805301</td>\n",
       "      <td>-73.957099</td>\n",
       "      <td>1350000.0</td>\n",
       "      <td>3264.0</td>\n",
       "      <td>1901</td>\n",
       "      <td>10026.0</td>\n",
       "    </tr>\n",
       "    <tr>\n",
       "      <th>4</th>\n",
       "      <td>Central Harlem</td>\n",
       "      <td>4.0</td>\n",
       "      <td>5.0</td>\n",
       "      <td>40.802393</td>\n",
       "      <td>-73.957916</td>\n",
       "      <td>3995000.0</td>\n",
       "      <td>3333.0</td>\n",
       "      <td>1900</td>\n",
       "      <td>10026.0</td>\n",
       "    </tr>\n",
       "    <tr>\n",
       "      <th>5</th>\n",
       "      <td>Central Harlem</td>\n",
       "      <td>3.0</td>\n",
       "      <td>15.0</td>\n",
       "      <td>40.799701</td>\n",
       "      <td>-73.953697</td>\n",
       "      <td>4000000.0</td>\n",
       "      <td>3200.0</td>\n",
       "      <td>1900</td>\n",
       "      <td>10026.0</td>\n",
       "    </tr>\n",
       "    <tr>\n",
       "      <th>7</th>\n",
       "      <td>Central Harlem</td>\n",
       "      <td>2.0</td>\n",
       "      <td>2.0</td>\n",
       "      <td>40.805792</td>\n",
       "      <td>-73.956890</td>\n",
       "      <td>975000.0</td>\n",
       "      <td>923.0</td>\n",
       "      <td>1901</td>\n",
       "      <td>10026.0</td>\n",
       "    </tr>\n",
       "    <tr>\n",
       "      <th>8</th>\n",
       "      <td>Central Harlem</td>\n",
       "      <td>1.0</td>\n",
       "      <td>1.0</td>\n",
       "      <td>40.802101</td>\n",
       "      <td>-73.948799</td>\n",
       "      <td>385000.0</td>\n",
       "      <td>700.0</td>\n",
       "      <td>1999</td>\n",
       "      <td>10026.0</td>\n",
       "    </tr>\n",
       "  </tbody>\n",
       "</table>\n",
       "</div>"
      ],
      "text/plain": [
       "     Neighborhood  bath   bed   latitude   logitude      price    size  \\\n",
       "3  Central Harlem   4.0   6.0  40.805301 -73.957099  1350000.0  3264.0   \n",
       "4  Central Harlem   4.0   5.0  40.802393 -73.957916  3995000.0  3333.0   \n",
       "5  Central Harlem   3.0  15.0  40.799701 -73.953697  4000000.0  3200.0   \n",
       "7  Central Harlem   2.0   2.0  40.805792 -73.956890   975000.0   923.0   \n",
       "8  Central Harlem   1.0   1.0  40.802101 -73.948799   385000.0   700.0   \n",
       "\n",
       "  year built  zipcode  \n",
       "3       1901  10026.0  \n",
       "4       1900  10026.0  \n",
       "5       1900  10026.0  \n",
       "7       1901  10026.0  \n",
       "8       1999  10026.0  "
      ]
     },
     "execution_count": 21,
     "metadata": {},
     "output_type": "execute_result"
    }
   ],
   "source": [
    "df.head()"
   ]
  },
  {
   "cell_type": "code",
   "execution_count": 22,
   "metadata": {},
   "outputs": [
    {
     "name": "stdout",
     "output_type": "stream",
     "text": [
      "<class 'pandas.core.frame.DataFrame'>\n",
      "Int64Index: 4588 entries, 3 to 5503\n",
      "Data columns (total 9 columns):\n",
      "Neighborhood    4588 non-null object\n",
      "bath            4588 non-null int64\n",
      "bed             4588 non-null int64\n",
      "latitude        4588 non-null float64\n",
      "logitude        4588 non-null float64\n",
      "price           4588 non-null float64\n",
      "size            4588 non-null int64\n",
      "year built      4588 non-null int64\n",
      "zipcode         4588 non-null object\n",
      "dtypes: float64(3), int64(4), object(2)\n",
      "memory usage: 358.4+ KB\n"
     ]
    },
    {
     "name": "stderr",
     "output_type": "stream",
     "text": [
      "/Users/sarahyu/anaconda3/lib/python3.6/site-packages/ipykernel_launcher.py:1: SettingWithCopyWarning: \n",
      "A value is trying to be set on a copy of a slice from a DataFrame.\n",
      "Try using .loc[row_indexer,col_indexer] = value instead\n",
      "\n",
      "See the caveats in the documentation: http://pandas.pydata.org/pandas-docs/stable/indexing.html#indexing-view-versus-copy\n",
      "  \"\"\"Entry point for launching an IPython kernel.\n"
     ]
    }
   ],
   "source": [
    "df['zipcode']=df['zipcode'].apply(int).apply(str)\n",
    "df =  df[df['year built'] != 'Shared']\n",
    "df['year built']=df['year built'].apply(float).apply(int)\n",
    "df['bed']=df['bed'].apply(int)\n",
    "df['bath']=df['bath'].apply(int)\n",
    "df['size']=df['size'].apply(float).apply(int)\n",
    "df.info()"
   ]
  },
  {
   "cell_type": "code",
   "execution_count": 37,
   "metadata": {},
   "outputs": [],
   "source": [
    "y = df.price\n",
    "X = df[['logitude','latitude','bath','bed','size','year built']]"
   ]
  },
  {
   "cell_type": "code",
   "execution_count": 38,
   "metadata": {},
   "outputs": [],
   "source": [
    "normalized_X = preprocessing.normalize(X)"
   ]
  },
  {
   "cell_type": "code",
   "execution_count": 39,
   "metadata": {},
   "outputs": [],
   "source": [
    "X_train, X_test, y_train, y_test = train_test_split(X,y , test_size = 0.2, random_state = 4)"
   ]
  },
  {
   "cell_type": "code",
   "execution_count": 33,
   "metadata": {},
   "outputs": [
    {
     "name": "stdout",
     "output_type": "stream",
     "text": [
      "(3670, 6)\n",
      "(3670,)\n",
      "(918, 8)\n",
      "(918,)\n"
     ]
    }
   ],
   "source": [
    "print(X_train.shape)\n",
    "print(y_train.shape)\n",
    "print(X_test.shape)\n",
    "print(y_test.shape)"
   ]
  },
  {
   "cell_type": "code",
   "execution_count": 34,
   "metadata": {},
   "outputs": [],
   "source": [
    "from sklearn.neighbors import KNeighborsClassifier\n",
    "from sklearn import neighbors\n",
    "import seaborn as sns"
   ]
  },
  {
   "cell_type": "markdown",
   "metadata": {},
   "source": [
    "**k-NN Regression**\n",
    "\n",
    "the k-NN algorithm is used for estimating continuous variables. One such algorithm uses a weighted average of the k nearest neighbors, weighted by the inverse of their distance. This algorithm works as follows:\n",
    "\n",
    "Compute the Euclidean or Mahalanobis distance from the query example to the labeled examples.\n",
    "Order the labeled examples by increasing distance.\n",
    "Find a heuristically optimal number k of nearest neighbors, based on RMSE. This is done using cross validation.\n",
    "Calculate an inverse distance weighted average with the k-nearest multivariate neighbors.\n"
   ]
  },
  {
   "cell_type": "markdown",
   "metadata": {},
   "source": [
    "**weight function used in prediction. Possible values:**\n",
    "\n",
    "- ‘uniform’ : uniform weights. All points in each neighborhood are weighted equally.\n",
    "\n",
    "- ‘distance’ : weight points by the inverse of their distance. in this case, closer neighbors of a query point will have a greater influence than neighbors which are further away."
   ]
  },
  {
   "cell_type": "code",
   "execution_count": 35,
   "metadata": {},
   "outputs": [
    {
     "data": {
      "text/plain": [
       "99"
      ]
     },
     "execution_count": 35,
     "metadata": {},
     "output_type": "execute_result"
    }
   ],
   "source": [
    "len(range(1,100))"
   ]
  },
  {
   "cell_type": "code",
   "execution_count": 36,
   "metadata": {},
   "outputs": [
    {
     "ename": "ValueError",
     "evalue": "query data dimension must match training data dimension",
     "output_type": "error",
     "traceback": [
      "\u001b[0;31m---------------------------------------------------------------------------\u001b[0m",
      "\u001b[0;31mValueError\u001b[0m                                Traceback (most recent call last)",
      "\u001b[0;32m<ipython-input-36-e4a21e2d48b2>\u001b[0m in \u001b[0;36m<module>\u001b[0;34m()\u001b[0m\n\u001b[1;32m      2\u001b[0m \u001b[0;32mfor\u001b[0m \u001b[0mi\u001b[0m \u001b[0;32min\u001b[0m \u001b[0mrange\u001b[0m\u001b[0;34m(\u001b[0m\u001b[0;36m1\u001b[0m\u001b[0;34m,\u001b[0m\u001b[0;36m51\u001b[0m\u001b[0;34m)\u001b[0m\u001b[0;34m:\u001b[0m\u001b[0;34m\u001b[0m\u001b[0;34m\u001b[0m\u001b[0m\n\u001b[1;32m      3\u001b[0m     \u001b[0mknn\u001b[0m \u001b[0;34m=\u001b[0m \u001b[0mneighbors\u001b[0m\u001b[0;34m.\u001b[0m\u001b[0mKNeighborsRegressor\u001b[0m\u001b[0;34m(\u001b[0m\u001b[0mi\u001b[0m\u001b[0;34m,\u001b[0m \u001b[0mweights\u001b[0m\u001b[0;34m=\u001b[0m\u001b[0;34m'uniform'\u001b[0m\u001b[0;34m)\u001b[0m\u001b[0;34m\u001b[0m\u001b[0;34m\u001b[0m\u001b[0m\n\u001b[0;32m----> 4\u001b[0;31m     \u001b[0my_pred\u001b[0m \u001b[0;34m=\u001b[0m \u001b[0mknn\u001b[0m\u001b[0;34m.\u001b[0m\u001b[0mfit\u001b[0m\u001b[0;34m(\u001b[0m\u001b[0mX_train\u001b[0m\u001b[0;34m,\u001b[0m \u001b[0my_train\u001b[0m\u001b[0;34m)\u001b[0m\u001b[0;34m.\u001b[0m\u001b[0mpredict\u001b[0m\u001b[0;34m(\u001b[0m\u001b[0mX_test\u001b[0m\u001b[0;34m)\u001b[0m\u001b[0;34m\u001b[0m\u001b[0;34m\u001b[0m\u001b[0m\n\u001b[0m\u001b[1;32m      5\u001b[0m     \u001b[0mmse\u001b[0m\u001b[0;34m[\u001b[0m\u001b[0mi\u001b[0m\u001b[0;34m-\u001b[0m\u001b[0;36m1\u001b[0m\u001b[0;34m]\u001b[0m \u001b[0;34m=\u001b[0m \u001b[0mmean_squared_error\u001b[0m\u001b[0;34m(\u001b[0m\u001b[0my_test\u001b[0m\u001b[0;34m,\u001b[0m \u001b[0my_pred\u001b[0m\u001b[0;34m)\u001b[0m\u001b[0;34m\u001b[0m\u001b[0;34m\u001b[0m\u001b[0m\n\u001b[1;32m      6\u001b[0m \u001b[0mplt\u001b[0m\u001b[0;34m.\u001b[0m\u001b[0mplot\u001b[0m\u001b[0;34m(\u001b[0m\u001b[0mrange\u001b[0m\u001b[0;34m(\u001b[0m\u001b[0;36m1\u001b[0m\u001b[0;34m,\u001b[0m\u001b[0;36m51\u001b[0m\u001b[0;34m)\u001b[0m\u001b[0;34m,\u001b[0m\u001b[0mmse\u001b[0m\u001b[0;34m)\u001b[0m\u001b[0;34m\u001b[0m\u001b[0;34m\u001b[0m\u001b[0m\n",
      "\u001b[0;32m~/anaconda3/lib/python3.6/site-packages/sklearn/neighbors/regression.py\u001b[0m in \u001b[0;36mpredict\u001b[0;34m(self, X)\u001b[0m\n\u001b[1;32m    155\u001b[0m         \u001b[0mX\u001b[0m \u001b[0;34m=\u001b[0m \u001b[0mcheck_array\u001b[0m\u001b[0;34m(\u001b[0m\u001b[0mX\u001b[0m\u001b[0;34m,\u001b[0m \u001b[0maccept_sparse\u001b[0m\u001b[0;34m=\u001b[0m\u001b[0;34m'csr'\u001b[0m\u001b[0;34m)\u001b[0m\u001b[0;34m\u001b[0m\u001b[0;34m\u001b[0m\u001b[0m\n\u001b[1;32m    156\u001b[0m \u001b[0;34m\u001b[0m\u001b[0m\n\u001b[0;32m--> 157\u001b[0;31m         \u001b[0mneigh_dist\u001b[0m\u001b[0;34m,\u001b[0m \u001b[0mneigh_ind\u001b[0m \u001b[0;34m=\u001b[0m \u001b[0mself\u001b[0m\u001b[0;34m.\u001b[0m\u001b[0mkneighbors\u001b[0m\u001b[0;34m(\u001b[0m\u001b[0mX\u001b[0m\u001b[0;34m)\u001b[0m\u001b[0;34m\u001b[0m\u001b[0;34m\u001b[0m\u001b[0m\n\u001b[0m\u001b[1;32m    158\u001b[0m \u001b[0;34m\u001b[0m\u001b[0m\n\u001b[1;32m    159\u001b[0m         \u001b[0mweights\u001b[0m \u001b[0;34m=\u001b[0m \u001b[0m_get_weights\u001b[0m\u001b[0;34m(\u001b[0m\u001b[0mneigh_dist\u001b[0m\u001b[0;34m,\u001b[0m \u001b[0mself\u001b[0m\u001b[0;34m.\u001b[0m\u001b[0mweights\u001b[0m\u001b[0;34m)\u001b[0m\u001b[0;34m\u001b[0m\u001b[0;34m\u001b[0m\u001b[0m\n",
      "\u001b[0;32m~/anaconda3/lib/python3.6/site-packages/sklearn/neighbors/base.py\u001b[0m in \u001b[0;36mkneighbors\u001b[0;34m(self, X, n_neighbors, return_distance)\u001b[0m\n\u001b[1;32m    453\u001b[0m                 delayed_query(\n\u001b[1;32m    454\u001b[0m                     self._tree, X[s], n_neighbors, return_distance)\n\u001b[0;32m--> 455\u001b[0;31m                 \u001b[0;32mfor\u001b[0m \u001b[0ms\u001b[0m \u001b[0;32min\u001b[0m \u001b[0mgen_even_slices\u001b[0m\u001b[0;34m(\u001b[0m\u001b[0mX\u001b[0m\u001b[0;34m.\u001b[0m\u001b[0mshape\u001b[0m\u001b[0;34m[\u001b[0m\u001b[0;36m0\u001b[0m\u001b[0;34m]\u001b[0m\u001b[0;34m,\u001b[0m \u001b[0mn_jobs\u001b[0m\u001b[0;34m)\u001b[0m\u001b[0;34m\u001b[0m\u001b[0;34m\u001b[0m\u001b[0m\n\u001b[0m\u001b[1;32m    456\u001b[0m             )\n\u001b[1;32m    457\u001b[0m         \u001b[0;32melse\u001b[0m\u001b[0;34m:\u001b[0m\u001b[0;34m\u001b[0m\u001b[0;34m\u001b[0m\u001b[0m\n",
      "\u001b[0;32m~/anaconda3/lib/python3.6/site-packages/sklearn/externals/joblib/parallel.py\u001b[0m in \u001b[0;36m__call__\u001b[0;34m(self, iterable)\u001b[0m\n\u001b[1;32m    915\u001b[0m             \u001b[0;31m# remaining jobs.\u001b[0m\u001b[0;34m\u001b[0m\u001b[0;34m\u001b[0m\u001b[0;34m\u001b[0m\u001b[0m\n\u001b[1;32m    916\u001b[0m             \u001b[0mself\u001b[0m\u001b[0;34m.\u001b[0m\u001b[0m_iterating\u001b[0m \u001b[0;34m=\u001b[0m \u001b[0;32mFalse\u001b[0m\u001b[0;34m\u001b[0m\u001b[0;34m\u001b[0m\u001b[0m\n\u001b[0;32m--> 917\u001b[0;31m             \u001b[0;32mif\u001b[0m \u001b[0mself\u001b[0m\u001b[0;34m.\u001b[0m\u001b[0mdispatch_one_batch\u001b[0m\u001b[0;34m(\u001b[0m\u001b[0miterator\u001b[0m\u001b[0;34m)\u001b[0m\u001b[0;34m:\u001b[0m\u001b[0;34m\u001b[0m\u001b[0;34m\u001b[0m\u001b[0m\n\u001b[0m\u001b[1;32m    918\u001b[0m                 \u001b[0mself\u001b[0m\u001b[0;34m.\u001b[0m\u001b[0m_iterating\u001b[0m \u001b[0;34m=\u001b[0m \u001b[0mself\u001b[0m\u001b[0;34m.\u001b[0m\u001b[0m_original_iterator\u001b[0m \u001b[0;32mis\u001b[0m \u001b[0;32mnot\u001b[0m \u001b[0;32mNone\u001b[0m\u001b[0;34m\u001b[0m\u001b[0;34m\u001b[0m\u001b[0m\n\u001b[1;32m    919\u001b[0m \u001b[0;34m\u001b[0m\u001b[0m\n",
      "\u001b[0;32m~/anaconda3/lib/python3.6/site-packages/sklearn/externals/joblib/parallel.py\u001b[0m in \u001b[0;36mdispatch_one_batch\u001b[0;34m(self, iterator)\u001b[0m\n\u001b[1;32m    757\u001b[0m                 \u001b[0;32mreturn\u001b[0m \u001b[0;32mFalse\u001b[0m\u001b[0;34m\u001b[0m\u001b[0;34m\u001b[0m\u001b[0m\n\u001b[1;32m    758\u001b[0m             \u001b[0;32melse\u001b[0m\u001b[0;34m:\u001b[0m\u001b[0;34m\u001b[0m\u001b[0;34m\u001b[0m\u001b[0m\n\u001b[0;32m--> 759\u001b[0;31m                 \u001b[0mself\u001b[0m\u001b[0;34m.\u001b[0m\u001b[0m_dispatch\u001b[0m\u001b[0;34m(\u001b[0m\u001b[0mtasks\u001b[0m\u001b[0;34m)\u001b[0m\u001b[0;34m\u001b[0m\u001b[0;34m\u001b[0m\u001b[0m\n\u001b[0m\u001b[1;32m    760\u001b[0m                 \u001b[0;32mreturn\u001b[0m \u001b[0;32mTrue\u001b[0m\u001b[0;34m\u001b[0m\u001b[0;34m\u001b[0m\u001b[0m\n\u001b[1;32m    761\u001b[0m \u001b[0;34m\u001b[0m\u001b[0m\n",
      "\u001b[0;32m~/anaconda3/lib/python3.6/site-packages/sklearn/externals/joblib/parallel.py\u001b[0m in \u001b[0;36m_dispatch\u001b[0;34m(self, batch)\u001b[0m\n\u001b[1;32m    714\u001b[0m         \u001b[0;32mwith\u001b[0m \u001b[0mself\u001b[0m\u001b[0;34m.\u001b[0m\u001b[0m_lock\u001b[0m\u001b[0;34m:\u001b[0m\u001b[0;34m\u001b[0m\u001b[0;34m\u001b[0m\u001b[0m\n\u001b[1;32m    715\u001b[0m             \u001b[0mjob_idx\u001b[0m \u001b[0;34m=\u001b[0m \u001b[0mlen\u001b[0m\u001b[0;34m(\u001b[0m\u001b[0mself\u001b[0m\u001b[0;34m.\u001b[0m\u001b[0m_jobs\u001b[0m\u001b[0;34m)\u001b[0m\u001b[0;34m\u001b[0m\u001b[0;34m\u001b[0m\u001b[0m\n\u001b[0;32m--> 716\u001b[0;31m             \u001b[0mjob\u001b[0m \u001b[0;34m=\u001b[0m \u001b[0mself\u001b[0m\u001b[0;34m.\u001b[0m\u001b[0m_backend\u001b[0m\u001b[0;34m.\u001b[0m\u001b[0mapply_async\u001b[0m\u001b[0;34m(\u001b[0m\u001b[0mbatch\u001b[0m\u001b[0;34m,\u001b[0m \u001b[0mcallback\u001b[0m\u001b[0;34m=\u001b[0m\u001b[0mcb\u001b[0m\u001b[0;34m)\u001b[0m\u001b[0;34m\u001b[0m\u001b[0;34m\u001b[0m\u001b[0m\n\u001b[0m\u001b[1;32m    717\u001b[0m             \u001b[0;31m# A job can complete so quickly than its callback is\u001b[0m\u001b[0;34m\u001b[0m\u001b[0;34m\u001b[0m\u001b[0;34m\u001b[0m\u001b[0m\n\u001b[1;32m    718\u001b[0m             \u001b[0;31m# called before we get here, causing self._jobs to\u001b[0m\u001b[0;34m\u001b[0m\u001b[0;34m\u001b[0m\u001b[0;34m\u001b[0m\u001b[0m\n",
      "\u001b[0;32m~/anaconda3/lib/python3.6/site-packages/sklearn/externals/joblib/_parallel_backends.py\u001b[0m in \u001b[0;36mapply_async\u001b[0;34m(self, func, callback)\u001b[0m\n\u001b[1;32m    180\u001b[0m     \u001b[0;32mdef\u001b[0m \u001b[0mapply_async\u001b[0m\u001b[0;34m(\u001b[0m\u001b[0mself\u001b[0m\u001b[0;34m,\u001b[0m \u001b[0mfunc\u001b[0m\u001b[0;34m,\u001b[0m \u001b[0mcallback\u001b[0m\u001b[0;34m=\u001b[0m\u001b[0;32mNone\u001b[0m\u001b[0;34m)\u001b[0m\u001b[0;34m:\u001b[0m\u001b[0;34m\u001b[0m\u001b[0;34m\u001b[0m\u001b[0m\n\u001b[1;32m    181\u001b[0m         \u001b[0;34m\"\"\"Schedule a func to be run\"\"\"\u001b[0m\u001b[0;34m\u001b[0m\u001b[0;34m\u001b[0m\u001b[0m\n\u001b[0;32m--> 182\u001b[0;31m         \u001b[0mresult\u001b[0m \u001b[0;34m=\u001b[0m \u001b[0mImmediateResult\u001b[0m\u001b[0;34m(\u001b[0m\u001b[0mfunc\u001b[0m\u001b[0;34m)\u001b[0m\u001b[0;34m\u001b[0m\u001b[0;34m\u001b[0m\u001b[0m\n\u001b[0m\u001b[1;32m    183\u001b[0m         \u001b[0;32mif\u001b[0m \u001b[0mcallback\u001b[0m\u001b[0;34m:\u001b[0m\u001b[0;34m\u001b[0m\u001b[0;34m\u001b[0m\u001b[0m\n\u001b[1;32m    184\u001b[0m             \u001b[0mcallback\u001b[0m\u001b[0;34m(\u001b[0m\u001b[0mresult\u001b[0m\u001b[0;34m)\u001b[0m\u001b[0;34m\u001b[0m\u001b[0;34m\u001b[0m\u001b[0m\n",
      "\u001b[0;32m~/anaconda3/lib/python3.6/site-packages/sklearn/externals/joblib/_parallel_backends.py\u001b[0m in \u001b[0;36m__init__\u001b[0;34m(self, batch)\u001b[0m\n\u001b[1;32m    547\u001b[0m         \u001b[0;31m# Don't delay the application, to avoid keeping the input\u001b[0m\u001b[0;34m\u001b[0m\u001b[0;34m\u001b[0m\u001b[0;34m\u001b[0m\u001b[0m\n\u001b[1;32m    548\u001b[0m         \u001b[0;31m# arguments in memory\u001b[0m\u001b[0;34m\u001b[0m\u001b[0;34m\u001b[0m\u001b[0;34m\u001b[0m\u001b[0m\n\u001b[0;32m--> 549\u001b[0;31m         \u001b[0mself\u001b[0m\u001b[0;34m.\u001b[0m\u001b[0mresults\u001b[0m \u001b[0;34m=\u001b[0m \u001b[0mbatch\u001b[0m\u001b[0;34m(\u001b[0m\u001b[0;34m)\u001b[0m\u001b[0;34m\u001b[0m\u001b[0;34m\u001b[0m\u001b[0m\n\u001b[0m\u001b[1;32m    550\u001b[0m \u001b[0;34m\u001b[0m\u001b[0m\n\u001b[1;32m    551\u001b[0m     \u001b[0;32mdef\u001b[0m \u001b[0mget\u001b[0m\u001b[0;34m(\u001b[0m\u001b[0mself\u001b[0m\u001b[0;34m)\u001b[0m\u001b[0;34m:\u001b[0m\u001b[0;34m\u001b[0m\u001b[0;34m\u001b[0m\u001b[0m\n",
      "\u001b[0;32m~/anaconda3/lib/python3.6/site-packages/sklearn/externals/joblib/parallel.py\u001b[0m in \u001b[0;36m__call__\u001b[0;34m(self)\u001b[0m\n\u001b[1;32m    223\u001b[0m         \u001b[0;32mwith\u001b[0m \u001b[0mparallel_backend\u001b[0m\u001b[0;34m(\u001b[0m\u001b[0mself\u001b[0m\u001b[0;34m.\u001b[0m\u001b[0m_backend\u001b[0m\u001b[0;34m,\u001b[0m \u001b[0mn_jobs\u001b[0m\u001b[0;34m=\u001b[0m\u001b[0mself\u001b[0m\u001b[0;34m.\u001b[0m\u001b[0m_n_jobs\u001b[0m\u001b[0;34m)\u001b[0m\u001b[0;34m:\u001b[0m\u001b[0;34m\u001b[0m\u001b[0;34m\u001b[0m\u001b[0m\n\u001b[1;32m    224\u001b[0m             return [func(*args, **kwargs)\n\u001b[0;32m--> 225\u001b[0;31m                     for func, args, kwargs in self.items]\n\u001b[0m\u001b[1;32m    226\u001b[0m \u001b[0;34m\u001b[0m\u001b[0m\n\u001b[1;32m    227\u001b[0m     \u001b[0;32mdef\u001b[0m \u001b[0m__len__\u001b[0m\u001b[0;34m(\u001b[0m\u001b[0mself\u001b[0m\u001b[0;34m)\u001b[0m\u001b[0;34m:\u001b[0m\u001b[0;34m\u001b[0m\u001b[0;34m\u001b[0m\u001b[0m\n",
      "\u001b[0;32m~/anaconda3/lib/python3.6/site-packages/sklearn/externals/joblib/parallel.py\u001b[0m in \u001b[0;36m<listcomp>\u001b[0;34m(.0)\u001b[0m\n\u001b[1;32m    223\u001b[0m         \u001b[0;32mwith\u001b[0m \u001b[0mparallel_backend\u001b[0m\u001b[0;34m(\u001b[0m\u001b[0mself\u001b[0m\u001b[0;34m.\u001b[0m\u001b[0m_backend\u001b[0m\u001b[0;34m,\u001b[0m \u001b[0mn_jobs\u001b[0m\u001b[0;34m=\u001b[0m\u001b[0mself\u001b[0m\u001b[0;34m.\u001b[0m\u001b[0m_n_jobs\u001b[0m\u001b[0;34m)\u001b[0m\u001b[0;34m:\u001b[0m\u001b[0;34m\u001b[0m\u001b[0;34m\u001b[0m\u001b[0m\n\u001b[1;32m    224\u001b[0m             return [func(*args, **kwargs)\n\u001b[0;32m--> 225\u001b[0;31m                     for func, args, kwargs in self.items]\n\u001b[0m\u001b[1;32m    226\u001b[0m \u001b[0;34m\u001b[0m\u001b[0m\n\u001b[1;32m    227\u001b[0m     \u001b[0;32mdef\u001b[0m \u001b[0m__len__\u001b[0m\u001b[0;34m(\u001b[0m\u001b[0mself\u001b[0m\u001b[0;34m)\u001b[0m\u001b[0;34m:\u001b[0m\u001b[0;34m\u001b[0m\u001b[0;34m\u001b[0m\u001b[0m\n",
      "\u001b[0;32m~/anaconda3/lib/python3.6/site-packages/sklearn/neighbors/base.py\u001b[0m in \u001b[0;36m_tree_query_parallel_helper\u001b[0;34m(tree, data, n_neighbors, return_distance)\u001b[0m\n\u001b[1;32m    290\u001b[0m     \u001b[0munder\u001b[0m \u001b[0mPyPy\u001b[0m\u001b[0;34m.\u001b[0m\u001b[0;34m\u001b[0m\u001b[0;34m\u001b[0m\u001b[0m\n\u001b[1;32m    291\u001b[0m     \"\"\"\n\u001b[0;32m--> 292\u001b[0;31m     \u001b[0;32mreturn\u001b[0m \u001b[0mtree\u001b[0m\u001b[0;34m.\u001b[0m\u001b[0mquery\u001b[0m\u001b[0;34m(\u001b[0m\u001b[0mdata\u001b[0m\u001b[0;34m,\u001b[0m \u001b[0mn_neighbors\u001b[0m\u001b[0;34m,\u001b[0m \u001b[0mreturn_distance\u001b[0m\u001b[0;34m)\u001b[0m\u001b[0;34m\u001b[0m\u001b[0;34m\u001b[0m\u001b[0m\n\u001b[0m\u001b[1;32m    293\u001b[0m \u001b[0;34m\u001b[0m\u001b[0m\n\u001b[1;32m    294\u001b[0m \u001b[0;34m\u001b[0m\u001b[0m\n",
      "\u001b[0;32msklearn/neighbors/binary_tree.pxi\u001b[0m in \u001b[0;36msklearn.neighbors.kd_tree.BinaryTree.query\u001b[0;34m()\u001b[0m\n",
      "\u001b[0;31mValueError\u001b[0m: query data dimension must match training data dimension"
     ]
    }
   ],
   "source": [
    "mse = np.zeros(50)\n",
    "for i in range(1,51):\n",
    "    knn = neighbors.KNeighborsRegressor(i, weights='uniform')\n",
    "    y_pred = knn.fit(X_train, y_train).predict(X_test)\n",
    "    mse[i-1] = mean_squared_error(y_test, y_pred)\n",
    "plt.plot(range(1,51),mse)\n",
    "plt.xlabel('k (number of neighbors)')\n",
    "plt.ylabel('RMSE')\n",
    "plt.title('Model Selection')\n",
    "plt.show()"
   ]
  },
  {
   "cell_type": "code",
   "execution_count": 31,
   "metadata": {},
   "outputs": [
    {
     "data": {
      "text/plain": [
       "0"
      ]
     },
     "execution_count": 31,
     "metadata": {},
     "output_type": "execute_result"
    }
   ],
   "source": [
    "np.argmin(mse)"
   ]
  },
  {
   "cell_type": "code",
   "execution_count": 40,
   "metadata": {},
   "outputs": [
    {
     "name": "stdout",
     "output_type": "stream",
     "text": [
      "KNN Regresson Model\n",
      "       logitude   latitude  bath  bed    size  year built        MEDV  \\\n",
      "540  -73.983810  40.750098     3    2    1168        2010   2550000.0   \n",
      "2408 -73.965400  40.772899     4    4    4000        1920  13800000.0   \n",
      "4974 -73.974502  40.764499     2    1    1155        1907   3595000.0   \n",
      "2491 -73.962824  40.771825     3    2  143244        1940   2150000.0   \n",
      "579  -73.977500  40.765098     4    3    3873        2016  30000000.0   \n",
      "4637 -73.950798  40.745998     2    2    1025        2019   1230000.0   \n",
      "148  -73.959181  40.813417     1    2    9180        1956    735000.0   \n",
      "5264 -73.967819  40.752562     2    1     895        2001   1350000.0   \n",
      "1935 -74.003799  40.716899     5    4    3238        2014   5500000.0   \n",
      "3269 -73.982428  40.783020     1    2    1200        1891   1250000.0   \n",
      "\n",
      "      Predicted MEDV  \n",
      "540     2.100477e+06  \n",
      "2408    1.221044e+07  \n",
      "4974    1.393756e+06  \n",
      "2491    2.067116e+06  \n",
      "579     1.151844e+07  \n",
      "4637    1.564621e+06  \n",
      "148     1.361535e+07  \n",
      "5264    1.248656e+06  \n",
      "1935    6.690628e+06  \n",
      "3269    1.604512e+06  \n",
      "KNN Regresson Model Performance:--  MSE: 1.60434673755e+13, MAE: 1784636.1\n"
     ]
    }
   ],
   "source": [
    "n_neighbors = 43\n",
    "#for i, weights in enumerate(['uniform', 'distance']):\n",
    "knn = neighbors.KNeighborsRegressor(n_neighbors, weights='uniform')\n",
    "y_pred = knn.fit(X_train, y_train).predict(X_test)\n",
    "\n",
    "# Create Dataset with Testing values and Predicted Prices\n",
    "print(\"KNN Regresson Model\")\n",
    "model_knn = pd.DataFrame(X_test)\n",
    "model_knn['MEDV'] = y_test\n",
    "model_knn['Predicted MEDV'] = y_pred\n",
    "print(model_knn.head(10))\n",
    "\n",
    "# Measure Performance of the Model\n",
    "# Get Mean Squared Error (MSE)\n",
    "from sklearn.metrics import mean_squared_error\n",
    "mse = mean_squared_error(y_test, y_pred)\n",
    "# Get Mean Absolute Error (MAE)\n",
    "from sklearn.metrics import mean_absolute_error\n",
    "mae = mean_absolute_error(y_test, y_pred)\n",
    "\n",
    "err = \"MSE: \" + str(round(mse, 2)) + \",\" + \" MAE: \" + str(round(mae, 2))\n",
    "print(\"KNN Regresson Model Performance:-- \", err)\n",
    "\n",
    "# Create Regression Plot for Test and Prediction values\n",
    "fig = plt.figure(figsize=(12,9))\n",
    "ax = sns.regplot(y_test, y_pred, marker = 'o', color = 'blue')\n",
    "ax.set_title('KNN Regression', fontsize=20)\n",
    "ax.set_xlabel('MEDV or Price', fontsize=20)\n",
    "ax.set_ylabel('Predicted Prices', fontsize=20)\n",
    "# Save the KNN Regrassion Plot along with Error value\n",
    "plt.text(35.0, 10.0, err, fontsize=20, bbox=dict(facecolor='blue', alpha=0.5))\n",
    "plt.savefig( \"KNNRegression.png\", dpi=70)\n",
    "plt.close(fig)"
   ]
  },
  {
   "cell_type": "code",
   "execution_count": null,
   "metadata": {},
   "outputs": [],
   "source": []
  }
 ],
 "metadata": {
  "kernelspec": {
   "display_name": "Python 3",
   "language": "python",
   "name": "python3"
  },
  "language_info": {
   "codemirror_mode": {
    "name": "ipython",
    "version": 3
   },
   "file_extension": ".py",
   "mimetype": "text/x-python",
   "name": "python",
   "nbconvert_exporter": "python",
   "pygments_lexer": "ipython3",
   "version": "3.6.8"
  }
 },
 "nbformat": 4,
 "nbformat_minor": 2
}
