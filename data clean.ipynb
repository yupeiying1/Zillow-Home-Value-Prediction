{
 "cells": [
  {
   "cell_type": "code",
   "execution_count": 2,
   "metadata": {},
   "outputs": [],
   "source": [
    "import pandas as pd\n",
    "import numpy as np\n",
    "import math "
   ]
  },
  {
   "cell_type": "markdown",
   "metadata": {},
   "source": [
    "# mldata binary "
   ]
  },
  {
   "cell_type": "code",
   "execution_count": 4,
   "metadata": {},
   "outputs": [
    {
     "data": {
      "text/html": [
       "<div>\n",
       "<style scoped>\n",
       "    .dataframe tbody tr th:only-of-type {\n",
       "        vertical-align: middle;\n",
       "    }\n",
       "\n",
       "    .dataframe tbody tr th {\n",
       "        vertical-align: top;\n",
       "    }\n",
       "\n",
       "    .dataframe thead th {\n",
       "        text-align: right;\n",
       "    }\n",
       "</style>\n",
       "<table border=\"1\" class=\"dataframe\">\n",
       "  <thead>\n",
       "    <tr style=\"text-align: right;\">\n",
       "      <th></th>\n",
       "      <th>bath</th>\n",
       "      <th>bed</th>\n",
       "      <th>latitude</th>\n",
       "      <th>logitude</th>\n",
       "      <th>price</th>\n",
       "      <th>size</th>\n",
       "      <th>year built</th>\n",
       "      <th>zipcode</th>\n",
       "      <th>distance to subway</th>\n",
       "    </tr>\n",
       "  </thead>\n",
       "  <tbody>\n",
       "    <tr>\n",
       "      <th>0</th>\n",
       "      <td>1.0</td>\n",
       "      <td>3</td>\n",
       "      <td>40.801399</td>\n",
       "      <td>-73.954902</td>\n",
       "      <td>375000</td>\n",
       "      <td>NaN</td>\n",
       "      <td>1920</td>\n",
       "      <td>10026</td>\n",
       "      <td>0.300754</td>\n",
       "    </tr>\n",
       "    <tr>\n",
       "      <th>1</th>\n",
       "      <td>1.0</td>\n",
       "      <td>1</td>\n",
       "      <td>40.805369</td>\n",
       "      <td>-73.951677</td>\n",
       "      <td>279000</td>\n",
       "      <td>NaN</td>\n",
       "      <td>1900</td>\n",
       "      <td>10026</td>\n",
       "      <td>0.300514</td>\n",
       "    </tr>\n",
       "    <tr>\n",
       "      <th>2</th>\n",
       "      <td>1.0</td>\n",
       "      <td>3</td>\n",
       "      <td>40.804500</td>\n",
       "      <td>-73.958000</td>\n",
       "      <td>350000</td>\n",
       "      <td>NaN</td>\n",
       "      <td>1910</td>\n",
       "      <td>10026</td>\n",
       "      <td>0.199483</td>\n",
       "    </tr>\n",
       "    <tr>\n",
       "      <th>3</th>\n",
       "      <td>4.0</td>\n",
       "      <td>6</td>\n",
       "      <td>40.805301</td>\n",
       "      <td>-73.957099</td>\n",
       "      <td>1350000</td>\n",
       "      <td>3264.0</td>\n",
       "      <td>1901</td>\n",
       "      <td>10026</td>\n",
       "      <td>0.149062</td>\n",
       "    </tr>\n",
       "    <tr>\n",
       "      <th>4</th>\n",
       "      <td>4.0</td>\n",
       "      <td>5</td>\n",
       "      <td>40.802393</td>\n",
       "      <td>-73.957916</td>\n",
       "      <td>3995000</td>\n",
       "      <td>3333.0</td>\n",
       "      <td>1900</td>\n",
       "      <td>10026</td>\n",
       "      <td>0.174712</td>\n",
       "    </tr>\n",
       "  </tbody>\n",
       "</table>\n",
       "</div>"
      ],
      "text/plain": [
       "   bath  bed   latitude   logitude    price    size year built  zipcode  \\\n",
       "0   1.0    3  40.801399 -73.954902   375000     NaN       1920    10026   \n",
       "1   1.0    1  40.805369 -73.951677   279000     NaN       1900    10026   \n",
       "2   1.0    3  40.804500 -73.958000   350000     NaN       1910    10026   \n",
       "3   4.0    6  40.805301 -73.957099  1350000  3264.0       1901    10026   \n",
       "4   4.0    5  40.802393 -73.957916  3995000  3333.0       1900    10026   \n",
       "\n",
       "   distance to subway  \n",
       "0            0.300754  \n",
       "1            0.300514  \n",
       "2            0.199483  \n",
       "3            0.149062  \n",
       "4            0.174712  "
      ]
     },
     "execution_count": 4,
     "metadata": {},
     "output_type": "execute_result"
    }
   ],
   "source": [
    "df=pd.read_csv('~/Desktop/da_project/csv_file/subway.csv',encoding = \"ISO-8859-1\")\n",
    "df.head()"
   ]
  },
  {
   "cell_type": "code",
   "execution_count": 5,
   "metadata": {},
   "outputs": [
    {
     "data": {
      "text/html": [
       "<div>\n",
       "<style scoped>\n",
       "    .dataframe tbody tr th:only-of-type {\n",
       "        vertical-align: middle;\n",
       "    }\n",
       "\n",
       "    .dataframe tbody tr th {\n",
       "        vertical-align: top;\n",
       "    }\n",
       "\n",
       "    .dataframe thead th {\n",
       "        text-align: right;\n",
       "    }\n",
       "</style>\n",
       "<table border=\"1\" class=\"dataframe\">\n",
       "  <thead>\n",
       "    <tr style=\"text-align: right;\">\n",
       "      <th></th>\n",
       "      <th>complaints</th>\n",
       "      <th>Zip</th>\n",
       "    </tr>\n",
       "  </thead>\n",
       "  <tbody>\n",
       "    <tr>\n",
       "      <th>0</th>\n",
       "      <td>2675</td>\n",
       "      <td>10019</td>\n",
       "    </tr>\n",
       "    <tr>\n",
       "      <th>471</th>\n",
       "      <td>1056</td>\n",
       "      <td>10022</td>\n",
       "    </tr>\n",
       "    <tr>\n",
       "      <th>841</th>\n",
       "      <td>6536</td>\n",
       "      <td>10036</td>\n",
       "    </tr>\n",
       "    <tr>\n",
       "      <th>1000</th>\n",
       "      <td>5441</td>\n",
       "      <td>10001</td>\n",
       "    </tr>\n",
       "    <tr>\n",
       "      <th>1104</th>\n",
       "      <td>1800</td>\n",
       "      <td>10017</td>\n",
       "    </tr>\n",
       "  </tbody>\n",
       "</table>\n",
       "</div>"
      ],
      "text/plain": [
       "      complaints    Zip\n",
       "0           2675  10019\n",
       "471         1056  10022\n",
       "841         6536  10036\n",
       "1000        5441  10001\n",
       "1104        1800  10017"
      ]
     },
     "execution_count": 5,
     "metadata": {},
     "output_type": "execute_result"
    }
   ],
   "source": [
    "df2=pd.read_csv('~/Desktop/da_project/csv_file/crime.csv',encoding = \"ISO-8859-1\")\n",
    "df3=df2.drop_duplicates()#.set_index('Zip')\n",
    "df3.head()"
   ]
  },
  {
   "cell_type": "code",
   "execution_count": 6,
   "metadata": {},
   "outputs": [
    {
     "name": "stdout",
     "output_type": "stream",
     "text": [
      "<class 'pandas.core.frame.DataFrame'>\n",
      "Int64Index: 3469 entries, 3 to 5503\n",
      "Data columns (total 10 columns):\n",
      "bath                  3469 non-null int64\n",
      "bed                   3469 non-null int64\n",
      "latitude              3469 non-null float64\n",
      "logitude              3469 non-null float64\n",
      "price                 3469 non-null int64\n",
      "size                  3469 non-null int64\n",
      "year built            3469 non-null int64\n",
      "zipcode               3469 non-null object\n",
      "distance to subway    3469 non-null float64\n",
      "complaints            3469 non-null float64\n",
      "dtypes: float64(4), int64(5), object(1)\n",
      "memory usage: 298.1+ KB\n"
     ]
    }
   ],
   "source": [
    "df=df.join(df3.set_index('Zip'), on='zipcode')\n",
    "a=df.replace('--',np.nan).replace('No Data',np.nan).replace('Shared',np.nan).dropna()\n",
    "a['zipcode']=a['zipcode'].apply(int).apply(str)\n",
    "a.replace('nan',np.nan)\n",
    "a['year built']=a['year built'].apply(int)\n",
    "a['bed']=a['bed'].apply(int)\n",
    "a['bath']=a['bath'].apply(int)\n",
    "a['size']=a['size'].apply(int)\n",
    "a.info()"
   ]
  },
  {
   "cell_type": "code",
   "execution_count": 7,
   "metadata": {},
   "outputs": [],
   "source": [
    "#a.to_csv('dataforvisual2.csv',encoding='utf-8',index=False)\n",
    "price_group=a[['zipcode','price']].groupby('zipcode').mean()\n",
    "ddf=pd.DataFrame(price_group).reset_index()"
   ]
  },
  {
   "cell_type": "code",
   "execution_count": 8,
   "metadata": {},
   "outputs": [
    {
     "name": "stdout",
     "output_type": "stream",
     "text": [
      "<class 'pandas.core.frame.DataFrame'>\n",
      "Int64Index: 3469 entries, 3 to 5503\n",
      "Data columns (total 39 columns):\n",
      "bath                  3469 non-null int64\n",
      "bed                   3469 non-null int64\n",
      "latitude              3469 non-null float64\n",
      "logitude              3469 non-null float64\n",
      "price                 3469 non-null int64\n",
      "size                  3469 non-null int64\n",
      "year built            3469 non-null int64\n",
      "distance to subway    3469 non-null float64\n",
      "complaints            3469 non-null float64\n",
      "10001                 3469 non-null uint8\n",
      "10002                 3469 non-null uint8\n",
      "10003                 3469 non-null uint8\n",
      "10007                 3469 non-null uint8\n",
      "10009                 3469 non-null uint8\n",
      "10011                 3469 non-null uint8\n",
      "10012                 3469 non-null uint8\n",
      "10013                 3469 non-null uint8\n",
      "10014                 3469 non-null uint8\n",
      "10016                 3469 non-null uint8\n",
      "10017                 3469 non-null uint8\n",
      "10018                 3469 non-null uint8\n",
      "10021                 3469 non-null uint8\n",
      "10022                 3469 non-null uint8\n",
      "10023                 3469 non-null uint8\n",
      "10024                 3469 non-null uint8\n",
      "10025                 3469 non-null uint8\n",
      "10026                 3469 non-null uint8\n",
      "10027                 3469 non-null uint8\n",
      "10028                 3469 non-null uint8\n",
      "10030                 3469 non-null uint8\n",
      "10031                 3469 non-null uint8\n",
      "10032                 3469 non-null uint8\n",
      "10034                 3469 non-null uint8\n",
      "10036                 3469 non-null uint8\n",
      "10037                 3469 non-null uint8\n",
      "10038                 3469 non-null uint8\n",
      "10039                 3469 non-null uint8\n",
      "10044                 3469 non-null uint8\n",
      "10065                 3469 non-null uint8\n",
      "dtypes: float64(4), int64(5), uint8(30)\n",
      "memory usage: 372.6 KB\n"
     ]
    }
   ],
   "source": [
    "new=pd.get_dummies(a['zipcode']).drop(columns=['10019'])\n",
    "newdf=pd.concat([a,new],sort=False,axis=1).drop(columns=['zipcode'])\n",
    "newdf.info()"
   ]
  },
  {
   "cell_type": "code",
   "execution_count": 7,
   "metadata": {},
   "outputs": [],
   "source": [
    "newdf.to_csv('mldata_binary.csv',index=False)"
   ]
  },
  {
   "cell_type": "markdown",
   "metadata": {},
   "source": [
    "\n"
   ]
  },
  {
   "cell_type": "markdown",
   "metadata": {},
   "source": [
    "# Data for visual"
   ]
  },
  {
   "cell_type": "code",
   "execution_count": 9,
   "metadata": {},
   "outputs": [
    {
     "name": "stdout",
     "output_type": "stream",
     "text": [
      "<class 'pandas.core.frame.DataFrame'>\n",
      "Int64Index: 4077 entries, 4 to 6367\n",
      "Data columns (total 11 columns):\n",
      "Unnamed: 0      4077 non-null int64\n",
      "Neighborhood    4077 non-null object\n",
      "Unnamed: 0.1    4077 non-null int64\n",
      "bath            4077 non-null int64\n",
      "bed             4077 non-null int64\n",
      "latitude        4077 non-null float64\n",
      "logitude        4077 non-null float64\n",
      "price           4077 non-null float64\n",
      "size            4077 non-null float64\n",
      "year built      4077 non-null float64\n",
      "zipcode         4077 non-null object\n",
      "dtypes: float64(5), int64(4), object(2)\n",
      "memory usage: 382.2+ KB\n"
     ]
    }
   ],
   "source": [
    "df=pd.read_csv('~/Desktop/da_project/csv_file/dataset.csv',encoding = \"ISO-8859-1\")\n",
    "a=df.drop(columns=['address','description','page_url','rent','sale']).replace('Shared',np.nan).replace('--',np.nan).replace('No Data',np.nan).dropna()\n",
    "a['zipcode']=a['zipcode'].astype(int).astype(str)\n",
    "a.replace('nan',np.nan)\n",
    "a['year built']=a['year built'].astype(float)\n",
    "a['bed']=a['bed'].astype(int)\n",
    "a['bath']=a['bath'].astype(int)\n",
    "a['size']=a['size'].astype(float)\n",
    "a.info()"
   ]
  },
  {
   "cell_type": "code",
   "execution_count": 18,
   "metadata": {},
   "outputs": [
    {
     "name": "stdout",
     "output_type": "stream",
     "text": [
      "<class 'pandas.core.frame.DataFrame'>\n",
      "Int64Index: 4077 entries, 4 to 6367\n",
      "Data columns (total 11 columns):\n",
      "Unnamed: 0      4077 non-null int64\n",
      "Neighborhood    4077 non-null object\n",
      "Unnamed: 0.1    4077 non-null int64\n",
      "bath            4077 non-null int64\n",
      "bed             4077 non-null int64\n",
      "latitude        4077 non-null float64\n",
      "logitude        4077 non-null float64\n",
      "price           4077 non-null float64\n",
      "size            4077 non-null float64\n",
      "year built      4077 non-null float64\n",
      "zipcode         4077 non-null object\n",
      "dtypes: float64(5), int64(4), object(2)\n",
      "memory usage: 382.2+ KB\n"
     ]
    }
   ],
   "source": [
    "a.to_csv('data for visual.csv',encoding='utf-8',index=False)\n",
    "a.info()"
   ]
  },
  {
   "cell_type": "code",
   "execution_count": null,
   "metadata": {},
   "outputs": [],
   "source": []
  }
 ],
 "metadata": {
  "kernelspec": {
   "display_name": "Python 3",
   "language": "python",
   "name": "python3"
  },
  "language_info": {
   "codemirror_mode": {
    "name": "ipython",
    "version": 3
   },
   "file_extension": ".py",
   "mimetype": "text/x-python",
   "name": "python",
   "nbconvert_exporter": "python",
   "pygments_lexer": "ipython3",
   "version": "3.7.0"
  }
 },
 "nbformat": 4,
 "nbformat_minor": 2
}
