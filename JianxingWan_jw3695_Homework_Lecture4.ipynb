{
 "cells": [
  {
   "cell_type": "markdown",
   "metadata": {},
   "source": [
    "# Homework Lecture4"
   ]
  },
  {
   "cell_type": "markdown",
   "metadata": {},
   "source": [
    "Text Classification, Validation and ROC curve."
   ]
  },
  {
   "cell_type": "markdown",
   "metadata": {},
   "source": [
    "## Preliminaries"
   ]
  },
  {
   "cell_type": "markdown",
   "metadata": {},
   "source": [
    "### Imports"
   ]
  },
  {
   "cell_type": "code",
   "execution_count": 1,
   "metadata": {
    "ExecuteTime": {
     "end_time": "2018-10-01T16:47:01.299335Z",
     "start_time": "2018-10-01T16:46:54.477735Z"
    }
   },
   "outputs": [],
   "source": [
    "import pickle\n",
    "\n",
    "import numpy as np\n",
    "import pandas as pd\n",
    "import matplotlib.pyplot as plt\n",
    "\n",
    "from sklearn.feature_extraction.text import CountVectorizer,TfidfVectorizer\n",
    "from sklearn.preprocessing import normalize\n",
    "from sklearn.neighbors import KNeighborsClassifier\n",
    "from sklearn.naive_bayes import MultinomialNB\n",
    "from sklearn import metrics\n",
    "from sklearn.model_selection import train_test_split, KFold\n",
    "\n",
    "%matplotlib inline"
   ]
  },
  {
   "cell_type": "markdown",
   "metadata": {
    "ExecuteTime": {
     "end_time": "2018-02-15T11:06:16.497625Z",
     "start_time": "2018-02-15T11:06:16.466372Z"
    }
   },
   "source": [
    "### Random Seed"
   ]
  },
  {
   "cell_type": "code",
   "execution_count": 2,
   "metadata": {
    "ExecuteTime": {
     "end_time": "2018-10-01T16:47:01.304335Z",
     "start_time": "2018-10-01T16:47:01.301335Z"
    }
   },
   "outputs": [],
   "source": [
    "seed=136\n",
    "np.random.seed(seed)"
   ]
  },
  {
   "cell_type": "markdown",
   "metadata": {},
   "source": [
    "### Data Directories"
   ]
  },
  {
   "cell_type": "code",
   "execution_count": 3,
   "metadata": {
    "ExecuteTime": {
     "end_time": "2018-10-01T16:47:01.396935Z",
     "start_time": "2018-10-01T16:47:01.306335Z"
    }
   },
   "outputs": [],
   "source": [
    "raw_data_dir=r\"../../raw/C50/C50train\"\n",
    "test_dir    =r\"../../raw/C50/C50test\"\n",
    "data_dir=r\"../../data/C50\"\n"
   ]
  },
  {
   "cell_type": "markdown",
   "metadata": {},
   "source": [
    "## Document Data"
   ]
  },
  {
   "cell_type": "markdown",
   "metadata": {},
   "source": [
    "### Corpus (List of documents)"
   ]
  },
  {
   "cell_type": "code",
   "execution_count": 4,
   "metadata": {
    "ExecuteTime": {
     "end_time": "2018-10-01T16:47:01.699535Z",
     "start_time": "2018-10-01T16:47:01.398935Z"
    }
   },
   "outputs": [
    {
     "data": {
      "text/html": [
       "<div>\n",
       "<style scoped>\n",
       "    .dataframe tbody tr th:only-of-type {\n",
       "        vertical-align: middle;\n",
       "    }\n",
       "\n",
       "    .dataframe tbody tr th {\n",
       "        vertical-align: top;\n",
       "    }\n",
       "\n",
       "    .dataframe thead th {\n",
       "        text-align: right;\n",
       "    }\n",
       "</style>\n",
       "<table border=\"1\" class=\"dataframe\">\n",
       "  <thead>\n",
       "    <tr style=\"text-align: right;\">\n",
       "      <th></th>\n",
       "      <th>filename</th>\n",
       "      <th>label</th>\n",
       "    </tr>\n",
       "    <tr>\n",
       "      <th>document_id</th>\n",
       "      <th></th>\n",
       "      <th></th>\n",
       "    </tr>\n",
       "  </thead>\n",
       "  <tbody>\n",
       "    <tr>\n",
       "      <th>0</th>\n",
       "      <td>../../raw/C50/C50train/RobinSidel/147604newsML...</td>\n",
       "      <td>RobinSidel</td>\n",
       "    </tr>\n",
       "    <tr>\n",
       "      <th>1</th>\n",
       "      <td>../../raw/C50/C50train/RobinSidel/196812newsML...</td>\n",
       "      <td>RobinSidel</td>\n",
       "    </tr>\n",
       "    <tr>\n",
       "      <th>2</th>\n",
       "      <td>../../raw/C50/C50train/RobinSidel/219316newsML...</td>\n",
       "      <td>RobinSidel</td>\n",
       "    </tr>\n",
       "    <tr>\n",
       "      <th>3</th>\n",
       "      <td>../../raw/C50/C50train/RobinSidel/251225newsML...</td>\n",
       "      <td>RobinSidel</td>\n",
       "    </tr>\n",
       "    <tr>\n",
       "      <th>4</th>\n",
       "      <td>../../raw/C50/C50train/RobinSidel/177958newsML...</td>\n",
       "      <td>RobinSidel</td>\n",
       "    </tr>\n",
       "  </tbody>\n",
       "</table>\n",
       "</div>"
      ],
      "text/plain": [
       "                                                      filename       label\n",
       "document_id                                                               \n",
       "0            ../../raw/C50/C50train/RobinSidel/147604newsML...  RobinSidel\n",
       "1            ../../raw/C50/C50train/RobinSidel/196812newsML...  RobinSidel\n",
       "2            ../../raw/C50/C50train/RobinSidel/219316newsML...  RobinSidel\n",
       "3            ../../raw/C50/C50train/RobinSidel/251225newsML...  RobinSidel\n",
       "4            ../../raw/C50/C50train/RobinSidel/177958newsML...  RobinSidel"
      ]
     },
     "execution_count": 4,
     "metadata": {},
     "output_type": "execute_result"
    }
   ],
   "source": [
    "documents_filename=data_dir+\"/C50_documents.csv\"\n",
    "documents=pd.read_csv(documents_filename,index_col=\"document_id\")\n",
    "documents.head()"
   ]
  },
  {
   "cell_type": "code",
   "execution_count": 5,
   "metadata": {
    "ExecuteTime": {
     "end_time": "2018-10-01T16:47:01.719135Z",
     "start_time": "2018-10-01T16:47:01.701535Z"
    }
   },
   "outputs": [
    {
     "data": {
      "text/html": [
       "<div>\n",
       "<style scoped>\n",
       "    .dataframe tbody tr th:only-of-type {\n",
       "        vertical-align: middle;\n",
       "    }\n",
       "\n",
       "    .dataframe tbody tr th {\n",
       "        vertical-align: top;\n",
       "    }\n",
       "\n",
       "    .dataframe thead th {\n",
       "        text-align: right;\n",
       "    }\n",
       "</style>\n",
       "<table border=\"1\" class=\"dataframe\">\n",
       "  <thead>\n",
       "    <tr style=\"text-align: right;\">\n",
       "      <th></th>\n",
       "      <th>filename</th>\n",
       "      <th>label</th>\n",
       "    </tr>\n",
       "    <tr>\n",
       "      <th>document_id</th>\n",
       "      <th></th>\n",
       "      <th></th>\n",
       "    </tr>\n",
       "  </thead>\n",
       "  <tbody>\n",
       "    <tr>\n",
       "      <th>0</th>\n",
       "      <td>../../raw/C50/C50test/RobinSidel/347781newsML.txt</td>\n",
       "      <td>RobinSidel</td>\n",
       "    </tr>\n",
       "    <tr>\n",
       "      <th>1</th>\n",
       "      <td>../../raw/C50/C50test/RobinSidel/306379newsML.txt</td>\n",
       "      <td>RobinSidel</td>\n",
       "    </tr>\n",
       "    <tr>\n",
       "      <th>2</th>\n",
       "      <td>../../raw/C50/C50test/RobinSidel/324849newsML.txt</td>\n",
       "      <td>RobinSidel</td>\n",
       "    </tr>\n",
       "    <tr>\n",
       "      <th>3</th>\n",
       "      <td>../../raw/C50/C50test/RobinSidel/284041newsML.txt</td>\n",
       "      <td>RobinSidel</td>\n",
       "    </tr>\n",
       "    <tr>\n",
       "      <th>4</th>\n",
       "      <td>../../raw/C50/C50test/RobinSidel/363477newsML.txt</td>\n",
       "      <td>RobinSidel</td>\n",
       "    </tr>\n",
       "  </tbody>\n",
       "</table>\n",
       "</div>"
      ],
      "text/plain": [
       "                                                      filename       label\n",
       "document_id                                                               \n",
       "0            ../../raw/C50/C50test/RobinSidel/347781newsML.txt  RobinSidel\n",
       "1            ../../raw/C50/C50test/RobinSidel/306379newsML.txt  RobinSidel\n",
       "2            ../../raw/C50/C50test/RobinSidel/324849newsML.txt  RobinSidel\n",
       "3            ../../raw/C50/C50test/RobinSidel/284041newsML.txt  RobinSidel\n",
       "4            ../../raw/C50/C50test/RobinSidel/363477newsML.txt  RobinSidel"
      ]
     },
     "execution_count": 5,
     "metadata": {},
     "output_type": "execute_result"
    }
   ],
   "source": [
    "test_documents_filename=data_dir+\"/C50_test_documents.csv\"\n",
    "test_documents=pd.read_csv(test_documents_filename,index_col=\"document_id\")\n",
    "test_documents.head()"
   ]
  },
  {
   "cell_type": "markdown",
   "metadata": {},
   "source": [
    "### Load Pre-Trained Features"
   ]
  },
  {
   "cell_type": "markdown",
   "metadata": {},
   "source": [
    "#### Load Features"
   ]
  },
  {
   "cell_type": "markdown",
   "metadata": {},
   "source": [
    "<div class=\"alert alert-block alert-info\"> Problem 1.0 </div>\n",
    "Load the diagram features from files `digram_features.p` and digram_test_features.p` from the data directory (you generated this files while running 'TexFeatures' notebook)"
   ]
  },
  {
   "cell_type": "code",
   "execution_count": 6,
   "metadata": {},
   "outputs": [],
   "source": [
    "digram_features_filename=data_dir+\"/\"+\"digram_features.p\"\n",
    "digram_features=pickle.load(open(digram_features_filename,\"rb\"))\n",
    "\n",
    "digram_test_features_filename=data_dir+\"/\"+\"digram_test_features.p\"\n",
    "digram_test_features=pickle.load(open(digram_test_features_filename,\"rb\"))"
   ]
  },
  {
   "cell_type": "markdown",
   "metadata": {
    "ExecuteTime": {
     "end_time": "2018-01-21T22:03:06.235419Z",
     "start_time": "2018-01-21T22:03:06.219795Z"
    }
   },
   "source": [
    "<div class=\"alert alert-block alert-info\"> Problem 1.2 </div>\n",
    "How many documents are collected in `features`?"
   ]
  },
  {
   "cell_type": "code",
   "execution_count": 7,
   "metadata": {
    "ExecuteTime": {
     "end_time": "2018-02-15T11:09:11.521033Z",
     "start_time": "2018-02-15T11:09:11.509033Z"
    }
   },
   "outputs": [
    {
     "name": "stdout",
     "output_type": "stream",
     "text": [
      "2500\n"
     ]
    }
   ],
   "source": [
    "Y=documents[\"label\"]\n",
    "Y_test = test_documents[\"label\"]\n",
    "X=digram_features\n",
    "X_test=digram_test_features\n",
    "\n",
    "print(Y.shape[0])"
   ]
  },
  {
   "cell_type": "markdown",
   "metadata": {},
   "source": [
    "<div class=\"alert alert-block alert-info\"> Problem 1.3 </div>\n",
    "What is the size of the digram vocabulary?"
   ]
  },
  {
   "cell_type": "code",
   "execution_count": 8,
   "metadata": {
    "ExecuteTime": {
     "end_time": "2018-02-15T11:09:11.537033Z",
     "start_time": "2018-02-15T11:09:11.521033Z"
    }
   },
   "outputs": [
    {
     "name": "stdout",
     "output_type": "stream",
     "text": [
      "388209\n"
     ]
    }
   ],
   "source": [
    "print(X.shape[1])"
   ]
  },
  {
   "cell_type": "markdown",
   "metadata": {
    "ExecuteTime": {
     "end_time": "2018-01-21T22:09:15.766264Z",
     "start_time": "2018-01-21T22:09:15.750639Z"
    }
   },
   "source": [
    "<div class=\"alert alert-block alert-info\"> Problem 1.4 </div>\n",
    "save the features of the  first document into a vector named `v`.\n",
    "What is its shape?"
   ]
  },
  {
   "cell_type": "code",
   "execution_count": 9,
   "metadata": {
    "ExecuteTime": {
     "end_time": "2018-02-15T11:09:11.553033Z",
     "start_time": "2018-02-15T11:09:11.537033Z"
    }
   },
   "outputs": [
    {
     "data": {
      "text/plain": [
       "(1, 388209)"
      ]
     },
     "execution_count": 9,
     "metadata": {},
     "output_type": "execute_result"
    }
   ],
   "source": [
    "v = X[0]\n",
    "v.shape"
   ]
  },
  {
   "cell_type": "markdown",
   "metadata": {},
   "source": [
    "<div class=\"alert alert-block alert-info\"> Problem 1.5 </div>\n",
    "\n",
    "Do we need to normalize the vector features? how can you tell?"
   ]
  },
  {
   "cell_type": "code",
   "execution_count": 10,
   "metadata": {
    "ExecuteTime": {
     "end_time": "2018-02-15T11:09:11.569034Z",
     "start_time": "2018-02-15T11:09:11.553033Z"
    }
   },
   "outputs": [
    {
     "data": {
      "text/plain": [
       "882"
      ]
     },
     "execution_count": 10,
     "metadata": {},
     "output_type": "execute_result"
    }
   ],
   "source": [
    "v.dot(v.T)[0,0]\n",
    "\n",
    "#We need to normalize the vector, because the dot product is not 1."
   ]
  },
  {
   "cell_type": "markdown",
   "metadata": {},
   "source": [
    "<div class=\"alert alert-block alert-info\"> Problem 1.6 </div>\n",
    "If necesary: use `sklearn.preprocessing.normalize` to normalize features and test features."
   ]
  },
  {
   "cell_type": "code",
   "execution_count": 11,
   "metadata": {
    "ExecuteTime": {
     "end_time": "2018-02-15T11:09:11.669033Z",
     "start_time": "2018-02-15T11:09:11.585034Z"
    }
   },
   "outputs": [],
   "source": [
    "features = normalize(X)\n",
    "test_features = normalize(X_test)\n"
   ]
  },
  {
   "cell_type": "markdown",
   "metadata": {},
   "source": [
    "## K-Neighbors Text Classification"
   ]
  },
  {
   "cell_type": "markdown",
   "metadata": {
    "ExecuteTime": {
     "end_time": "2018-02-15T09:41:08.088459Z",
     "start_time": "2018-02-15T09:41:08.072455Z"
    }
   },
   "source": [
    "<div class=\"alert alert-block alert-info\"> Problem 2.0 </div>\n",
    "using `sklearn.model_selection.train_test_split` to separate data into a 90% training set an a 10% validation set"
   ]
  },
  {
   "cell_type": "code",
   "execution_count": 12,
   "metadata": {
    "ExecuteTime": {
     "end_time": "2018-02-15T11:09:11.709034Z",
     "start_time": "2018-02-15T11:09:11.669033Z"
    }
   },
   "outputs": [],
   "source": [
    "train_val = train_test_split(features, Y, train_size = 0.9, test_size = 0.1)\n",
    "\n",
    "feature_train = train_val[0]\n",
    "feature_val = train_val[1]\n",
    "class_train = train_val[2]\n",
    "class_val = train_val[3]"
   ]
  },
  {
   "cell_type": "markdown",
   "metadata": {},
   "source": [
    "<div class=\"alert alert-block alert-info\"> Problem 2.1 </div>\n",
    "Show the sizes of train and validation sets"
   ]
  },
  {
   "cell_type": "code",
   "execution_count": 13,
   "metadata": {
    "ExecuteTime": {
     "end_time": "2018-02-15T11:09:11.717033Z",
     "start_time": "2018-02-15T11:09:11.709034Z"
    }
   },
   "outputs": [
    {
     "name": "stdout",
     "output_type": "stream",
     "text": [
      "(2250, 388209)\n",
      "(250, 388209)\n"
     ]
    }
   ],
   "source": [
    "print(feature_train.shape)\n",
    "print(feature_val.shape)\n"
   ]
  },
  {
   "cell_type": "markdown",
   "metadata": {},
   "source": [
    "<div class=\"alert alert-block alert-info\"> Problem 2.2 </div>\n",
    "To check that all your inputs are set up correctly use `sklearn.neighbors.KNeighborsClassifier` to fit a nearest neighbor classifier to the training data"
   ]
  },
  {
   "cell_type": "code",
   "execution_count": 14,
   "metadata": {
    "ExecuteTime": {
     "end_time": "2018-02-15T11:09:11.733033Z",
     "start_time": "2018-02-15T11:09:11.717033Z"
    }
   },
   "outputs": [
    {
     "data": {
      "text/plain": [
       "KNeighborsClassifier(algorithm='auto', leaf_size=30, metric='minkowski',\n",
       "           metric_params=None, n_jobs=None, n_neighbors=1, p=2,\n",
       "           weights='uniform')"
      ]
     },
     "execution_count": 14,
     "metadata": {},
     "output_type": "execute_result"
    }
   ],
   "source": [
    "sk_model=KNeighborsClassifier(1)\n",
    "sk_model.fit(feature_train,class_train)"
   ]
  },
  {
   "cell_type": "markdown",
   "metadata": {},
   "source": [
    "<div class=\"alert alert-block alert-info\"> Problem 2.3 </div>\n",
    "What is the predicted label for the first document on the test set?\n",
    "Does it agree with the true label for that document?"
   ]
  },
  {
   "cell_type": "code",
   "execution_count": 15,
   "metadata": {
    "ExecuteTime": {
     "end_time": "2018-02-15T11:09:11.849040Z",
     "start_time": "2018-02-15T11:09:11.837033Z"
    }
   },
   "outputs": [
    {
     "name": "stdout",
     "output_type": "stream",
     "text": [
      "0.5272\n",
      "Predict label for the first document:  EricAuchard\n",
      "Actual label for the first document:  RobinSidel\n"
     ]
    }
   ],
   "source": [
    "Y_pred=sk_model.predict(X_test)\n",
    "\n",
    "print(np.average(Y_pred==Y_test))\n",
    "\n",
    "print(\"Predict label for the first document: \",Y_pred[0])\n",
    "print(\"Actual label for the first document: \",Y_test[0])"
   ]
  },
  {
   "cell_type": "code",
   "execution_count": 16,
   "metadata": {},
   "outputs": [],
   "source": [
    "#According to accuracy and predicted label results, it doesn't agree with the true label for that document."
   ]
  },
  {
   "cell_type": "markdown",
   "metadata": {},
   "source": [
    "<div class=\"alert alert-block alert-info\"> Problem 2.4 </div>\n",
    "Use the train/valuation split to select the optimal number of neighbors K in K-neighbors classifier. Use accuracy as \n",
    "your selection metric."
   ]
  },
  {
   "cell_type": "code",
   "execution_count": 17,
   "metadata": {
    "ExecuteTime": {
     "end_time": "2018-02-15T11:09:11.865033Z",
     "start_time": "2018-02-15T11:09:11.849040Z"
    }
   },
   "outputs": [
    {
     "name": "stdout",
     "output_type": "stream",
     "text": [
      "1    0.756\n",
      "2    0.692\n",
      "3    0.656\n",
      "4    0.64\n",
      "5    0.608\n",
      "6    0.6\n",
      "7    0.588\n",
      "8    0.592\n",
      "9    0.576\n",
      "10    0.584\n",
      "11    0.58\n",
      "12    0.588\n",
      "13    0.6\n",
      "14    0.596\n",
      "15    0.572\n",
      "16    0.576\n",
      "17    0.556\n",
      "18    0.556\n",
      "19    0.564\n",
      "20    0.564\n",
      "The optimal numebr of neighbors K is  1\n",
      "The optimal accuracy is  0.756\n"
     ]
    }
   ],
   "source": [
    "# feature_train = train_val[0]\n",
    "# feature_val = train_val[1]\n",
    "# class_train = train_val[2]\n",
    "# class_val = train_val[3]\n",
    "K = np.arange(1,21)\n",
    "accuracy = np.zeros(20)\n",
    "\n",
    "for i in K:\n",
    "    sk_model=KNeighborsClassifier(i)\n",
    "    sk_model.fit(feature_train,class_train)\n",
    "    Y_pred=sk_model.predict(feature_val)\n",
    "    print(i,\"  \",np.average(Y_pred==class_val))\n",
    "    accuracy[i-1] = np.average(Y_pred==class_val)\n",
    "\n",
    "opt_index = accuracy.argmax()\n",
    "print(\"The optimal numebr of neighbors K is \",K[opt_index])\n",
    "print(\"The optimal accuracy is \",accuracy[opt_index])"
   ]
  },
  {
   "cell_type": "markdown",
   "metadata": {},
   "source": [
    "<div class=\"alert alert-block alert-info\"> Problem 2.5 </div>\n",
    "Re-train the best model will all non-test documents and evaluate performance on the test data set."
   ]
  },
  {
   "cell_type": "code",
   "execution_count": 18,
   "metadata": {
    "ExecuteTime": {
     "end_time": "2018-02-15T11:09:13.199699Z",
     "start_time": "2018-02-15T11:09:12.903699Z"
    }
   },
   "outputs": [
    {
     "name": "stdout",
     "output_type": "stream",
     "text": [
      "The optimal numebr of neighbors K is  1\n",
      "The optimal accuracy is  0.5348\n"
     ]
    }
   ],
   "source": [
    "Y=documents[\"label\"]\n",
    "Y_test = test_documents[\"label\"]\n",
    "# X=digram_features\n",
    "# X_test=digram_test_features\n",
    "features = normalize(X)\n",
    "test_features = normalize(X_test)\n",
    "\n",
    "model=KNeighborsClassifier(opt_index+1)\n",
    "model.fit(features,Y)\n",
    "Y_pred = model.predict(test_features)\n",
    "\n",
    "print(\"The optimal numebr of neighbors K is \",K[opt_index])\n",
    "print(\"The optimal accuracy is \",np.average(Y_pred==Y_test))\n",
    "\n"
   ]
  },
  {
   "cell_type": "markdown",
   "metadata": {},
   "source": [
    "<div class=\"alert alert-block alert-info\"> Problem 2.6 </div>\n",
    "Is there a significant difference between the performance in the training and test set? can you speculate on why?"
   ]
  },
  {
   "cell_type": "code",
   "execution_count": 19,
   "metadata": {
    "ExecuteTime": {
     "end_time": "2018-02-15T11:09:13.203698Z",
     "start_time": "2018-02-15T11:09:13.199699Z"
    }
   },
   "outputs": [],
   "source": [
    "#There is a significant lower performance in the test set. \n",
    "#I think test set probably is from different distribution, compared to the train data distribution.\n"
   ]
  },
  {
   "cell_type": "markdown",
   "metadata": {
    "ExecuteTime": {
     "end_time": "2018-01-21T23:09:05.500552Z",
     "start_time": "2018-01-21T23:09:05.484891Z"
    }
   },
   "source": [
    "### Naive Bayes Classifier Amazon Reviews"
   ]
  },
  {
   "cell_type": "code",
   "execution_count": 20,
   "metadata": {
    "ExecuteTime": {
     "end_time": "2018-10-01T16:47:01.736135Z",
     "start_time": "2018-10-01T16:47:01.721135Z"
    }
   },
   "outputs": [],
   "source": [
    "data_dir=r\"../../raw/amazon-reviews\""
   ]
  },
  {
   "cell_type": "code",
   "execution_count": 21,
   "metadata": {
    "ExecuteTime": {
     "end_time": "2018-10-01T16:47:01.757135Z",
     "start_time": "2018-10-01T16:47:01.738135Z"
    }
   },
   "outputs": [],
   "source": [
    "reviews_filename=data_dir+\"/reviews.csv\"    "
   ]
  },
  {
   "cell_type": "markdown",
   "metadata": {
    "ExecuteTime": {
     "end_time": "2018-02-15T10:29:22.080243Z",
     "start_time": "2018-02-15T10:29:22.064587Z"
    }
   },
   "source": [
    "<div class=\"alert alert-block alert-info\"> Problem 3.0 </div>\n",
    "Save file `reviews.csv` posted in canvas into the `data_dir` above"
   ]
  },
  {
   "cell_type": "markdown",
   "metadata": {},
   "source": [
    "<div class=\"alert alert-block alert-info\"> Problem 3.1 </div>\n",
    "Read the reviews file into a data frame"
   ]
  },
  {
   "cell_type": "code",
   "execution_count": 22,
   "metadata": {},
   "outputs": [],
   "source": [
    "reviews = pd.read_csv(reviews_filename)"
   ]
  },
  {
   "cell_type": "markdown",
   "metadata": {},
   "source": [
    "<div class=\"alert alert-block alert-info\"> Problem 3.2 </div>\n",
    "Use panda's function isna() to count how many rows have a missing \"Summary\" column"
   ]
  },
  {
   "cell_type": "code",
   "execution_count": 23,
   "metadata": {},
   "outputs": [
    {
     "data": {
      "text/plain": [
       "27"
      ]
     },
     "execution_count": 23,
     "metadata": {},
     "output_type": "execute_result"
    }
   ],
   "source": [
    "sum(reviews['Summary'].isna() == True)"
   ]
  },
  {
   "cell_type": "markdown",
   "metadata": {
    "ExecuteTime": {
     "end_time": "2018-10-01T16:43:36.794635Z",
     "start_time": "2018-10-01T16:43:36.783635Z"
    }
   },
   "source": [
    "<div class=\"alert alert-block alert-info\"> Problem 3.3 </div>\n",
    "Use panda's function fillna() to turn missing summaries into empty (\"\") summaries"
   ]
  },
  {
   "cell_type": "code",
   "execution_count": 24,
   "metadata": {},
   "outputs": [
    {
     "data": {
      "text/plain": [
       "0"
      ]
     },
     "execution_count": 24,
     "metadata": {},
     "output_type": "execute_result"
    }
   ],
   "source": [
    "reviews['Summary'].fillna('',inplace = True)\n",
    "reviews['Summary'].isna().sum()"
   ]
  },
  {
   "cell_type": "markdown",
   "metadata": {},
   "source": [
    "<div class=\"alert alert-block alert-info\"> Problem 3.4 </div>\n",
    "Create two numpy arrays:\n",
    "1. `documents_all` containing the contents of the \"Summary\" column, after replacing `nan`s by empty strings.\n",
    "2. `labels_all` containing the \"Score\" column\n"
   ]
  },
  {
   "cell_type": "code",
   "execution_count": 49,
   "metadata": {
    "ExecuteTime": {
     "end_time": "2018-02-15T11:09:16.441017Z",
     "start_time": "2018-02-15T11:09:13.251165Z"
    }
   },
   "outputs": [
    {
     "name": "stdout",
     "output_type": "stream",
     "text": [
      "(568454,) (568454,)\n"
     ]
    }
   ],
   "source": [
    "document_all = reviews['Summary'].values\n",
    "labels_all = reviews['Score'].values\n",
    "print(document_all.shape,labels_all.shape)"
   ]
  },
  {
   "cell_type": "markdown",
   "metadata": {},
   "source": [
    "<div class=\"alert alert-block alert-info\"> Problem 3.5 </div>\n",
    "Split `all_documents` and `labels_all` into a training  and test document set using a 10% test split"
   ]
  },
  {
   "cell_type": "code",
   "execution_count": 51,
   "metadata": {},
   "outputs": [
    {
     "name": "stdout",
     "output_type": "stream",
     "text": [
      "(511608,) (56846,) (511608,) (56846,)\n"
     ]
    }
   ],
   "source": [
    "train_test = train_test_split(document_all, labels_all, train_size = 0.9, test_size = 0.1)\n",
    "\n",
    "document_train = train_test[0]\n",
    "document_test = train_test[1]\n",
    "labels_train = train_test[2]\n",
    "labels_test = train_test[3]\n",
    "print(document_train.shape,document_test.shape,labels_train.shape,labels_test.shape)"
   ]
  },
  {
   "cell_type": "markdown",
   "metadata": {
    "ExecuteTime": {
     "end_time": "2018-02-15T10:37:19.293779Z",
     "start_time": "2018-02-15T10:37:19.278157Z"
    }
   },
   "source": [
    "<div class=\"alert alert-block alert-info\"> Problem 3.6 </div>\n",
    "Create `count`, `set` and `Tfidf` features both for your training and test sets using `CountVectorizer` and `TfidfVectorizer`.\n",
    "1. Set the `input` variable to \"content\", as the document array contains the text of the documents not  their filenames as in the `C50` example.\n",
    "2. ** Do not ** set the `tokenizer` and `stopword` variables, they slow down the processing significantly, and, for this example do not really improve performance."
   ]
  },
  {
   "cell_type": "code",
   "execution_count": 52,
   "metadata": {
    "ExecuteTime": {
     "end_time": "2018-02-15T11:09:18.300004Z",
     "start_time": "2018-02-15T11:09:18.284410Z"
    }
   },
   "outputs": [],
   "source": [
    "countVectorizer=CountVectorizer(input=\"content\")"
   ]
  },
  {
   "cell_type": "code",
   "execution_count": 53,
   "metadata": {},
   "outputs": [],
   "source": [
    "setVectorizer=CountVectorizer(input=\"content\",binary=True)"
   ]
  },
  {
   "cell_type": "code",
   "execution_count": 54,
   "metadata": {},
   "outputs": [],
   "source": [
    "tfidfVectorizer=TfidfVectorizer(input=\"content\")"
   ]
  },
  {
   "cell_type": "code",
   "execution_count": 55,
   "metadata": {},
   "outputs": [],
   "source": [
    "count_feature = countVectorizer.fit_transform(document_train)\n",
    "set_feature = setVectorizer.fit_transform(document_train)\n",
    "tfidf_feature = tfidfVectorizer.fit_transform(document_train)"
   ]
  },
  {
   "cell_type": "code",
   "execution_count": 56,
   "metadata": {},
   "outputs": [],
   "source": [
    "count_test_feature = countVectorizer.transform(document_test)\n",
    "set_test_feature = setVectorizer.transform(document_test)\n",
    "tfidf_test_feature = tfidfVectorizer.transform(document_test)"
   ]
  },
  {
   "cell_type": "code",
   "execution_count": null,
   "metadata": {},
   "outputs": [],
   "source": []
  },
  {
   "cell_type": "markdown",
   "metadata": {
    "ExecuteTime": {
     "end_time": "2018-02-15T10:39:07.828239Z",
     "start_time": "2018-02-15T10:39:07.812618Z"
    }
   },
   "source": [
    "<div class=\"alert alert-block alert-info\"> Problem 3.7 </div>\n",
    "Show the number of documents in the training set, and the size of the vocabulary."
   ]
  },
  {
   "cell_type": "code",
   "execution_count": 57,
   "metadata": {
    "ExecuteTime": {
     "end_time": "2018-02-15T11:09:32.529808Z",
     "start_time": "2018-02-15T11:09:32.514185Z"
    }
   },
   "outputs": [
    {
     "name": "stdout",
     "output_type": "stream",
     "text": [
      "The number of document in the training set is  511608\n",
      "The size of the vocabulary is  32052\n"
     ]
    }
   ],
   "source": [
    "print(\"The number of document in the training set is \",count_feature.shape[0])\n",
    "print(\"The size of the vocabulary is \",count_feature.shape[1])      "
   ]
  },
  {
   "cell_type": "markdown",
   "metadata": {},
   "source": [
    "<div class=\"alert alert-block alert-info\"> Problem 3.8 </div>\n",
    "We will perform binary classification: create `Y` and `Y_test` variables that are true if the review score is larger than 3\n",
    "(positive review) and false otherwise (negative review)"
   ]
  },
  {
   "cell_type": "code",
   "execution_count": 58,
   "metadata": {
    "ExecuteTime": {
     "end_time": "2018-02-15T11:09:32.561062Z",
     "start_time": "2018-02-15T11:09:32.529808Z"
    }
   },
   "outputs": [],
   "source": [
    "Y = (labels_train > 3)\n",
    "Y_test = (labels_test > 3)"
   ]
  },
  {
   "cell_type": "markdown",
   "metadata": {},
   "source": [
    "<div class=\"alert alert-block alert-info\"> Problem 3.9 </div>\n",
    "What proportion of reviews are positive on the training set?"
   ]
  },
  {
   "cell_type": "code",
   "execution_count": 73,
   "metadata": {
    "ExecuteTime": {
     "end_time": "2018-02-15T11:09:32.576687Z",
     "start_time": "2018-02-15T11:09:32.561062Z"
    }
   },
   "outputs": [
    {
     "data": {
      "text/plain": [
       "0.7806152366655721"
      ]
     },
     "execution_count": 73,
     "metadata": {},
     "output_type": "execute_result"
    }
   ],
   "source": [
    "np.sum(Y)/len(Y)\n"
   ]
  },
  {
   "cell_type": "markdown",
   "metadata": {
    "ExecuteTime": {
     "end_time": "2018-02-15T10:50:49.844753Z",
     "start_time": "2018-02-15T10:50:49.829126Z"
    }
   },
   "source": [
    "<div class=\"alert alert-block alert-info\"> Problem 3.10 </div>\n",
    "To check that you have all your inputs set up correctly check that you\n",
    "can fit a `MultinomialNB` with smoothing $\\alpha=1$ to the count features.\n",
    "What prediction accuracy do you obtain *in sample* in the training set?"
   ]
  },
  {
   "cell_type": "code",
   "execution_count": 84,
   "metadata": {
    "ExecuteTime": {
     "end_time": "2018-02-15T11:09:32.592315Z",
     "start_time": "2018-02-15T11:09:32.576687Z"
    }
   },
   "outputs": [
    {
     "name": "stdout",
     "output_type": "stream",
     "text": [
      "(511608,)\n",
      "(511608, 32052)\n"
     ]
    },
    {
     "data": {
      "text/plain": [
       "0.885633140998577"
      ]
     },
     "execution_count": 84,
     "metadata": {},
     "output_type": "execute_result"
    }
   ],
   "source": [
    "print(Y.shape)\n",
    "\n",
    "print(count_feature.shape)\n",
    "sk_model=MultinomialNB(alpha=1)  \n",
    "# For example, it models the probability of counts for rolling a k-sided die n times.\n",
    "# For n independent trials each of which leads to a success for exactly one of k categories,\n",
    "# with each category having a given fixed success probability, the multinomial distribution \n",
    "# gives the probability of any particular combination of numbers of successes for the various categories.\n",
    "sk_model.fit(count_feature,Y)\n",
    "\n",
    "Y_pred = sk_model.predict(count_feature)\n",
    "np.average(Y_pred == Y)\n"
   ]
  },
  {
   "cell_type": "markdown",
   "metadata": {
    "ExecuteTime": {
     "end_time": "2018-02-15T10:53:10.490848Z",
     "start_time": "2018-02-15T10:53:10.475228Z"
    }
   },
   "source": [
    "<div class=\"alert alert-block alert-info\"> Problem 3.11 </div>\n",
    "Use K-Fold validation with K=10 to select between multinomial Naive Bayes classifiers trained to either `set`, `count` and `tfidf` featues. Find the features that have the best accuracy. \n",
    "\n",
    "\n",
    "State clearly what model you selected.\n",
    "\n",
    "[HINT] \n",
    "1. Look and how this is done on the `Validate_Text` notebook.\n",
    "2. You can reuse any code you find useful on the `Validate_Text` notebook."
   ]
  },
  {
   "cell_type": "code",
   "execution_count": 90,
   "metadata": {
    "ExecuteTime": {
     "end_time": "2018-02-15T11:09:32.779870Z",
     "start_time": "2018-02-15T11:09:32.764208Z"
    }
   },
   "outputs": [],
   "source": [
    "def model_cross_validation(model,X,y,folds):\n",
    "    kfolds=len(folds)\n",
    "    train_performance=np.empty(kfolds)\n",
    "    validation_performance=np.empty(kfolds)\n",
    "    for idx in range(kfolds):\n",
    "        train,validation=folds[idx] \n",
    "       \n",
    "        X_train=X[train] \n",
    "        y_train=y[train]\n",
    "        \n",
    "        model.fit(X_train,y_train)\n",
    "        train_accuracy=np.average(model.predict(X_train)==y_train)\n",
    "        X_validation=X[validation]\n",
    "        y_validation=y[validation]\n",
    "        validation_accuracy=np.average(model.predict(X_validation)==y_validation)\n",
    "        train_performance[idx]=train_accuracy\n",
    "        validation_performance[idx]=validation_accuracy\n",
    "    return np.array(train_performance),np.array(validation_performance)"
   ]
  },
  {
   "cell_type": "code",
   "execution_count": 98,
   "metadata": {},
   "outputs": [],
   "source": [
    "k = 10\n",
    "kf=KFold(10,shuffle=True)\n",
    "folds=list(kf.split(set_feature))"
   ]
  },
  {
   "cell_type": "code",
   "execution_count": 99,
   "metadata": {},
   "outputs": [
    {
     "name": "stdout",
     "output_type": "stream",
     "text": [
      "0.8859484865231488 0.8771930765666571\n"
     ]
    }
   ],
   "source": [
    "model=MultinomialNB(alpha = 1)\n",
    "t,v_set = model_cross_validation(model,set_feature,np.array(Y),folds)\n",
    "print(t.mean(),v_set.mean())"
   ]
  },
  {
   "cell_type": "code",
   "execution_count": 100,
   "metadata": {},
   "outputs": [
    {
     "name": "stdout",
     "output_type": "stream",
     "text": [
      "0.8858674783708741 0.8771246657690522\n"
     ]
    }
   ],
   "source": [
    "\n",
    "t,v_count=model_cross_validation(model,count_feature,np.array(Y),folds)\n",
    "print(t.mean(),v_count.mean())"
   ]
  },
  {
   "cell_type": "code",
   "execution_count": 101,
   "metadata": {},
   "outputs": [
    {
     "name": "stdout",
     "output_type": "stream",
     "text": [
      "0.8776307033361173 0.8696638765992818\n"
     ]
    }
   ],
   "source": [
    "t,v_tfidf = model_cross_validation(model,tfidf_feature,np.array(Y),folds)\n",
    "print(t.mean(),v_tfidf.mean())"
   ]
  },
  {
   "cell_type": "markdown",
   "metadata": {},
   "source": [
    "<div class=\"alert alert-block alert-info\"> Problem 3.12 </div>\n",
    "Fit the best model to all the training data and compute its accuray on the test set"
   ]
  },
  {
   "cell_type": "code",
   "execution_count": 102,
   "metadata": {
    "ExecuteTime": {
     "end_time": "2018-02-15T11:35:54.052902Z",
     "start_time": "2018-02-15T11:35:53.939194Z"
    }
   },
   "outputs": [
    {
     "data": {
      "text/plain": [
       "0.8809063082714703"
      ]
     },
     "execution_count": 102,
     "metadata": {},
     "output_type": "execute_result"
    }
   ],
   "source": [
    "model.fit(set_feature,np.array(Y))\n",
    "Y_pred = model.predict(set_test_feature)\n",
    "accuracy_set = np.average(Y_pred== Y_test)\n",
    "accuracy_set"
   ]
  },
  {
   "cell_type": "markdown",
   "metadata": {
    "ExecuteTime": {
     "end_time": "2018-02-15T11:15:19.054261Z",
     "start_time": "2018-02-15T11:15:19.038637Z"
    }
   },
   "source": [
    "<div class=\"alert alert-block alert-info\"> Problem 3.13</div>\n",
    "Make a box plot showing the distribution of `set`, `count` and `tfidf` accuracies on the K fold cross-validations.\n",
    "\n",
    "Display clearly in the graph the performance of the best model trained on all the data on the test set.\n"
   ]
  },
  {
   "cell_type": "code",
   "execution_count": 103,
   "metadata": {
    "ExecuteTime": {
     "end_time": "2018-02-15T11:36:02.993804Z",
     "start_time": "2018-02-15T11:36:02.962563Z"
    }
   },
   "outputs": [
    {
     "data": {
      "text/plain": [
       "<matplotlib.lines.Line2D at 0x1a1cc58128>"
      ]
     },
     "execution_count": 103,
     "metadata": {},
     "output_type": "execute_result"
    },
    {
     "data": {
      "image/png": "[encoded data removed]",
      "text/plain": [
       "<Figure size 432x288 with 1 Axes>"
      ]
     },
     "metadata": {
      "needs_background": "light"
     },
     "output_type": "display_data"
    }
   ],
   "source": [
    "accuracy = np.average(Y_pred== Y_test)\n",
    "datav = np.vstack((v_count,v_tfidf,v_set)).T\n",
    "data = pd.DataFrame(datav, columns=[\"Count\",\"Tfidf\",\"Set\"])\n",
    "ax=data.boxplot()\n",
    "ax.axhline(y=accuracy,linestyle=\"dashed\",color=\"Yellow\") #Add a horizontal line across the axis."
   ]
  },
  {
   "cell_type": "markdown",
   "metadata": {},
   "source": [
    "<div class=\"alert alert-block alert-info\"> Problem 3.14</div>\n",
    "1. Why do the `test` and `count` results look so similar in this case?\n",
    "2. Comment on the difference between cross-validation average performace and test performance"
   ]
  },
  {
   "cell_type": "code",
   "execution_count": 67,
   "metadata": {
    "ExecuteTime": {
     "end_time": "2018-02-15T11:20:15.953472Z",
     "start_time": "2018-02-15T11:20:15.922360Z"
    }
   },
   "outputs": [],
   "source": [
    "#1 #I think the reason why 'test' and 'count' results look so similar is that \n",
    "   #  the 'test' result depends on the set features. \n",
    "   #Meanwhile, the training model is based on some short sentences and the probabilty \n",
    "   #  that a kind of word appear above one time is very low.\n",
    "   #So, the 'test' result based on set features is almost equal to 'count' result with count features.\n",
    "#2 #Due to training model depending on short sentences and lower appearance frequency to each word, \n",
    "   #test performance with all data will be better than each cross-validation performace with only 10% of total data,\n",
    "   #Further, the model of test performance will have more parameters to make better prediction."
   ]
  },
  {
   "cell_type": "markdown",
   "metadata": {},
   "source": [
    "<div class=\"alert alert-block alert-info\"> Problem 4.0 </div>\n",
    "With the best features  features fitted to the full training set:\n",
    "use `sklearn` `model.predict_prob` function to compute the probabilities of the positive class.\n",
    "\n",
    "[HINT] `model.predict_prob` returns probabilities for both the negative and positive class, we only need the positive class"
   ]
  },
  {
   "cell_type": "code",
   "execution_count": 68,
   "metadata": {
    "ExecuteTime": {
     "end_time": "2018-02-15T11:28:53.929690Z",
     "start_time": "2018-02-15T11:28:53.800028Z"
    }
   },
   "outputs": [],
   "source": [
    "model.fit(set_feature,Y)\n",
    "p = model.predict_proba(set_test_feature)\n",
    "Prob_positive = p[:,1]"
   ]
  },
  {
   "cell_type": "markdown",
   "metadata": {},
   "source": [
    "<div class=\"alert alert-block alert-info\"> Problem 4.1 </div>\n",
    "use `sklearn` `metrics.roc_curve` to create a roc_curve for the best features classifier\n",
    "\n",
    "Plot the ROC curve."
   ]
  },
  {
   "cell_type": "code",
   "execution_count": 69,
   "metadata": {
    "ExecuteTime": {
     "end_time": "2018-02-15T11:30:19.391035Z",
     "start_time": "2018-02-15T11:30:19.359771Z"
    }
   },
   "outputs": [
    {
     "data": {
      "image/png": "[encoded data removed]",
      "text/plain": [
       "<Figure size 432x288 with 1 Axes>"
      ]
     },
     "metadata": {
      "needs_background": "light"
     },
     "output_type": "display_data"
    }
   ],
   "source": [
    "#Compute Receiver operating characteristic (ROC)\n",
    "#Note: this implementation is restricted to the binary classification task.\n",
    "\n",
    "fpr, tpr, thresholds = metrics.roc_curve(Y_test, Prob_positive)\n",
    "plt.plot(fpr,tpr,label = 'ROC')\n",
    "plt.xlabel('FPR')\n",
    "plt.ylabel('TPR')\n",
    "plt.title(\"ROC graph\")\n",
    "plt.show()"
   ]
  },
  {
   "cell_type": "markdown",
   "metadata": {
    "ExecuteTime": {
     "end_time": "2018-02-15T11:35:23.183871Z",
     "start_time": "2018-02-15T11:35:23.152590Z"
    }
   },
   "source": [
    "<div class=\"alert alert-block alert-info\"> Problem 4.2 </div>\n",
    "1. Find the point on the ROC curve with a threshold probability closest to 0.5.\n",
    "2. Show its rate of false positives and of false negatives.\n",
    "3. Show its accuracy and compare it to the best classifier accuracy that you computed before"
   ]
  },
  {
   "cell_type": "code",
   "execution_count": 70,
   "metadata": {
    "ExecuteTime": {
     "end_time": "2018-02-15T11:36:32.402739Z",
     "start_time": "2018-02-15T11:36:32.371903Z"
    }
   },
   "outputs": [
    {
     "name": "stdout",
     "output_type": "stream",
     "text": [
      "The goal point and value is  11009 and  0.5000674037056736\n",
      "Rate of False Positive and of False Negative:  0.31797716674706544 and  0.9365654836966313\n",
      "Accurancy from ROC is  0.8808711254969568\n",
      "Accurancy from best classfier is  0.8809063082714703\n"
     ]
    }
   ],
   "source": [
    "#1\n",
    "#2\n",
    "goal_index = np.argmin(np.abs(thresholds-0.5))\n",
    "goal_value = thresholds[goal_index]\n",
    "print(\"The goal point and value is \", goal_index, \"and \", goal_value)\n",
    "print(\"Rate of False Positive and of False Negative: \",fpr[goal_index],\"and \",tpr[goal_index])\n",
    "#3\n",
    "accuracy = (1 - fpr[goal_index])*np.mean((Y_test == False)) + tpr[goal_index]*np.mean((Y_test == True))\n",
    "print(\"Accurancy from ROC is \", accuracy)\n",
    "\n",
    "print(\"Accurancy from best classfier is \",accuracy_set)"
   ]
  },
  {
   "cell_type": "markdown",
   "metadata": {
    "ExecuteTime": {
     "end_time": "2018-02-15T11:39:45.896421Z",
     "start_time": "2018-02-15T11:39:45.865167Z"
    }
   },
   "source": [
    "<div class=\"alert alert-block alert-info\"> Problem 4.3 </div>\n",
    "Redraw the ROC curve, highlighting the point of the curve that correspont to optimal accuracy."
   ]
  },
  {
   "cell_type": "code",
   "execution_count": 71,
   "metadata": {
    "ExecuteTime": {
     "end_time": "2018-02-15T11:38:03.154374Z",
     "start_time": "2018-02-15T11:38:02.973456Z"
    }
   },
   "outputs": [
    {
     "data": {
      "image/png": "[encoded data removed]",
      "text/plain": [
       "<Figure size 432x288 with 1 Axes>"
      ]
     },
     "metadata": {
      "needs_background": "light"
     },
     "output_type": "display_data"
    }
   ],
   "source": [
    "plt.plot(fpr[goal_index],tpr[goal_index],label = \"point to optimal accurancy\", color = \"Red\",marker='o',markersize =12)\n",
    "plt.plot(fpr,tpr,label = 'ROC',color = 'blue')\n",
    "plt.xlabel('FPR')\n",
    "plt.ylabel('TPR')\n",
    "plt.title(\"ROC graph\")\n",
    "plt.show()"
   ]
  },
  {
   "cell_type": "code",
   "execution_count": null,
   "metadata": {},
   "outputs": [],
   "source": []
  }
 ],
 "metadata": {
  "kernelspec": {
   "display_name": "Python 3",
   "language": "python",
   "name": "python3"
  },
  "language_info": {
   "codemirror_mode": {
    "name": "ipython",
    "version": 3
   },
   "file_extension": ".py",
   "mimetype": "text/x-python",
   "name": "python",
   "nbconvert_exporter": "python",
   "pygments_lexer": "ipython3",
   "version": "3.7.1"
  },
  "toc": {
   "base_numbering": 1,
   "nav_menu": {},
   "number_sections": true,
   "sideBar": true,
   "skip_h1_title": true,
   "title_cell": "Table of Contents",
   "title_sidebar": "Contents",
   "toc_cell": false,
   "toc_position": {},
   "toc_section_display": "block",
   "toc_window_display": false
  }
 },
 "nbformat": 4,
 "nbformat_minor": 2
}
